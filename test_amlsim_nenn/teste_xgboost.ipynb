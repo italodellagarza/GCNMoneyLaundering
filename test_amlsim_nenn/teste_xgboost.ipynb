{
 "cells": [
  {
   "cell_type": "code",
   "execution_count": 1,
   "id": "7312ae22",
   "metadata": {},
   "outputs": [],
   "source": [
    "import os\n",
    "from torch_geometric.data import Data\n",
    "import torch"
   ]
  },
  {
   "cell_type": "code",
   "execution_count": 2,
   "id": "a62d13ca",
   "metadata": {},
   "outputs": [],
   "source": [
    "dataset = []\n",
    "\n",
    "for ptfile in os.listdir('concept_drift_201'):\n",
    "    dataset.append(torch.load(f'concept_drift_201/{ptfile}'))"
   ]
  },
  {
   "cell_type": "code",
   "execution_count": 3,
   "id": "4164c634",
   "metadata": {},
   "outputs": [],
   "source": [
    "sum=0\n",
    "for i in dataset:\n",
    "    sum += len(i.y)"
   ]
  },
  {
   "cell_type": "code",
   "execution_count": 4,
   "id": "09bf1485",
   "metadata": {},
   "outputs": [
    {
     "data": {
      "text/plain": [
       "21420"
      ]
     },
     "execution_count": 4,
     "metadata": {},
     "output_type": "execute_result"
    }
   ],
   "source": [
    "sum"
   ]
  },
  {
   "cell_type": "code",
   "execution_count": 5,
   "id": "52e65a43",
   "metadata": {},
   "outputs": [],
   "source": [
    "train_data = dataset[0:int(0.8*366)]\n",
    "test_data = dataset[int(0.8*366):]"
   ]
  },
  {
   "cell_type": "code",
   "execution_count": 6,
   "id": "438b86da",
   "metadata": {},
   "outputs": [
    {
     "data": {
      "text/plain": [
       "tensor(69)"
      ]
     },
     "execution_count": 6,
     "metadata": {},
     "output_type": "execute_result"
    }
   ],
   "source": [
    "dataset[1].edge_to_edge_adj_matr.count_nonzero()"
   ]
  },
  {
   "cell_type": "code",
   "execution_count": 7,
   "id": "5a3c9678",
   "metadata": {},
   "outputs": [
    {
     "data": {
      "text/plain": [
       "tensor([0, 0, 0, 0, 0, 0, 0, 0, 0, 0, 0, 1, 0, 0, 0, 0, 0, 0, 0, 0, 0, 1, 0, 0,\n",
       "        0, 0, 0, 0, 0, 1, 0, 0, 0, 0, 0, 0, 0, 0, 1, 0, 0, 0, 1, 0, 0, 0, 0, 0,\n",
       "        0, 0, 1, 0, 0, 0, 0, 0, 0, 0, 0, 0, 0])"
      ]
     },
     "execution_count": 7,
     "metadata": {},
     "output_type": "execute_result"
    }
   ],
   "source": [
    "dataset[1].y"
   ]
  },
  {
   "cell_type": "code",
   "execution_count": 8,
   "id": "b08137ef",
   "metadata": {},
   "outputs": [
    {
     "data": {
      "text/plain": [
       "tensor([[0.0506, 0.7211, 0.4527, 0.7598, 0.6139, 0.5652, 0.8091, 0.6858, 0.1690,\n",
       "         0.4247, 0.6256, 0.0096, 0.5212, 0.6826, 0.6203, 0.4296, 0.3476, 0.1039,\n",
       "         0.4825, 0.5244, 0.8090, 0.0110, 0.6713, 0.7439, 0.4096, 0.5296, 0.0949,\n",
       "         0.0741, 0.2146, 0.0124, 0.6728, 0.7257, 0.1496, 0.3739, 0.5841, 0.2297,\n",
       "         0.0940, 0.3192, 0.0056, 0.6289, 0.3608, 0.3982, 0.0070, 0.7891, 0.5543,\n",
       "         0.7606, 0.8593, 0.3640, 0.3335, 0.5938, 0.0137, 0.4517, 0.3519, 0.0894,\n",
       "         0.3374, 0.2116, 0.3460, 0.3796, 0.1936, 0.7841, 0.5755],\n",
       "        [0.6767, 0.6767, 0.6767, 0.6767, 0.6767, 0.6767, 0.6767, 0.6767, 0.6767,\n",
       "         0.6767, 0.6767, 0.6767, 0.6767, 0.6767, 0.6767, 0.6767, 0.6767, 0.6767,\n",
       "         0.6767, 0.6767, 0.6767, 0.6767, 0.6767, 0.6767, 0.6767, 0.6767, 0.6767,\n",
       "         0.6767, 0.6767, 0.6767, 0.6767, 0.6767, 0.6767, 0.6767, 0.6767, 0.6767,\n",
       "         0.6767, 0.6767, 0.6767, 0.6767, 0.6767, 0.6767, 0.6767, 0.6767, 0.6767,\n",
       "         0.6767, 0.6767, 0.6767, 0.6767, 0.6767, 0.6767, 0.6767, 0.6767, 0.6767,\n",
       "         0.6767, 0.6767, 0.6767, 0.6767, 0.6767, 0.6767, 0.6767],\n",
       "        [1.0000, 0.0000, 1.0000, 0.0000, 0.0000, 1.0000, 0.0000, 1.0000, 0.0000,\n",
       "         1.0000, 0.0000, 0.0000, 1.0000, 1.0000, 0.0000, 0.0000, 0.0000, 0.0000,\n",
       "         0.0000, 1.0000, 0.0000, 1.0000, 1.0000, 1.0000, 1.0000, 1.0000, 0.0000,\n",
       "         0.0000, 0.0000, 0.0000, 1.0000, 1.0000, 1.0000, 1.0000, 0.0000, 0.0000,\n",
       "         0.0000, 0.0000, 0.0000, 0.0000, 0.0000, 0.0000, 0.0000, 0.0000, 0.0000,\n",
       "         1.0000, 1.0000, 1.0000, 0.0000, 1.0000, 0.0000, 0.0000, 0.0000, 1.0000,\n",
       "         1.0000, 1.0000, 0.0000, 1.0000, 1.0000, 0.0000, 0.0000],\n",
       "        [0.0000, 0.0000, 0.0000, 0.0000, 0.0000, 0.0000, 0.0000, 0.0000, 1.0000,\n",
       "         0.0000, 0.0000, 1.0000, 0.0000, 0.0000, 0.0000, 0.0000, 0.0000, 0.0000,\n",
       "         0.0000, 0.0000, 1.0000, 0.0000, 0.0000, 0.0000, 0.0000, 0.0000, 0.0000,\n",
       "         0.0000, 0.0000, 0.0000, 0.0000, 0.0000, 0.0000, 0.0000, 0.0000, 1.0000,\n",
       "         1.0000, 0.0000, 0.0000, 0.0000, 0.0000, 0.0000, 1.0000, 0.0000, 1.0000,\n",
       "         0.0000, 0.0000, 0.0000, 0.0000, 0.0000, 0.0000, 0.0000, 0.0000, 0.0000,\n",
       "         0.0000, 0.0000, 1.0000, 0.0000, 0.0000, 0.0000, 0.0000],\n",
       "        [0.0000, 1.0000, 0.0000, 0.0000, 1.0000, 0.0000, 0.0000, 0.0000, 0.0000,\n",
       "         0.0000, 0.0000, 0.0000, 0.0000, 0.0000, 0.0000, 0.0000, 0.0000, 0.0000,\n",
       "         1.0000, 0.0000, 0.0000, 0.0000, 0.0000, 0.0000, 0.0000, 0.0000, 0.0000,\n",
       "         0.0000, 1.0000, 0.0000, 0.0000, 0.0000, 0.0000, 0.0000, 0.0000, 0.0000,\n",
       "         0.0000, 0.0000, 1.0000, 0.0000, 0.0000, 0.0000, 0.0000, 0.0000, 0.0000,\n",
       "         0.0000, 0.0000, 0.0000, 0.0000, 0.0000, 0.0000, 0.0000, 0.0000, 0.0000,\n",
       "         0.0000, 0.0000, 0.0000, 0.0000, 0.0000, 0.0000, 0.0000],\n",
       "        [0.0000, 0.0000, 0.0000, 0.0000, 0.0000, 0.0000, 0.0000, 0.0000, 0.0000,\n",
       "         0.0000, 0.0000, 0.0000, 0.0000, 0.0000, 1.0000, 0.0000, 0.0000, 0.0000,\n",
       "         0.0000, 0.0000, 0.0000, 0.0000, 0.0000, 0.0000, 0.0000, 0.0000, 0.0000,\n",
       "         1.0000, 0.0000, 0.0000, 0.0000, 0.0000, 0.0000, 0.0000, 0.0000, 0.0000,\n",
       "         0.0000, 0.0000, 0.0000, 0.0000, 0.0000, 0.0000, 0.0000, 0.0000, 0.0000,\n",
       "         0.0000, 0.0000, 0.0000, 0.0000, 0.0000, 0.0000, 0.0000, 1.0000, 0.0000,\n",
       "         0.0000, 0.0000, 0.0000, 0.0000, 0.0000, 0.0000, 0.0000],\n",
       "        [0.0000, 0.0000, 0.0000, 1.0000, 0.0000, 0.0000, 1.0000, 0.0000, 0.0000,\n",
       "         0.0000, 0.0000, 0.0000, 0.0000, 0.0000, 0.0000, 1.0000, 1.0000, 1.0000,\n",
       "         0.0000, 0.0000, 0.0000, 0.0000, 0.0000, 0.0000, 0.0000, 0.0000, 0.0000,\n",
       "         0.0000, 0.0000, 1.0000, 0.0000, 0.0000, 0.0000, 0.0000, 0.0000, 0.0000,\n",
       "         0.0000, 0.0000, 0.0000, 0.0000, 1.0000, 1.0000, 0.0000, 1.0000, 0.0000,\n",
       "         0.0000, 0.0000, 0.0000, 0.0000, 0.0000, 1.0000, 0.0000, 0.0000, 0.0000,\n",
       "         0.0000, 0.0000, 0.0000, 0.0000, 0.0000, 0.0000, 1.0000],\n",
       "        [0.0000, 0.0000, 0.0000, 0.0000, 0.0000, 0.0000, 0.0000, 0.0000, 0.0000,\n",
       "         0.0000, 1.0000, 0.0000, 0.0000, 0.0000, 0.0000, 0.0000, 0.0000, 0.0000,\n",
       "         0.0000, 0.0000, 0.0000, 0.0000, 0.0000, 0.0000, 0.0000, 0.0000, 1.0000,\n",
       "         0.0000, 0.0000, 0.0000, 0.0000, 0.0000, 0.0000, 0.0000, 1.0000, 0.0000,\n",
       "         0.0000, 1.0000, 0.0000, 1.0000, 0.0000, 0.0000, 0.0000, 0.0000, 0.0000,\n",
       "         0.0000, 0.0000, 0.0000, 1.0000, 0.0000, 0.0000, 1.0000, 0.0000, 0.0000,\n",
       "         0.0000, 0.0000, 0.0000, 0.0000, 0.0000, 1.0000, 0.0000]],\n",
       "       dtype=torch.float64)"
      ]
     },
     "execution_count": 8,
     "metadata": {},
     "output_type": "execute_result"
    }
   ],
   "source": [
    "dataset[1].edge_attr"
   ]
  },
  {
   "cell_type": "code",
   "execution_count": 9,
   "id": "7fd4fc6a",
   "metadata": {},
   "outputs": [
    {
     "data": {
      "text/plain": [
       "292"
      ]
     },
     "execution_count": 9,
     "metadata": {},
     "output_type": "execute_result"
    }
   ],
   "source": [
    "len(train_data)"
   ]
  },
  {
   "cell_type": "code",
   "execution_count": 10,
   "id": "e3cd1df4",
   "metadata": {},
   "outputs": [
    {
     "data": {
      "text/plain": [
       "74"
      ]
     },
     "execution_count": 10,
     "metadata": {},
     "output_type": "execute_result"
    }
   ],
   "source": [
    "len(test_data)"
   ]
  },
  {
   "cell_type": "code",
   "execution_count": 11,
   "id": "45eb9e32",
   "metadata": {},
   "outputs": [
    {
     "data": {
      "text/plain": [
       "tensor([[50, 27],\n",
       "        [61, 46],\n",
       "        [12, 23],\n",
       "        [76, 28],\n",
       "        [44, 27],\n",
       "        [64, 17],\n",
       "        [89, 29],\n",
       "        [73, 32],\n",
       "        [47,  1],\n",
       "        [57,  0],\n",
       "        [43, 35],\n",
       "        [22, 37],\n",
       "        [54,  8],\n",
       "        [41, 38],\n",
       "        [52, 10],\n",
       "        [78, 65],\n",
       "        [15, 25],\n",
       "        [49,  6],\n",
       "        [ 2, 60],\n",
       "        [18, 56],\n",
       "        [ 4, 40],\n",
       "        [45, 58],\n",
       "        [91, 30],\n",
       "        [72, 90],\n",
       "        [39, 22],\n",
       "        [36, 50],\n",
       "        [33, 31],\n",
       "        [21, 75],\n",
       "        [51, 11],\n",
       "        [ 9, 92],\n",
       "        [53, 19],\n",
       "        [ 3, 55],\n",
       "        [59, 84],\n",
       "        [ 5, 35],\n",
       "        [48,  7],\n",
       "        [95, 96],\n",
       "        [95, 80],\n",
       "        [85, 34],\n",
       "        [71, 77],\n",
       "        [88, 68],\n",
       "        [42, 14],\n",
       "        [74, 83],\n",
       "        [ 8, 54],\n",
       "        [94, 63],\n",
       "        [94, 79],\n",
       "        [20, 82],\n",
       "        [81, 87],\n",
       "        [66, 67],\n",
       "        [16, 26],\n",
       "        [62, 93],\n",
       "        [55,  3],\n",
       "        [87, 24],\n",
       "        [69, 86],\n",
       "        [13, 70]])"
      ]
     },
     "execution_count": 11,
     "metadata": {},
     "output_type": "execute_result"
    }
   ],
   "source": [
    "test_data[0].edge_index.T"
   ]
  },
  {
   "cell_type": "markdown",
   "id": "30fd08dc",
   "metadata": {},
   "source": [
    "## XGBoost"
   ]
  },
  {
   "cell_type": "code",
   "execution_count": 12,
   "id": "0828f6b3",
   "metadata": {},
   "outputs": [],
   "source": [
    "import numpy as np"
   ]
  },
  {
   "cell_type": "code",
   "execution_count": 13,
   "id": "da1e6b25",
   "metadata": {},
   "outputs": [],
   "source": [
    "X_train = []\n",
    "X_test = []\n",
    "y_train = []\n",
    "y_test = []\n",
    "\n",
    "for t in train_data:\n",
    "    x = t.edge_attr.T.tolist()\n",
    "    y = t.y.tolist()\n",
    "#    for index, nodes in enumerate(t.edge_index.T):\n",
    "#        x[index] += t.x.T[nodes[0]]\n",
    "#        x[index] += t.x.T[nodes[1]]\n",
    "    X_train += x\n",
    "    y_train += y\n",
    "\n",
    "for t in test_data:\n",
    "    x = t.edge_attr.T.tolist()\n",
    "    y = t.y.tolist()\n",
    "#    for index, nodes in enumerate(t.edge_index.T):\n",
    "#        x[index] += t.x.T[nodes[0]]\n",
    "#        x[index] += t.x.T[nodes[1]]\n",
    "    X_test += x\n",
    "    y_test += y"
   ]
  },
  {
   "cell_type": "code",
   "execution_count": 14,
   "id": "b760d753",
   "metadata": {},
   "outputs": [],
   "source": [
    "X_train = np.array(X_train)\n",
    "y_train = np.array(y_train)\n",
    "X_test = np.array(X_test)\n",
    "y_test = np.array(y_test)"
   ]
  },
  {
   "cell_type": "code",
   "execution_count": 15,
   "id": "5adbf110",
   "metadata": {},
   "outputs": [
    {
     "data": {
      "text/plain": [
       "(17123, 8)"
      ]
     },
     "execution_count": 15,
     "metadata": {},
     "output_type": "execute_result"
    }
   ],
   "source": [
    "X_train.shape"
   ]
  },
  {
   "cell_type": "code",
   "execution_count": 16,
   "id": "d71c0274",
   "metadata": {},
   "outputs": [
    {
     "data": {
      "text/plain": [
       "(17123,)"
      ]
     },
     "execution_count": 16,
     "metadata": {},
     "output_type": "execute_result"
    }
   ],
   "source": [
    "y_train.shape"
   ]
  },
  {
   "cell_type": "code",
   "execution_count": 17,
   "id": "25943ec7",
   "metadata": {},
   "outputs": [
    {
     "data": {
      "text/plain": [
       "(4297, 8)"
      ]
     },
     "execution_count": 17,
     "metadata": {},
     "output_type": "execute_result"
    }
   ],
   "source": [
    "X_test.shape"
   ]
  },
  {
   "cell_type": "code",
   "execution_count": 18,
   "id": "ac02768b",
   "metadata": {},
   "outputs": [
    {
     "data": {
      "text/plain": [
       "(4297,)"
      ]
     },
     "execution_count": 18,
     "metadata": {},
     "output_type": "execute_result"
    }
   ],
   "source": [
    "y_test.shape"
   ]
  },
  {
   "cell_type": "code",
   "execution_count": 19,
   "id": "71a0f908",
   "metadata": {},
   "outputs": [
    {
     "data": {
      "text/plain": [
       "XGBClassifier(base_score=0.5, booster='gbtree', callbacks=None,\n",
       "              colsample_bylevel=1, colsample_bynode=1, colsample_bytree=1,\n",
       "              early_stopping_rounds=None, enable_categorical=False,\n",
       "              eval_metric=None, gamma=0, gpu_id=-1, grow_policy='depthwise',\n",
       "              importance_type=None, interaction_constraints='',\n",
       "              learning_rate=0.300000012, max_bin=256, max_cat_to_onehot=4,\n",
       "              max_delta_step=0, max_depth=6, max_leaves=0, min_child_weight=1,\n",
       "              missing=nan, monotone_constraints='()', n_estimators=100,\n",
       "              n_jobs=0, num_parallel_tree=1, predictor='auto', random_state=0,\n",
       "              reg_alpha=0, reg_lambda=1, ...)"
      ]
     },
     "execution_count": 19,
     "metadata": {},
     "output_type": "execute_result"
    }
   ],
   "source": [
    "import xgboost as xgb\n",
    "xgb_model = xgb.XGBClassifier(objective=\"binary:logistic\")\n",
    "xgb_model.fit(X_train, y_train)"
   ]
  },
  {
   "cell_type": "code",
   "execution_count": 20,
   "id": "ca2ceff3",
   "metadata": {},
   "outputs": [],
   "source": [
    "y_pred = xgb_model.predict(X_test)"
   ]
  },
  {
   "cell_type": "code",
   "execution_count": 21,
   "id": "e6758481",
   "metadata": {},
   "outputs": [],
   "source": [
    "from sklearn.metrics import precision_score, recall_score, f1_score, classification_report"
   ]
  },
  {
   "cell_type": "code",
   "execution_count": 34,
   "id": "340bc389",
   "metadata": {},
   "outputs": [],
   "source": [
    "mean_precision = []\n",
    "mean_recall = []\n",
    "mean_f1 = []\n",
    "\n",
    "prec = precision_score(y_test, y_pred, average='binary', labels=[0])\n",
    "rec = recall_score(y_test, y_pred, average='binary', labels=[0])\n",
    "f1 = f1_score(y_test, y_pred, average='binary', labels=[0])"
   ]
  },
  {
   "cell_type": "code",
   "execution_count": 35,
   "id": "297a092b",
   "metadata": {
    "scrolled": true
   },
   "outputs": [
    {
     "name": "stdout",
     "output_type": "stream",
     "text": [
      "              precision    recall  f1-score   support\n",
      "\n",
      "           0       0.99      1.00      1.00      4105\n",
      "           1       0.93      0.88      0.90       192\n",
      "\n",
      "    accuracy                           0.99      4297\n",
      "   macro avg       0.96      0.94      0.95      4297\n",
      "weighted avg       0.99      0.99      0.99      4297\n",
      "\n"
     ]
    }
   ],
   "source": [
    "print(classification_report(y_test, y_pred))"
   ]
  },
  {
   "cell_type": "code",
   "execution_count": 24,
   "id": "36527b89",
   "metadata": {},
   "outputs": [
    {
     "data": {
      "text/plain": [
       "0.9281767955801105"
      ]
     },
     "execution_count": 24,
     "metadata": {},
     "output_type": "execute_result"
    }
   ],
   "source": [
    "prec"
   ]
  },
  {
   "cell_type": "code",
   "execution_count": 25,
   "id": "e00da15c",
   "metadata": {},
   "outputs": [
    {
     "data": {
      "text/plain": [
       "0.875"
      ]
     },
     "execution_count": 25,
     "metadata": {},
     "output_type": "execute_result"
    }
   ],
   "source": [
    "rec"
   ]
  },
  {
   "cell_type": "code",
   "execution_count": 26,
   "id": "b4b23055",
   "metadata": {},
   "outputs": [
    {
     "data": {
      "text/plain": [
       "0.900804289544236"
      ]
     },
     "execution_count": 26,
     "metadata": {},
     "output_type": "execute_result"
    }
   ],
   "source": [
    "f1"
   ]
  },
  {
   "cell_type": "code",
   "execution_count": 27,
   "id": "5e7d15c4",
   "metadata": {},
   "outputs": [],
   "source": [
    "prec = precision_score(y_test, y_pred, average='macro')\n",
    "rec = recall_score(y_test, y_pred, average='macro')\n",
    "f1 = f1_score(y_test, y_pred, average='macro')"
   ]
  },
  {
   "cell_type": "code",
   "execution_count": 28,
   "id": "a36c01f5",
   "metadata": {},
   "outputs": [
    {
     "data": {
      "text/plain": [
       "0.9611729458950116"
      ]
     },
     "execution_count": 28,
     "metadata": {},
     "output_type": "execute_result"
    }
   ],
   "source": [
    "prec"
   ]
  },
  {
   "cell_type": "code",
   "execution_count": 29,
   "id": "52c1f16e",
   "metadata": {},
   "outputs": [
    {
     "data": {
      "text/plain": [
       "0.9359165651644337"
      ]
     },
     "execution_count": 29,
     "metadata": {},
     "output_type": "execute_result"
    }
   ],
   "source": [
    "rec"
   ]
  },
  {
   "cell_type": "code",
   "execution_count": 30,
   "id": "c5b7ff9b",
   "metadata": {},
   "outputs": [
    {
     "data": {
      "text/plain": [
       "0.9481518102629343"
      ]
     },
     "execution_count": 30,
     "metadata": {},
     "output_type": "execute_result"
    }
   ],
   "source": [
    "f1"
   ]
  }
 ],
 "metadata": {
  "kernelspec": {
   "display_name": "Python 3 (ipykernel)",
   "language": "python",
   "name": "python3"
  },
  "language_info": {
   "codemirror_mode": {
    "name": "ipython",
    "version": 3
   },
   "file_extension": ".py",
   "mimetype": "text/x-python",
   "name": "python",
   "nbconvert_exporter": "python",
   "pygments_lexer": "ipython3",
   "version": "3.8.10"
  }
 },
 "nbformat": 4,
 "nbformat_minor": 5
}

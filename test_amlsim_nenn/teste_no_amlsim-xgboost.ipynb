{
 "cells": [
  {
   "cell_type": "code",
   "execution_count": 1,
   "id": "7312ae22",
   "metadata": {},
   "outputs": [],
   "source": [
    "import os\n",
    "from torch_geometric.data import Data\n",
    "import torch"
   ]
  },
  {
   "cell_type": "code",
   "execution_count": 2,
   "id": "a62d13ca",
   "metadata": {},
   "outputs": [],
   "source": [
    "dataset = []\n",
    "\n",
    "for ptfile in os.listdir('concept_drift_101'):\n",
    "    dataset.append(torch.load(f'concept_drift_101/{ptfile}'))"
   ]
  },
  {
   "cell_type": "code",
   "execution_count": 3,
   "id": "4164c634",
   "metadata": {},
   "outputs": [],
   "source": [
    "sum=0\n",
    "for i in dataset:\n",
    "    sum += len(i.y)"
   ]
  },
  {
   "cell_type": "code",
   "execution_count": 4,
   "id": "09bf1485",
   "metadata": {},
   "outputs": [
    {
     "data": {
      "text/plain": [
       "10710"
      ]
     },
     "execution_count": 4,
     "metadata": {},
     "output_type": "execute_result"
    }
   ],
   "source": [
    "sum"
   ]
  },
  {
   "cell_type": "code",
   "execution_count": 5,
   "id": "52e65a43",
   "metadata": {},
   "outputs": [],
   "source": [
    "train_data = dataset[0:int(0.8*366)]\n",
    "test_data = dataset[int(0.8*366):]"
   ]
  },
  {
   "cell_type": "code",
   "execution_count": 6,
   "id": "438b86da",
   "metadata": {},
   "outputs": [
    {
     "data": {
      "text/plain": [
       "tensor(40)"
      ]
     },
     "execution_count": 6,
     "metadata": {},
     "output_type": "execute_result"
    }
   ],
   "source": [
    "dataset[1].edge_to_edge_adj_matr.count_nonzero()"
   ]
  },
  {
   "cell_type": "code",
   "execution_count": 7,
   "id": "5a3c9678",
   "metadata": {},
   "outputs": [
    {
     "data": {
      "text/plain": [
       "tensor([0, 0, 0, 0, 0, 1, 0, 0, 0, 1, 0, 0, 0, 1, 0, 0, 0, 0, 1, 0, 0, 1, 0, 0,\n",
       "        0, 0, 0, 0, 0, 1, 0, 0, 0, 0, 0])"
      ]
     },
     "execution_count": 7,
     "metadata": {},
     "output_type": "execute_result"
    }
   ],
   "source": [
    "dataset[1].y"
   ]
  },
  {
   "cell_type": "code",
   "execution_count": 8,
   "id": "b08137ef",
   "metadata": {},
   "outputs": [
    {
     "data": {
      "text/plain": [
       "tensor([[0.0508, 0.8097, 0.8637, 0.5671, 0.1195, 0.0096, 0.3485, 0.6798, 0.2840,\n",
       "         0.0110, 0.3701, 0.4659, 0.0744, 0.0124, 0.7723, 0.4548, 0.5860, 0.4063,\n",
       "         0.0057, 0.7909, 0.5593, 0.0070, 0.7916, 0.0703, 0.7631, 0.8725, 0.3105,\n",
       "         0.6588, 0.0430, 0.0138, 0.8891, 0.8529, 0.0897, 0.7732, 0.3808],\n",
       "        [0.6767, 0.6767, 0.6767, 0.6767, 0.6767, 0.6767, 0.6767, 0.6767, 0.6767,\n",
       "         0.6767, 0.6767, 0.6767, 0.6767, 0.6767, 0.6767, 0.6767, 0.6767, 0.6767,\n",
       "         0.6767, 0.6767, 0.6767, 0.6767, 0.6767, 0.6767, 0.6767, 0.6767, 0.6767,\n",
       "         0.6767, 0.6767, 0.6767, 0.6767, 0.6767, 0.6767, 0.6767, 0.6767],\n",
       "        [1.0000, 1.0000, 1.0000, 1.0000, 1.0000, 0.0000, 0.0000, 1.0000, 0.0000,\n",
       "         1.0000, 0.0000, 0.0000, 0.0000, 0.0000, 1.0000, 1.0000, 0.0000, 1.0000,\n",
       "         0.0000, 0.0000, 0.0000, 0.0000, 0.0000, 0.0000, 1.0000, 0.0000, 1.0000,\n",
       "         0.0000, 0.0000, 0.0000, 1.0000, 0.0000, 1.0000, 0.0000, 1.0000],\n",
       "        [0.0000, 0.0000, 0.0000, 0.0000, 0.0000, 1.0000, 0.0000, 0.0000, 1.0000,\n",
       "         0.0000, 0.0000, 0.0000, 0.0000, 0.0000, 0.0000, 0.0000, 0.0000, 0.0000,\n",
       "         0.0000, 0.0000, 0.0000, 1.0000, 0.0000, 0.0000, 0.0000, 1.0000, 0.0000,\n",
       "         0.0000, 1.0000, 0.0000, 0.0000, 0.0000, 0.0000, 1.0000, 0.0000],\n",
       "        [0.0000, 0.0000, 0.0000, 0.0000, 0.0000, 0.0000, 0.0000, 0.0000, 0.0000,\n",
       "         0.0000, 0.0000, 1.0000, 0.0000, 0.0000, 0.0000, 0.0000, 0.0000, 0.0000,\n",
       "         1.0000, 0.0000, 0.0000, 0.0000, 0.0000, 0.0000, 0.0000, 0.0000, 0.0000,\n",
       "         1.0000, 0.0000, 0.0000, 0.0000, 0.0000, 0.0000, 0.0000, 0.0000],\n",
       "        [0.0000, 0.0000, 0.0000, 0.0000, 0.0000, 0.0000, 0.0000, 0.0000, 0.0000,\n",
       "         0.0000, 1.0000, 0.0000, 1.0000, 0.0000, 0.0000, 0.0000, 0.0000, 0.0000,\n",
       "         0.0000, 0.0000, 0.0000, 0.0000, 0.0000, 1.0000, 0.0000, 0.0000, 0.0000,\n",
       "         0.0000, 0.0000, 0.0000, 0.0000, 0.0000, 0.0000, 0.0000, 0.0000],\n",
       "        [0.0000, 0.0000, 0.0000, 0.0000, 0.0000, 0.0000, 1.0000, 0.0000, 0.0000,\n",
       "         0.0000, 0.0000, 0.0000, 0.0000, 1.0000, 0.0000, 0.0000, 0.0000, 0.0000,\n",
       "         0.0000, 1.0000, 1.0000, 0.0000, 1.0000, 0.0000, 0.0000, 0.0000, 0.0000,\n",
       "         0.0000, 0.0000, 1.0000, 0.0000, 0.0000, 0.0000, 0.0000, 0.0000],\n",
       "        [0.0000, 0.0000, 0.0000, 0.0000, 0.0000, 0.0000, 0.0000, 0.0000, 0.0000,\n",
       "         0.0000, 0.0000, 0.0000, 0.0000, 0.0000, 0.0000, 0.0000, 1.0000, 0.0000,\n",
       "         0.0000, 0.0000, 0.0000, 0.0000, 0.0000, 0.0000, 0.0000, 0.0000, 0.0000,\n",
       "         0.0000, 0.0000, 0.0000, 0.0000, 1.0000, 0.0000, 0.0000, 0.0000]],\n",
       "       dtype=torch.float64)"
      ]
     },
     "execution_count": 8,
     "metadata": {},
     "output_type": "execute_result"
    }
   ],
   "source": [
    "dataset[1].edge_attr"
   ]
  },
  {
   "cell_type": "code",
   "execution_count": 9,
   "id": "7fd4fc6a",
   "metadata": {},
   "outputs": [
    {
     "data": {
      "text/plain": [
       "292"
      ]
     },
     "execution_count": 9,
     "metadata": {},
     "output_type": "execute_result"
    }
   ],
   "source": [
    "len(train_data)"
   ]
  },
  {
   "cell_type": "code",
   "execution_count": 10,
   "id": "e3cd1df4",
   "metadata": {},
   "outputs": [
    {
     "data": {
      "text/plain": [
       "74"
      ]
     },
     "execution_count": 10,
     "metadata": {},
     "output_type": "execute_result"
    }
   ],
   "source": [
    "len(test_data)"
   ]
  },
  {
   "cell_type": "code",
   "execution_count": 11,
   "id": "0e5c7d9c",
   "metadata": {},
   "outputs": [],
   "source": [
    "from model_nenn import Nenn"
   ]
  },
  {
   "cell_type": "code",
   "execution_count": 12,
   "id": "d092caa2",
   "metadata": {},
   "outputs": [
    {
     "data": {
      "text/plain": [
       "torch.Size([6, 50])"
      ]
     },
     "execution_count": 12,
     "metadata": {},
     "output_type": "execute_result"
    }
   ],
   "source": [
    "dataset[0].x.shape"
   ]
  },
  {
   "cell_type": "code",
   "execution_count": 13,
   "id": "a843d485",
   "metadata": {},
   "outputs": [
    {
     "data": {
      "text/plain": [
       "torch.Size([8, 27])"
      ]
     },
     "execution_count": 13,
     "metadata": {},
     "output_type": "execute_result"
    }
   ],
   "source": [
    "dataset[0].edge_attr.shape"
   ]
  },
  {
   "cell_type": "code",
   "execution_count": 14,
   "id": "85b35690",
   "metadata": {},
   "outputs": [],
   "source": [
    "model = Nenn(6,8,6,8,2)"
   ]
  },
  {
   "cell_type": "code",
   "execution_count": 15,
   "id": "9f8edb59",
   "metadata": {},
   "outputs": [],
   "source": [
    "model = model.to('cpu')"
   ]
  },
  {
   "cell_type": "code",
   "execution_count": 16,
   "id": "023c7c5b",
   "metadata": {},
   "outputs": [],
   "source": [
    "loss = torch.nn.CrossEntropyLoss()\n",
    "# TODO Undersampling Smote\n",
    "# TODO Oversampling\n",
    "optimizer = torch.optim.Adam(model.parameters(), lr=0.0001)"
   ]
  },
  {
   "cell_type": "code",
   "execution_count": 17,
   "id": "374cdfe1",
   "metadata": {},
   "outputs": [
    {
     "data": {
      "text/plain": [
       "Data(x=[6, 50], edge_index=[2, 27], edge_attr=[8, 27], y=[27], node_to_node_adj_matr=[50, 50], node_to_edge_adj_matr=[50, 27], edge_to_node_adj_matr=[27, 50], edge_to_edge_adj_matr=[27, 27])"
      ]
     },
     "execution_count": 17,
     "metadata": {},
     "output_type": "execute_result"
    }
   ],
   "source": [
    "dataset[0]"
   ]
  },
  {
   "cell_type": "code",
   "execution_count": 18,
   "id": "6b3c7722",
   "metadata": {},
   "outputs": [],
   "source": [
    "def train():\n",
    "    model.train()\n",
    "    # Enumerar sobre os dados.\n",
    "    for epoch in range(100):\n",
    "        for ts, data in enumerate(train_data):\n",
    "        \n",
    "            # Resetar Gradientes\n",
    "            optimizer.zero_grad()\n",
    "            # Passando as informações do batch e de conexão dos grafos\n",
    "            logits, _ = model(\n",
    "                data.x.T.type(torch.FloatTensor),\n",
    "                data.edge_attr.T.type(torch.FloatTensor),\n",
    "                data.edge_to_edge_adj_matr.type(torch.FloatTensor).T,\n",
    "                data.edge_to_node_adj_matr.type(torch.FloatTensor).T,\n",
    "                data.node_to_edge_adj_matr.type(torch.FloatTensor).T,\n",
    "                data.node_to_node_adj_matr.type(torch.FloatTensor).T\n",
    "            )\n",
    "            #label_pred = pred.max(1)[1]\n",
    "            # Calculando a perda e os gradientes.\n",
    "            l = loss(logits, data.y)\n",
    "            l.backward()\n",
    "            # Atualizar usando os gradientes.\n",
    "            optimizer.step()\n",
    "            print('ts',ts+1,'epoch =', epoch + 1, 'loss =', l.item())"
   ]
  },
  {
   "cell_type": "code",
   "execution_count": 19,
   "id": "f8670cf0",
   "metadata": {},
   "outputs": [
    {
     "name": "stdout",
     "output_type": "stream",
     "text": [
      "ts 1 epoch = 1 loss = 0.6889553070068359\n",
      "ts 2 epoch = 1 loss = 0.6753334403038025\n",
      "ts 3 epoch = 1 loss = 0.6798202395439148\n",
      "ts 4 epoch = 1 loss = 0.6784133315086365\n",
      "ts 5 epoch = 1 loss = 0.6864336729049683\n",
      "ts 6 epoch = 1 loss = 0.677548885345459\n",
      "ts 7 epoch = 1 loss = 0.6842171549797058\n",
      "ts 8 epoch = 1 loss = 0.6896958351135254\n",
      "ts 9 epoch = 1 loss = 0.6736385226249695\n",
      "ts 10 epoch = 1 loss = 0.6686111092567444\n",
      "ts 11 epoch = 1 loss = 0.6878237128257751\n",
      "ts 12 epoch = 1 loss = 0.6816275119781494\n",
      "ts 13 epoch = 1 loss = 0.6868739128112793\n",
      "ts 14 epoch = 1 loss = 0.6820669770240784\n",
      "ts 15 epoch = 1 loss = 0.6730403304100037\n",
      "ts 16 epoch = 1 loss = 0.6709883213043213\n",
      "ts 17 epoch = 1 loss = 0.6707191467285156\n",
      "ts 18 epoch = 1 loss = 0.6896634697914124\n",
      "ts 19 epoch = 1 loss = 0.6716911792755127\n",
      "ts 20 epoch = 1 loss = 0.6765976548194885\n",
      "ts 21 epoch = 1 loss = 0.6785860657691956\n",
      "ts 22 epoch = 1 loss = 0.6881234049797058\n",
      "ts 23 epoch = 1 loss = 0.6728113293647766\n",
      "ts 24 epoch = 1 loss = 0.6774756908416748\n",
      "ts 25 epoch = 1 loss = 0.6653929352760315\n",
      "ts 26 epoch = 1 loss = 0.6796148419380188\n",
      "ts 27 epoch = 1 loss = 0.6648308634757996\n",
      "ts 28 epoch = 1 loss = 0.6658826470375061\n",
      "ts 29 epoch = 1 loss = 0.671937882900238\n",
      "ts 30 epoch = 1 loss = 0.6674023866653442\n",
      "ts 31 epoch = 1 loss = 0.6824520826339722\n",
      "ts 32 epoch = 1 loss = 0.6693634390830994\n",
      "ts 33 epoch = 1 loss = 0.6719095706939697\n",
      "ts 34 epoch = 1 loss = 0.6747226119041443\n",
      "ts 35 epoch = 1 loss = 0.6721175909042358\n",
      "ts 36 epoch = 1 loss = 0.6729770302772522\n",
      "ts 37 epoch = 1 loss = 0.6795586943626404\n",
      "ts 38 epoch = 1 loss = 0.6637362241744995\n",
      "ts 39 epoch = 1 loss = 0.6775174736976624\n",
      "ts 40 epoch = 1 loss = 0.6842201948165894\n",
      "ts 41 epoch = 1 loss = 0.6747542023658752\n",
      "ts 42 epoch = 1 loss = 0.6757120490074158\n",
      "ts 43 epoch = 1 loss = 0.6635754108428955\n",
      "ts 44 epoch = 1 loss = 0.6683580279350281\n",
      "ts 45 epoch = 1 loss = 0.6818246245384216\n",
      "ts 46 epoch = 1 loss = 0.6796759963035583\n",
      "ts 47 epoch = 1 loss = 0.6668136715888977\n",
      "ts 48 epoch = 1 loss = 0.6799418330192566\n",
      "ts 49 epoch = 1 loss = 0.6608946919441223\n",
      "ts 50 epoch = 1 loss = 0.6663621068000793\n",
      "ts 51 epoch = 1 loss = 0.6787173748016357\n",
      "ts 52 epoch = 1 loss = 0.6717806458473206\n",
      "ts 53 epoch = 1 loss = 0.663157045841217\n",
      "ts 54 epoch = 1 loss = 0.6738036274909973\n",
      "ts 55 epoch = 1 loss = 0.6567235589027405\n",
      "ts 56 epoch = 1 loss = 0.6749486327171326\n",
      "ts 57 epoch = 1 loss = 0.6581721901893616\n",
      "ts 58 epoch = 1 loss = 0.6772440671920776\n",
      "ts 59 epoch = 1 loss = 0.6775938868522644\n",
      "ts 60 epoch = 1 loss = 0.6573114991188049\n",
      "ts 61 epoch = 1 loss = 0.673340916633606\n",
      "ts 62 epoch = 1 loss = 0.6667490005493164\n",
      "ts 63 epoch = 1 loss = 0.6640670299530029\n",
      "ts 64 epoch = 1 loss = 0.6786820888519287\n",
      "ts 65 epoch = 1 loss = 0.6684867739677429\n",
      "ts 66 epoch = 1 loss = 0.6612713932991028\n",
      "ts 67 epoch = 1 loss = 0.6699963808059692\n",
      "ts 68 epoch = 1 loss = 0.6815967559814453\n",
      "ts 69 epoch = 1 loss = 0.6627287268638611\n",
      "ts 70 epoch = 1 loss = 0.6544048190116882\n",
      "ts 71 epoch = 1 loss = 0.6544970273971558\n",
      "ts 72 epoch = 1 loss = 0.6770034432411194\n",
      "ts 73 epoch = 1 loss = 0.6761854887008667\n",
      "ts 74 epoch = 1 loss = 0.6659754514694214\n",
      "ts 75 epoch = 1 loss = 0.6878023743629456\n",
      "ts 76 epoch = 1 loss = 0.6595886945724487\n",
      "ts 77 epoch = 1 loss = 0.6570265293121338\n",
      "ts 78 epoch = 1 loss = 0.6727901101112366\n",
      "ts 79 epoch = 1 loss = 0.647533655166626\n",
      "ts 80 epoch = 1 loss = 0.6794935464859009\n",
      "ts 81 epoch = 1 loss = 0.6622807383537292\n",
      "ts 82 epoch = 1 loss = 0.6670850515365601\n",
      "ts 83 epoch = 1 loss = 0.6897712349891663\n",
      "ts 84 epoch = 1 loss = 0.6538432240486145\n",
      "ts 85 epoch = 1 loss = 0.6654936075210571\n",
      "ts 86 epoch = 1 loss = 0.6753382682800293\n",
      "ts 87 epoch = 1 loss = 0.678716778755188\n",
      "ts 88 epoch = 1 loss = 0.6646905541419983\n",
      "ts 89 epoch = 1 loss = 0.6513527631759644\n",
      "ts 90 epoch = 1 loss = 0.6690087914466858\n",
      "ts 91 epoch = 1 loss = 0.6551511883735657\n",
      "ts 92 epoch = 1 loss = 0.6705392599105835\n",
      "ts 93 epoch = 1 loss = 0.6719904541969299\n",
      "ts 94 epoch = 1 loss = 0.6576370596885681\n",
      "ts 95 epoch = 1 loss = 0.6567410230636597\n",
      "ts 96 epoch = 1 loss = 0.664115846157074\n",
      "ts 97 epoch = 1 loss = 0.6704046726226807\n",
      "ts 98 epoch = 1 loss = 0.6657918095588684\n",
      "ts 99 epoch = 1 loss = 0.6767072081565857\n",
      "ts 100 epoch = 1 loss = 0.6653254628181458\n",
      "ts 101 epoch = 1 loss = 0.6652335524559021\n",
      "ts 102 epoch = 1 loss = 0.6738920211791992\n",
      "ts 103 epoch = 1 loss = 0.6827571988105774\n",
      "ts 104 epoch = 1 loss = 0.6635188460350037\n",
      "ts 105 epoch = 1 loss = 0.6515385508537292\n",
      "ts 106 epoch = 1 loss = 0.6590636372566223\n",
      "ts 107 epoch = 1 loss = 0.6648522615432739\n",
      "ts 108 epoch = 1 loss = 0.6614933013916016\n",
      "ts 109 epoch = 1 loss = 0.6571078896522522\n",
      "ts 110 epoch = 1 loss = 0.6678593754768372\n",
      "ts 111 epoch = 1 loss = 0.6667889356613159\n",
      "ts 112 epoch = 1 loss = 0.6484127044677734\n",
      "ts 113 epoch = 1 loss = 0.6622923016548157\n",
      "ts 114 epoch = 1 loss = 0.6706252694129944\n",
      "ts 115 epoch = 1 loss = 0.6675760746002197\n",
      "ts 116 epoch = 1 loss = 0.6765878200531006\n",
      "ts 117 epoch = 1 loss = 0.6657413840293884\n",
      "ts 118 epoch = 1 loss = 0.6762240529060364\n",
      "ts 119 epoch = 1 loss = 0.6655147671699524\n",
      "ts 120 epoch = 1 loss = 0.6569177508354187\n",
      "ts 121 epoch = 1 loss = 0.6673353910446167\n",
      "ts 122 epoch = 1 loss = 0.6737355589866638\n",
      "ts 123 epoch = 1 loss = 0.6583881974220276\n",
      "ts 124 epoch = 1 loss = 0.6753743290901184\n",
      "ts 125 epoch = 1 loss = 0.6656930446624756\n",
      "ts 126 epoch = 1 loss = 0.6472209095954895\n",
      "ts 127 epoch = 1 loss = 0.6739097833633423\n",
      "ts 128 epoch = 1 loss = 0.654467761516571\n",
      "ts 129 epoch = 1 loss = 0.6545959711074829\n",
      "ts 130 epoch = 1 loss = 0.6559417843818665\n",
      "ts 131 epoch = 1 loss = 0.6573401093482971\n",
      "ts 132 epoch = 1 loss = 0.6713879108428955\n",
      "ts 133 epoch = 1 loss = 0.6553182005882263\n",
      "ts 134 epoch = 1 loss = 0.6631247997283936\n",
      "ts 135 epoch = 1 loss = 0.6546623110771179\n",
      "ts 136 epoch = 1 loss = 0.6739194393157959\n",
      "ts 137 epoch = 1 loss = 0.6659453511238098\n",
      "ts 138 epoch = 1 loss = 0.6402207612991333\n",
      "ts 139 epoch = 1 loss = 0.6645617485046387\n",
      "ts 140 epoch = 1 loss = 0.6300435662269592\n",
      "ts 141 epoch = 1 loss = 0.6569454073905945\n",
      "ts 142 epoch = 1 loss = 0.6712861061096191\n",
      "ts 143 epoch = 1 loss = 0.6424372792243958\n",
      "ts 144 epoch = 1 loss = 0.6637527346611023\n",
      "ts 145 epoch = 1 loss = 0.6663424372673035\n",
      "ts 146 epoch = 1 loss = 0.6583908796310425\n",
      "ts 147 epoch = 1 loss = 0.6604558825492859\n",
      "ts 148 epoch = 1 loss = 0.6564809083938599\n",
      "ts 149 epoch = 1 loss = 0.6307308673858643\n",
      "ts 150 epoch = 1 loss = 0.663447916507721\n",
      "ts 151 epoch = 1 loss = 0.6404473185539246\n",
      "ts 152 epoch = 1 loss = 0.6601269245147705\n",
      "ts 153 epoch = 1 loss = 0.6636367440223694\n",
      "ts 154 epoch = 1 loss = 0.6632144451141357\n",
      "ts 155 epoch = 1 loss = 0.6905208826065063\n",
      "ts 156 epoch = 1 loss = 0.6503517031669617\n",
      "ts 157 epoch = 1 loss = 0.6780288219451904\n",
      "ts 158 epoch = 1 loss = 0.6451277136802673\n",
      "ts 159 epoch = 1 loss = 0.6411164402961731\n",
      "ts 160 epoch = 1 loss = 0.6602677702903748\n",
      "ts 161 epoch = 1 loss = 0.6421073079109192\n",
      "ts 162 epoch = 1 loss = 0.6583317518234253\n",
      "ts 163 epoch = 1 loss = 0.6498053669929504\n",
      "ts 164 epoch = 1 loss = 0.6535891890525818\n",
      "ts 165 epoch = 1 loss = 0.6590014696121216\n",
      "ts 166 epoch = 1 loss = 0.65996915102005\n",
      "ts 167 epoch = 1 loss = 0.6388126015663147\n",
      "ts 168 epoch = 1 loss = 0.6390370726585388\n",
      "ts 169 epoch = 1 loss = 0.6283267736434937\n",
      "ts 170 epoch = 1 loss = 0.6507353782653809\n",
      "ts 171 epoch = 1 loss = 0.6439375877380371\n",
      "ts 172 epoch = 1 loss = 0.6532785892486572\n",
      "ts 173 epoch = 1 loss = 0.6581464409828186\n",
      "ts 174 epoch = 1 loss = 0.6737993955612183\n",
      "ts 175 epoch = 1 loss = 0.6392802000045776\n",
      "ts 176 epoch = 1 loss = 0.6511098146438599\n",
      "ts 177 epoch = 1 loss = 0.6517168283462524\n",
      "ts 178 epoch = 1 loss = 0.6516153216362\n",
      "ts 179 epoch = 1 loss = 0.6742282509803772\n",
      "ts 180 epoch = 1 loss = 0.6345372200012207\n",
      "ts 181 epoch = 1 loss = 0.6344885230064392\n",
      "ts 182 epoch = 1 loss = 0.6227021813392639\n",
      "ts 183 epoch = 1 loss = 0.6516667604446411\n",
      "ts 184 epoch = 1 loss = 0.6336862444877625\n",
      "ts 185 epoch = 1 loss = 0.6649595499038696\n",
      "ts 186 epoch = 1 loss = 0.6271324753761292\n",
      "ts 187 epoch = 1 loss = 0.6267708539962769\n",
      "ts 188 epoch = 1 loss = 0.6623616814613342\n",
      "ts 189 epoch = 1 loss = 0.6581588983535767\n",
      "ts 190 epoch = 1 loss = 0.6553352475166321\n",
      "ts 191 epoch = 1 loss = 0.6320650577545166\n",
      "ts 192 epoch = 1 loss = 0.6157322525978088\n",
      "ts 193 epoch = 1 loss = 0.6518362760543823\n",
      "ts 194 epoch = 1 loss = 0.6284257173538208\n",
      "ts 195 epoch = 1 loss = 0.6377332806587219\n",
      "ts 196 epoch = 1 loss = 0.6581559777259827\n"
     ]
    },
    {
     "name": "stdout",
     "output_type": "stream",
     "text": [
      "ts 197 epoch = 1 loss = 0.6663239002227783\n",
      "ts 198 epoch = 1 loss = 0.6507859826087952\n",
      "ts 199 epoch = 1 loss = 0.6593735814094543\n",
      "ts 200 epoch = 1 loss = 0.6157152056694031\n",
      "ts 201 epoch = 1 loss = 0.6464712023735046\n",
      "ts 202 epoch = 1 loss = 0.6534605622291565\n",
      "ts 203 epoch = 1 loss = 0.6533543467521667\n",
      "ts 204 epoch = 1 loss = 0.6389960646629333\n",
      "ts 205 epoch = 1 loss = 0.6554347276687622\n",
      "ts 206 epoch = 1 loss = 0.65387362241745\n",
      "ts 207 epoch = 1 loss = 0.634760856628418\n",
      "ts 208 epoch = 1 loss = 0.6388254761695862\n",
      "ts 209 epoch = 1 loss = 0.6518175005912781\n",
      "ts 210 epoch = 1 loss = 0.6413396000862122\n",
      "ts 211 epoch = 1 loss = 0.662619948387146\n",
      "ts 212 epoch = 1 loss = 0.6541547179222107\n",
      "ts 213 epoch = 1 loss = 0.640895426273346\n",
      "ts 214 epoch = 1 loss = 0.6441798210144043\n",
      "ts 215 epoch = 1 loss = 0.6593895554542542\n",
      "ts 216 epoch = 1 loss = 0.628849983215332\n",
      "ts 217 epoch = 1 loss = 0.6183236241340637\n",
      "ts 218 epoch = 1 loss = 0.6446578502655029\n",
      "ts 219 epoch = 1 loss = 0.6512591242790222\n",
      "ts 220 epoch = 1 loss = 0.6271818280220032\n",
      "ts 221 epoch = 1 loss = 0.6495718359947205\n",
      "ts 222 epoch = 1 loss = 0.662360668182373\n",
      "ts 223 epoch = 1 loss = 0.648208498954773\n",
      "ts 224 epoch = 1 loss = 0.6287171840667725\n",
      "ts 225 epoch = 1 loss = 0.6540371775627136\n",
      "ts 226 epoch = 1 loss = 0.6492606997489929\n",
      "ts 227 epoch = 1 loss = 0.6303218603134155\n",
      "ts 228 epoch = 1 loss = 0.6131470799446106\n",
      "ts 229 epoch = 1 loss = 0.6314270496368408\n",
      "ts 230 epoch = 1 loss = 0.6334980130195618\n",
      "ts 231 epoch = 1 loss = 0.6376968622207642\n",
      "ts 232 epoch = 1 loss = 0.6808412671089172\n",
      "ts 233 epoch = 1 loss = 0.6492874026298523\n",
      "ts 234 epoch = 1 loss = 0.6296908855438232\n",
      "ts 235 epoch = 1 loss = 0.6591062545776367\n",
      "ts 236 epoch = 1 loss = 0.6719115376472473\n",
      "ts 237 epoch = 1 loss = 0.644345760345459\n",
      "ts 238 epoch = 1 loss = 0.6326791048049927\n",
      "ts 239 epoch = 1 loss = 0.6327147483825684\n",
      "ts 240 epoch = 1 loss = 0.6433412432670593\n",
      "ts 241 epoch = 1 loss = 0.6401190757751465\n",
      "ts 242 epoch = 1 loss = 0.642975926399231\n",
      "ts 243 epoch = 1 loss = 0.6427513957023621\n",
      "ts 244 epoch = 1 loss = 0.6473585963249207\n",
      "ts 245 epoch = 1 loss = 0.6534741520881653\n",
      "ts 246 epoch = 1 loss = 0.6539872288703918\n",
      "ts 247 epoch = 1 loss = 0.6400704979896545\n",
      "ts 248 epoch = 1 loss = 0.6441673636436462\n",
      "ts 249 epoch = 1 loss = 0.629832923412323\n",
      "ts 250 epoch = 1 loss = 0.635204017162323\n",
      "ts 251 epoch = 1 loss = 0.6231034994125366\n",
      "ts 252 epoch = 1 loss = 0.6552011966705322\n",
      "ts 253 epoch = 1 loss = 0.609315037727356\n",
      "ts 254 epoch = 1 loss = 0.6393750309944153\n",
      "ts 255 epoch = 1 loss = 0.611992597579956\n",
      "ts 256 epoch = 1 loss = 0.6149522066116333\n",
      "ts 257 epoch = 1 loss = 0.6521890163421631\n",
      "ts 258 epoch = 1 loss = 0.6415451765060425\n",
      "ts 259 epoch = 1 loss = 0.631870448589325\n",
      "ts 260 epoch = 1 loss = 0.6662846207618713\n",
      "ts 261 epoch = 1 loss = 0.6573333740234375\n",
      "ts 262 epoch = 1 loss = 0.6537474989891052\n",
      "ts 263 epoch = 1 loss = 0.658203125\n",
      "ts 264 epoch = 1 loss = 0.6491536498069763\n",
      "ts 265 epoch = 1 loss = 0.6345937252044678\n",
      "ts 266 epoch = 1 loss = 0.6242748498916626\n",
      "ts 267 epoch = 1 loss = 0.660082995891571\n",
      "ts 268 epoch = 1 loss = 0.6178025007247925\n",
      "ts 269 epoch = 1 loss = 0.6290891766548157\n",
      "ts 270 epoch = 1 loss = 0.6589198708534241\n",
      "ts 271 epoch = 1 loss = 0.6558181643486023\n",
      "ts 272 epoch = 1 loss = 0.6225111484527588\n",
      "ts 273 epoch = 1 loss = 0.6593946814537048\n",
      "ts 274 epoch = 1 loss = 0.6560494303703308\n",
      "ts 275 epoch = 1 loss = 0.6220449805259705\n",
      "ts 276 epoch = 1 loss = 0.6110061407089233\n",
      "ts 277 epoch = 1 loss = 0.6279793381690979\n",
      "ts 278 epoch = 1 loss = 0.6421983242034912\n",
      "ts 279 epoch = 1 loss = 0.6426146030426025\n",
      "ts 280 epoch = 1 loss = 0.6181361079216003\n",
      "ts 281 epoch = 1 loss = 0.6358690857887268\n",
      "ts 282 epoch = 1 loss = 0.6561056971549988\n",
      "ts 283 epoch = 1 loss = 0.6478546857833862\n",
      "ts 284 epoch = 1 loss = 0.6312699317932129\n",
      "ts 285 epoch = 1 loss = 0.6427755355834961\n",
      "ts 286 epoch = 1 loss = 0.6189553141593933\n",
      "ts 287 epoch = 1 loss = 0.6320824027061462\n",
      "ts 288 epoch = 1 loss = 0.66858971118927\n",
      "ts 289 epoch = 1 loss = 0.6311365962028503\n",
      "ts 290 epoch = 1 loss = 0.6413722038269043\n",
      "ts 291 epoch = 1 loss = 0.6656689643859863\n",
      "ts 292 epoch = 1 loss = 0.6329519748687744\n",
      "ts 1 epoch = 2 loss = 0.6648889183998108\n",
      "ts 2 epoch = 2 loss = 0.6348553895950317\n",
      "ts 3 epoch = 2 loss = 0.6377818584442139\n",
      "ts 4 epoch = 2 loss = 0.6398261189460754\n",
      "ts 5 epoch = 2 loss = 0.6620863676071167\n",
      "ts 6 epoch = 2 loss = 0.6403478384017944\n",
      "ts 7 epoch = 2 loss = 0.6472010016441345\n",
      "ts 8 epoch = 2 loss = 0.6648870706558228\n",
      "ts 9 epoch = 2 loss = 0.6169644594192505\n",
      "ts 10 epoch = 2 loss = 0.6117001175880432\n",
      "ts 11 epoch = 2 loss = 0.6542532444000244\n",
      "ts 12 epoch = 2 loss = 0.6462193727493286\n",
      "ts 13 epoch = 2 loss = 0.6593227982521057\n",
      "ts 14 epoch = 2 loss = 0.6386199593544006\n",
      "ts 15 epoch = 2 loss = 0.607434868812561\n",
      "ts 16 epoch = 2 loss = 0.6137832403182983\n",
      "ts 17 epoch = 2 loss = 0.6226267218589783\n",
      "ts 18 epoch = 2 loss = 0.6719167828559875\n",
      "ts 19 epoch = 2 loss = 0.6285422444343567\n",
      "ts 20 epoch = 2 loss = 0.6320035457611084\n",
      "ts 21 epoch = 2 loss = 0.6220175623893738\n",
      "ts 22 epoch = 2 loss = 0.6593292355537415\n",
      "ts 23 epoch = 2 loss = 0.6146593689918518\n",
      "ts 24 epoch = 2 loss = 0.644545316696167\n",
      "ts 25 epoch = 2 loss = 0.6046807169914246\n",
      "ts 26 epoch = 2 loss = 0.6514248847961426\n",
      "ts 27 epoch = 2 loss = 0.6050755977630615\n",
      "ts 28 epoch = 2 loss = 0.6020569205284119\n",
      "ts 29 epoch = 2 loss = 0.6121847629547119\n",
      "ts 30 epoch = 2 loss = 0.6143966913223267\n",
      "ts 31 epoch = 2 loss = 0.6526046991348267\n",
      "ts 32 epoch = 2 loss = 0.609088122844696\n",
      "ts 33 epoch = 2 loss = 0.6192984580993652\n",
      "ts 34 epoch = 2 loss = 0.6328001618385315\n",
      "ts 35 epoch = 2 loss = 0.6190134286880493\n",
      "ts 36 epoch = 2 loss = 0.6265250444412231\n",
      "ts 37 epoch = 2 loss = 0.6385706663131714\n",
      "ts 38 epoch = 2 loss = 0.5974803566932678\n",
      "ts 39 epoch = 2 loss = 0.6500998735427856\n",
      "ts 40 epoch = 2 loss = 0.6576869487762451\n",
      "ts 41 epoch = 2 loss = 0.6316766738891602\n",
      "ts 42 epoch = 2 loss = 0.631324827671051\n",
      "ts 43 epoch = 2 loss = 0.5986611843109131\n",
      "ts 44 epoch = 2 loss = 0.6069202423095703\n",
      "ts 45 epoch = 2 loss = 0.6643589735031128\n",
      "ts 46 epoch = 2 loss = 0.6494528651237488\n",
      "ts 47 epoch = 2 loss = 0.6192229986190796\n",
      "ts 48 epoch = 2 loss = 0.6541871428489685\n",
      "ts 49 epoch = 2 loss = 0.6075029969215393\n",
      "ts 50 epoch = 2 loss = 0.6136834621429443\n",
      "ts 51 epoch = 2 loss = 0.6351497769355774\n",
      "ts 52 epoch = 2 loss = 0.6213252544403076\n",
      "ts 53 epoch = 2 loss = 0.6096540689468384\n",
      "ts 54 epoch = 2 loss = 0.627643883228302\n",
      "ts 55 epoch = 2 loss = 0.5913788676261902\n",
      "ts 56 epoch = 2 loss = 0.6312755942344666\n",
      "ts 57 epoch = 2 loss = 0.5956624150276184\n",
      "ts 58 epoch = 2 loss = 0.6448116898536682\n",
      "ts 59 epoch = 2 loss = 0.6479701399803162\n",
      "ts 60 epoch = 2 loss = 0.5904691815376282\n",
      "ts 61 epoch = 2 loss = 0.6250808835029602\n",
      "ts 62 epoch = 2 loss = 0.6251392960548401\n",
      "ts 63 epoch = 2 loss = 0.6077210307121277\n",
      "ts 64 epoch = 2 loss = 0.6440351605415344\n",
      "ts 65 epoch = 2 loss = 0.6163064241409302\n",
      "ts 66 epoch = 2 loss = 0.6005011796951294\n",
      "ts 67 epoch = 2 loss = 0.6257138848304749\n",
      "ts 68 epoch = 2 loss = 0.6464340686798096\n",
      "ts 69 epoch = 2 loss = 0.609218418598175\n",
      "ts 70 epoch = 2 loss = 0.5895821452140808\n",
      "ts 71 epoch = 2 loss = 0.5903627276420593\n",
      "ts 72 epoch = 2 loss = 0.6412113904953003\n",
      "ts 73 epoch = 2 loss = 0.6401576399803162\n",
      "ts 74 epoch = 2 loss = 0.6155151724815369\n",
      "ts 75 epoch = 2 loss = 0.6873422861099243\n",
      "ts 76 epoch = 2 loss = 0.6063406467437744\n",
      "ts 77 epoch = 2 loss = 0.5980843305587769\n",
      "ts 78 epoch = 2 loss = 0.6285175085067749\n",
      "ts 79 epoch = 2 loss = 0.5867351293563843\n",
      "ts 80 epoch = 2 loss = 0.6498048901557922\n",
      "ts 81 epoch = 2 loss = 0.6073324680328369\n",
      "ts 82 epoch = 2 loss = 0.6222221851348877\n",
      "ts 83 epoch = 2 loss = 0.6865047216415405\n",
      "ts 84 epoch = 2 loss = 0.5863263010978699\n",
      "ts 85 epoch = 2 loss = 0.6092740297317505\n",
      "ts 86 epoch = 2 loss = 0.6319109797477722\n",
      "ts 87 epoch = 2 loss = 0.647564172744751\n",
      "ts 88 epoch = 2 loss = 0.6099348068237305\n",
      "ts 89 epoch = 2 loss = 0.5906484127044678\n",
      "ts 90 epoch = 2 loss = 0.6287561058998108\n",
      "ts 91 epoch = 2 loss = 0.6045703887939453\n",
      "ts 92 epoch = 2 loss = 0.6216768622398376\n",
      "ts 93 epoch = 2 loss = 0.6283549070358276\n",
      "ts 94 epoch = 2 loss = 0.6002638936042786\n",
      "ts 95 epoch = 2 loss = 0.6032460331916809\n",
      "ts 96 epoch = 2 loss = 0.6112934947013855\n",
      "ts 97 epoch = 2 loss = 0.6221639513969421\n",
      "ts 98 epoch = 2 loss = 0.6095079779624939\n",
      "ts 99 epoch = 2 loss = 0.6371853947639465\n",
      "ts 100 epoch = 2 loss = 0.6114100813865662\n",
      "ts 101 epoch = 2 loss = 0.6232346296310425\n",
      "ts 102 epoch = 2 loss = 0.6365836262702942\n",
      "ts 103 epoch = 2 loss = 0.6525551676750183\n"
     ]
    },
    {
     "name": "stdout",
     "output_type": "stream",
     "text": [
      "ts 104 epoch = 2 loss = 0.6134896874427795\n",
      "ts 105 epoch = 2 loss = 0.5832655429840088\n",
      "ts 106 epoch = 2 loss = 0.6064045429229736\n",
      "ts 107 epoch = 2 loss = 0.6134443879127502\n",
      "ts 108 epoch = 2 loss = 0.6165826916694641\n",
      "ts 109 epoch = 2 loss = 0.6047928929328918\n",
      "ts 110 epoch = 2 loss = 0.6197147369384766\n",
      "ts 111 epoch = 2 loss = 0.622501015663147\n",
      "ts 112 epoch = 2 loss = 0.5817692875862122\n",
      "ts 113 epoch = 2 loss = 0.6212211847305298\n",
      "ts 114 epoch = 2 loss = 0.6397361159324646\n",
      "ts 115 epoch = 2 loss = 0.6229766011238098\n",
      "ts 116 epoch = 2 loss = 0.6514539122581482\n",
      "ts 117 epoch = 2 loss = 0.6294030547142029\n",
      "ts 118 epoch = 2 loss = 0.6417744159698486\n",
      "ts 119 epoch = 2 loss = 0.6124926209449768\n",
      "ts 120 epoch = 2 loss = 0.6013215184211731\n",
      "ts 121 epoch = 2 loss = 0.6205582618713379\n",
      "ts 122 epoch = 2 loss = 0.6486445069313049\n",
      "ts 123 epoch = 2 loss = 0.6052477359771729\n",
      "ts 124 epoch = 2 loss = 0.6412005424499512\n",
      "ts 125 epoch = 2 loss = 0.6282745003700256\n",
      "ts 126 epoch = 2 loss = 0.5927524566650391\n",
      "ts 127 epoch = 2 loss = 0.6437749266624451\n",
      "ts 128 epoch = 2 loss = 0.6012663245201111\n",
      "ts 129 epoch = 2 loss = 0.6070759892463684\n",
      "ts 130 epoch = 2 loss = 0.6079396605491638\n",
      "ts 131 epoch = 2 loss = 0.6060722470283508\n",
      "ts 132 epoch = 2 loss = 0.6322931051254272\n",
      "ts 133 epoch = 2 loss = 0.6036884784698486\n",
      "ts 134 epoch = 2 loss = 0.6174904108047485\n",
      "ts 135 epoch = 2 loss = 0.6032792329788208\n",
      "ts 136 epoch = 2 loss = 0.6446036696434021\n",
      "ts 137 epoch = 2 loss = 0.6210291385650635\n",
      "ts 138 epoch = 2 loss = 0.5716588497161865\n",
      "ts 139 epoch = 2 loss = 0.6150833964347839\n",
      "ts 140 epoch = 2 loss = 0.5587234497070312\n",
      "ts 141 epoch = 2 loss = 0.6085067391395569\n",
      "ts 142 epoch = 2 loss = 0.6364558935165405\n",
      "ts 143 epoch = 2 loss = 0.5724101066589355\n",
      "ts 144 epoch = 2 loss = 0.6243522763252258\n",
      "ts 145 epoch = 2 loss = 0.6279528141021729\n",
      "ts 146 epoch = 2 loss = 0.6073665618896484\n",
      "ts 147 epoch = 2 loss = 0.6198843121528625\n",
      "ts 148 epoch = 2 loss = 0.6046330332756042\n",
      "ts 149 epoch = 2 loss = 0.5565749406814575\n",
      "ts 150 epoch = 2 loss = 0.6224038004875183\n",
      "ts 151 epoch = 2 loss = 0.5693553686141968\n",
      "ts 152 epoch = 2 loss = 0.625292956829071\n",
      "ts 153 epoch = 2 loss = 0.6214414834976196\n",
      "ts 154 epoch = 2 loss = 0.6184095144271851\n",
      "ts 155 epoch = 2 loss = 0.6840934157371521\n",
      "ts 156 epoch = 2 loss = 0.5949426293373108\n",
      "ts 157 epoch = 2 loss = 0.652031660079956\n",
      "ts 158 epoch = 2 loss = 0.5816221237182617\n",
      "ts 159 epoch = 2 loss = 0.5786502957344055\n",
      "ts 160 epoch = 2 loss = 0.6147188544273376\n",
      "ts 161 epoch = 2 loss = 0.5750828385353088\n",
      "ts 162 epoch = 2 loss = 0.6083030104637146\n",
      "ts 163 epoch = 2 loss = 0.5964214205741882\n",
      "ts 164 epoch = 2 loss = 0.6034380793571472\n",
      "ts 165 epoch = 2 loss = 0.6096760034561157\n",
      "ts 166 epoch = 2 loss = 0.6166613698005676\n"
     ]
    },
    {
     "ename": "KeyboardInterrupt",
     "evalue": "",
     "output_type": "error",
     "traceback": [
      "\u001b[0;31m---------------------------------------------------------------------------\u001b[0m",
      "\u001b[0;31mKeyboardInterrupt\u001b[0m                         Traceback (most recent call last)",
      "Input \u001b[0;32mIn [19]\u001b[0m, in \u001b[0;36m<module>\u001b[0;34m\u001b[0m\n\u001b[0;32m----> 1\u001b[0m \u001b[43mtrain\u001b[49m\u001b[43m(\u001b[49m\u001b[43m)\u001b[49m\n",
      "Input \u001b[0;32mIn [18]\u001b[0m, in \u001b[0;36mtrain\u001b[0;34m()\u001b[0m\n\u001b[1;32m      8\u001b[0m optimizer\u001b[38;5;241m.\u001b[39mzero_grad()\n\u001b[1;32m      9\u001b[0m \u001b[38;5;66;03m# Passando as informações do batch e de conexão dos grafos\u001b[39;00m\n\u001b[0;32m---> 10\u001b[0m logits, _ \u001b[38;5;241m=\u001b[39m \u001b[43mmodel\u001b[49m\u001b[43m(\u001b[49m\n\u001b[1;32m     11\u001b[0m \u001b[43m    \u001b[49m\u001b[43mdata\u001b[49m\u001b[38;5;241;43m.\u001b[39;49m\u001b[43mx\u001b[49m\u001b[38;5;241;43m.\u001b[39;49m\u001b[43mT\u001b[49m\u001b[38;5;241;43m.\u001b[39;49m\u001b[43mtype\u001b[49m\u001b[43m(\u001b[49m\u001b[43mtorch\u001b[49m\u001b[38;5;241;43m.\u001b[39;49m\u001b[43mFloatTensor\u001b[49m\u001b[43m)\u001b[49m\u001b[43m,\u001b[49m\n\u001b[1;32m     12\u001b[0m \u001b[43m    \u001b[49m\u001b[43mdata\u001b[49m\u001b[38;5;241;43m.\u001b[39;49m\u001b[43medge_attr\u001b[49m\u001b[38;5;241;43m.\u001b[39;49m\u001b[43mT\u001b[49m\u001b[38;5;241;43m.\u001b[39;49m\u001b[43mtype\u001b[49m\u001b[43m(\u001b[49m\u001b[43mtorch\u001b[49m\u001b[38;5;241;43m.\u001b[39;49m\u001b[43mFloatTensor\u001b[49m\u001b[43m)\u001b[49m\u001b[43m,\u001b[49m\n\u001b[1;32m     13\u001b[0m \u001b[43m    \u001b[49m\u001b[43mdata\u001b[49m\u001b[38;5;241;43m.\u001b[39;49m\u001b[43medge_to_edge_adj_matr\u001b[49m\u001b[38;5;241;43m.\u001b[39;49m\u001b[43mtype\u001b[49m\u001b[43m(\u001b[49m\u001b[43mtorch\u001b[49m\u001b[38;5;241;43m.\u001b[39;49m\u001b[43mFloatTensor\u001b[49m\u001b[43m)\u001b[49m\u001b[38;5;241;43m.\u001b[39;49m\u001b[43mT\u001b[49m\u001b[43m,\u001b[49m\n\u001b[1;32m     14\u001b[0m \u001b[43m    \u001b[49m\u001b[43mdata\u001b[49m\u001b[38;5;241;43m.\u001b[39;49m\u001b[43medge_to_node_adj_matr\u001b[49m\u001b[38;5;241;43m.\u001b[39;49m\u001b[43mtype\u001b[49m\u001b[43m(\u001b[49m\u001b[43mtorch\u001b[49m\u001b[38;5;241;43m.\u001b[39;49m\u001b[43mFloatTensor\u001b[49m\u001b[43m)\u001b[49m\u001b[38;5;241;43m.\u001b[39;49m\u001b[43mT\u001b[49m\u001b[43m,\u001b[49m\n\u001b[1;32m     15\u001b[0m \u001b[43m    \u001b[49m\u001b[43mdata\u001b[49m\u001b[38;5;241;43m.\u001b[39;49m\u001b[43mnode_to_edge_adj_matr\u001b[49m\u001b[38;5;241;43m.\u001b[39;49m\u001b[43mtype\u001b[49m\u001b[43m(\u001b[49m\u001b[43mtorch\u001b[49m\u001b[38;5;241;43m.\u001b[39;49m\u001b[43mFloatTensor\u001b[49m\u001b[43m)\u001b[49m\u001b[38;5;241;43m.\u001b[39;49m\u001b[43mT\u001b[49m\u001b[43m,\u001b[49m\n\u001b[1;32m     16\u001b[0m \u001b[43m    \u001b[49m\u001b[43mdata\u001b[49m\u001b[38;5;241;43m.\u001b[39;49m\u001b[43mnode_to_node_adj_matr\u001b[49m\u001b[38;5;241;43m.\u001b[39;49m\u001b[43mtype\u001b[49m\u001b[43m(\u001b[49m\u001b[43mtorch\u001b[49m\u001b[38;5;241;43m.\u001b[39;49m\u001b[43mFloatTensor\u001b[49m\u001b[43m)\u001b[49m\u001b[38;5;241;43m.\u001b[39;49m\u001b[43mT\u001b[49m\n\u001b[1;32m     17\u001b[0m \u001b[43m\u001b[49m\u001b[43m)\u001b[49m\n\u001b[1;32m     18\u001b[0m \u001b[38;5;66;03m#label_pred = pred.max(1)[1]\u001b[39;00m\n\u001b[1;32m     19\u001b[0m \u001b[38;5;66;03m# Calculando a perda e os gradientes.\u001b[39;00m\n\u001b[1;32m     20\u001b[0m l \u001b[38;5;241m=\u001b[39m loss(logits, data\u001b[38;5;241m.\u001b[39my)\n",
      "File \u001b[0;32m~/Dissertacao_mestrado/GCNMoneyLaundering/venv/lib/python3.8/site-packages/torch/nn/modules/module.py:1102\u001b[0m, in \u001b[0;36mModule._call_impl\u001b[0;34m(self, *input, **kwargs)\u001b[0m\n\u001b[1;32m   1098\u001b[0m \u001b[38;5;66;03m# If we don't have any hooks, we want to skip the rest of the logic in\u001b[39;00m\n\u001b[1;32m   1099\u001b[0m \u001b[38;5;66;03m# this function, and just call forward.\u001b[39;00m\n\u001b[1;32m   1100\u001b[0m \u001b[38;5;28;01mif\u001b[39;00m \u001b[38;5;129;01mnot\u001b[39;00m (\u001b[38;5;28mself\u001b[39m\u001b[38;5;241m.\u001b[39m_backward_hooks \u001b[38;5;129;01mor\u001b[39;00m \u001b[38;5;28mself\u001b[39m\u001b[38;5;241m.\u001b[39m_forward_hooks \u001b[38;5;129;01mor\u001b[39;00m \u001b[38;5;28mself\u001b[39m\u001b[38;5;241m.\u001b[39m_forward_pre_hooks \u001b[38;5;129;01mor\u001b[39;00m _global_backward_hooks\n\u001b[1;32m   1101\u001b[0m         \u001b[38;5;129;01mor\u001b[39;00m _global_forward_hooks \u001b[38;5;129;01mor\u001b[39;00m _global_forward_pre_hooks):\n\u001b[0;32m-> 1102\u001b[0m     \u001b[38;5;28;01mreturn\u001b[39;00m \u001b[43mforward_call\u001b[49m\u001b[43m(\u001b[49m\u001b[38;5;241;43m*\u001b[39;49m\u001b[38;5;28;43minput\u001b[39;49m\u001b[43m,\u001b[49m\u001b[43m \u001b[49m\u001b[38;5;241;43m*\u001b[39;49m\u001b[38;5;241;43m*\u001b[39;49m\u001b[43mkwargs\u001b[49m\u001b[43m)\u001b[49m\n\u001b[1;32m   1103\u001b[0m \u001b[38;5;66;03m# Do not call functions when jit is used\u001b[39;00m\n\u001b[1;32m   1104\u001b[0m full_backward_hooks, non_full_backward_hooks \u001b[38;5;241m=\u001b[39m [], []\n",
      "File \u001b[0;32m~/Dissertacao_mestrado/GCNMoneyLaundering/test_amlsim_nenn/model_nenn.py:317\u001b[0m, in \u001b[0;36mNenn.forward\u001b[0;34m(self, node_features, edge_features, edge_to_edge_adj_matrix, edge_to_node_adj_matrix, node_to_edge_adj_matrix, node_to_node_adj_matrix)\u001b[0m\n\u001b[1;32m    308\u001b[0m \u001b[38;5;124;03m\"\"\"\u001b[39;00m\n\u001b[1;32m    309\u001b[0m \u001b[38;5;124;03mFoward function:\u001b[39;00m\n\u001b[1;32m    310\u001b[0m \u001b[38;5;124;03m:param node_features: Tensor\u001b[39;00m\n\u001b[0;32m   (...)\u001b[0m\n\u001b[1;32m    314\u001b[0m \u001b[38;5;124;03m:param node_to_node_adj_matrix: Tensor\u001b[39;00m\n\u001b[1;32m    315\u001b[0m \u001b[38;5;124;03m\"\"\"\u001b[39;00m\n\u001b[1;32m    316\u001b[0m edge_embeds1 \u001b[38;5;241m=\u001b[39m \u001b[38;5;28mself\u001b[39m\u001b[38;5;241m.\u001b[39mlayer1(node_features, edge_features, edge_to_edge_adj_matrix, node_to_edge_adj_matrix)\n\u001b[0;32m--> 317\u001b[0m node_embeds \u001b[38;5;241m=\u001b[39m \u001b[38;5;28;43mself\u001b[39;49m\u001b[38;5;241;43m.\u001b[39;49m\u001b[43mlayer2\u001b[49m\u001b[43m(\u001b[49m\u001b[43mnode_features\u001b[49m\u001b[43m,\u001b[49m\u001b[43m \u001b[49m\u001b[43medge_embeds1\u001b[49m\u001b[43m,\u001b[49m\u001b[43m \u001b[49m\u001b[43mnode_to_node_adj_matrix\u001b[49m\u001b[43m,\u001b[49m\u001b[43m \u001b[49m\u001b[43medge_to_node_adj_matrix\u001b[49m\u001b[43m)\u001b[49m\n\u001b[1;32m    318\u001b[0m edge_embeds2 \u001b[38;5;241m=\u001b[39m \u001b[38;5;28mself\u001b[39m\u001b[38;5;241m.\u001b[39mlayer3(node_embeds, edge_embeds1, edge_to_edge_adj_matrix, node_to_edge_adj_matrix)\n\u001b[1;32m    319\u001b[0m output_linear \u001b[38;5;241m=\u001b[39m \u001b[38;5;28mself\u001b[39m\u001b[38;5;241m.\u001b[39mlayer4(edge_embeds2\u001b[38;5;241m.\u001b[39mfloat())\n",
      "File \u001b[0;32m~/Dissertacao_mestrado/GCNMoneyLaundering/venv/lib/python3.8/site-packages/torch/nn/modules/module.py:1102\u001b[0m, in \u001b[0;36mModule._call_impl\u001b[0;34m(self, *input, **kwargs)\u001b[0m\n\u001b[1;32m   1098\u001b[0m \u001b[38;5;66;03m# If we don't have any hooks, we want to skip the rest of the logic in\u001b[39;00m\n\u001b[1;32m   1099\u001b[0m \u001b[38;5;66;03m# this function, and just call forward.\u001b[39;00m\n\u001b[1;32m   1100\u001b[0m \u001b[38;5;28;01mif\u001b[39;00m \u001b[38;5;129;01mnot\u001b[39;00m (\u001b[38;5;28mself\u001b[39m\u001b[38;5;241m.\u001b[39m_backward_hooks \u001b[38;5;129;01mor\u001b[39;00m \u001b[38;5;28mself\u001b[39m\u001b[38;5;241m.\u001b[39m_forward_hooks \u001b[38;5;129;01mor\u001b[39;00m \u001b[38;5;28mself\u001b[39m\u001b[38;5;241m.\u001b[39m_forward_pre_hooks \u001b[38;5;129;01mor\u001b[39;00m _global_backward_hooks\n\u001b[1;32m   1101\u001b[0m         \u001b[38;5;129;01mor\u001b[39;00m _global_forward_hooks \u001b[38;5;129;01mor\u001b[39;00m _global_forward_pre_hooks):\n\u001b[0;32m-> 1102\u001b[0m     \u001b[38;5;28;01mreturn\u001b[39;00m \u001b[43mforward_call\u001b[49m\u001b[43m(\u001b[49m\u001b[38;5;241;43m*\u001b[39;49m\u001b[38;5;28;43minput\u001b[39;49m\u001b[43m,\u001b[49m\u001b[43m \u001b[49m\u001b[38;5;241;43m*\u001b[39;49m\u001b[38;5;241;43m*\u001b[39;49m\u001b[43mkwargs\u001b[49m\u001b[43m)\u001b[49m\n\u001b[1;32m   1103\u001b[0m \u001b[38;5;66;03m# Do not call functions when jit is used\u001b[39;00m\n\u001b[1;32m   1104\u001b[0m full_backward_hooks, non_full_backward_hooks \u001b[38;5;241m=\u001b[39m [], []\n",
      "File \u001b[0;32m~/Dissertacao_mestrado/GCNMoneyLaundering/test_amlsim_nenn/model_nenn.py:138\u001b[0m, in \u001b[0;36mNodeLevelAttentionLayer.forward\u001b[0;34m(self, node_features, edge_features, node_to_node_adj_matrix, edge_to_node_adj_matrix)\u001b[0m\n\u001b[1;32m    132\u001b[0m denominator_e \u001b[38;5;241m=\u001b[39m edge_to_node_adj_matrix\u001b[38;5;241m.\u001b[39msum(axis\u001b[38;5;241m=\u001b[39m\u001b[38;5;241m1\u001b[39m)\n\u001b[1;32m    134\u001b[0m embed_propagated_e \u001b[38;5;241m=\u001b[39m edge_embeds\u001b[38;5;241m.\u001b[39mtile([node_embeds\u001b[38;5;241m.\u001b[39mshape[\u001b[38;5;241m0\u001b[39m], \u001b[38;5;241m1\u001b[39m])\u001b[38;5;241m.\u001b[39mreshape(\n\u001b[1;32m    135\u001b[0m     [node_embeds\u001b[38;5;241m.\u001b[39mshape[\u001b[38;5;241m0\u001b[39m], edge_embeds\u001b[38;5;241m.\u001b[39mshape[\u001b[38;5;241m0\u001b[39m], edge_embeds\u001b[38;5;241m.\u001b[39mshape[\u001b[38;5;241m1\u001b[39m]]\n\u001b[1;32m    136\u001b[0m )\n\u001b[0;32m--> 138\u001b[0m summatory_e \u001b[38;5;241m=\u001b[39m \u001b[43mimportance_coefficients_e\u001b[49m\u001b[38;5;241;43m.\u001b[39;49m\u001b[43mreshape\u001b[49m\u001b[43m(\u001b[49m\n\u001b[1;32m    139\u001b[0m \u001b[43m    \u001b[49m\u001b[43m[\u001b[49m\u001b[43mimportance_coefficients_e\u001b[49m\u001b[38;5;241;43m.\u001b[39;49m\u001b[43mshape\u001b[49m\u001b[43m[\u001b[49m\u001b[38;5;241;43m0\u001b[39;49m\u001b[43m]\u001b[49m\u001b[43m,\u001b[49m\u001b[43m \u001b[49m\u001b[43mimportance_coefficients_e\u001b[49m\u001b[38;5;241;43m.\u001b[39;49m\u001b[43mshape\u001b[49m\u001b[43m[\u001b[49m\u001b[38;5;241;43m1\u001b[39;49m\u001b[43m]\u001b[49m\u001b[43m,\u001b[49m\u001b[43m \u001b[49m\u001b[38;5;241;43m1\u001b[39;49m\u001b[43m]\u001b[49m\n\u001b[1;32m    140\u001b[0m \u001b[43m\u001b[49m\u001b[43m)\u001b[49m \u001b[38;5;241m*\u001b[39m embed_propagated_e\n\u001b[1;32m    142\u001b[0m final_embeds_e \u001b[38;5;241m=\u001b[39m torch\u001b[38;5;241m.\u001b[39mnan_to_num(summatory_e\u001b[38;5;241m.\u001b[39msum(axis\u001b[38;5;241m=\u001b[39m\u001b[38;5;241m1\u001b[39m) \u001b[38;5;241m/\u001b[39m denominator_e[:, \u001b[38;5;28;01mNone\u001b[39;00m])\n\u001b[1;32m    144\u001b[0m output_edges \u001b[38;5;241m=\u001b[39m \u001b[38;5;28mself\u001b[39m\u001b[38;5;241m.\u001b[39medge_activation(final_embeds_e)\n",
      "\u001b[0;31mKeyboardInterrupt\u001b[0m: "
     ]
    }
   ],
   "source": [
    "train()"
   ]
  },
  {
   "cell_type": "code",
   "execution_count": null,
   "id": "cee38f1c",
   "metadata": {},
   "outputs": [],
   "source": [
    "label_pred_list = []\n",
    "y_true_list = []\n",
    "\n",
    "def test():\n",
    "    model.eval()\n",
    "    with torch.no_grad():\n",
    "        global label_pred_list\n",
    "        global y_true_list\n",
    "        for data in test_data:\n",
    "            data.to('cpu')\n",
    "            logits, _ = model(\n",
    "                data.x.T.type(torch.FloatTensor),\n",
    "                data.edge_attr.T.type(torch.FloatTensor),\n",
    "                data.edge_to_edge_adj_matr.T.type(torch.FloatTensor),\n",
    "                data.edge_to_node_adj_matr.T.type(torch.FloatTensor),\n",
    "                data.node_to_edge_adj_matr.T.type(torch.FloatTensor),\n",
    "                data.node_to_node_adj_matr.T.type(torch.FloatTensor)\n",
    "            )\n",
    "            label_pred = logits.max(1)[1].tolist()\n",
    "            label_pred_list += label_pred\n",
    "            y_true_list += data.y.tolist()\n",
    "    model.train()"
   ]
  },
  {
   "cell_type": "code",
   "execution_count": null,
   "id": "321b925a",
   "metadata": {},
   "outputs": [],
   "source": [
    "test()"
   ]
  },
  {
   "cell_type": "code",
   "execution_count": null,
   "id": "b023d780",
   "metadata": {},
   "outputs": [],
   "source": [
    "import numpy as np\n",
    "np.sum(label_pred_list)"
   ]
  },
  {
   "cell_type": "code",
   "execution_count": null,
   "id": "5a4bf778",
   "metadata": {},
   "outputs": [],
   "source": [
    "label_pred_list"
   ]
  },
  {
   "cell_type": "code",
   "execution_count": null,
   "id": "a978512c",
   "metadata": {},
   "outputs": [],
   "source": [
    "y_true_list"
   ]
  },
  {
   "cell_type": "code",
   "execution_count": null,
   "id": "e6758481",
   "metadata": {},
   "outputs": [],
   "source": [
    "from sklearn.metrics import precision_score, recall_score, f1_score, classification_report"
   ]
  },
  {
   "cell_type": "code",
   "execution_count": null,
   "id": "340bc389",
   "metadata": {},
   "outputs": [],
   "source": [
    "mean_precision = []\n",
    "mean_recall = []\n",
    "mean_f1 = []\n",
    "\n",
    "prec = precision_score(y_true_list, label_pred_list, average='binary', labels=[0])\n",
    "rec = recall_score(y_true_list, label_pred_list, average='binary', labels=[0])\n",
    "f1 = f1_score(y_true_list, label_pred_list, average='binary', labels=[0])"
   ]
  },
  {
   "cell_type": "code",
   "execution_count": null,
   "id": "297a092b",
   "metadata": {
    "scrolled": true
   },
   "outputs": [],
   "source": [
    "print(classification_report(y_true_list,label_pred_list))"
   ]
  },
  {
   "cell_type": "code",
   "execution_count": null,
   "id": "36527b89",
   "metadata": {},
   "outputs": [],
   "source": [
    "prec"
   ]
  },
  {
   "cell_type": "code",
   "execution_count": null,
   "id": "e00da15c",
   "metadata": {},
   "outputs": [],
   "source": [
    "rec"
   ]
  },
  {
   "cell_type": "code",
   "execution_count": null,
   "id": "b4b23055",
   "metadata": {},
   "outputs": [],
   "source": [
    "f1"
   ]
  },
  {
   "cell_type": "code",
   "execution_count": null,
   "id": "5e7d15c4",
   "metadata": {},
   "outputs": [],
   "source": [
    "prec = precision_score(y_true_list, label_pred_list, average='macro')\n",
    "rec = recall_score(y_true_list, label_pred_list, average='macro')\n",
    "f1 = f1_score(y_true_list, label_pred_list, average='macro')"
   ]
  },
  {
   "cell_type": "code",
   "execution_count": null,
   "id": "a36c01f5",
   "metadata": {},
   "outputs": [],
   "source": [
    "prec"
   ]
  },
  {
   "cell_type": "code",
   "execution_count": null,
   "id": "52c1f16e",
   "metadata": {},
   "outputs": [],
   "source": [
    "rec"
   ]
  },
  {
   "cell_type": "code",
   "execution_count": null,
   "id": "c5b7ff9b",
   "metadata": {},
   "outputs": [],
   "source": [
    "f1"
   ]
  },
  {
   "cell_type": "markdown",
   "id": "4f3bc003",
   "metadata": {},
   "source": [
    "# Adicionando XGBoost"
   ]
  },
  {
   "cell_type": "code",
   "execution_count": null,
   "id": "34c3758e",
   "metadata": {},
   "outputs": [],
   "source": [
    "# Pesos saída\n",
    "\n",
    "embeddings_train = []\n",
    "y_train = []\n",
    "\n",
    "model.eval()\n",
    "with torch.no_grad():\n",
    "\n",
    "    for data in train_data:\n",
    "        data.to('cpu')\n",
    "        _, embedding_train = model(\n",
    "            data.x.T.type(torch.FloatTensor),\n",
    "            data.edge_attr.T.type(torch.FloatTensor),\n",
    "            data.edge_to_edge_adj_matr.type(torch.FloatTensor),\n",
    "            data.edge_to_node_adj_matr.type(torch.FloatTensor),\n",
    "            data.node_to_edge_adj_matr.type(torch.FloatTensor),\n",
    "            data.node_to_node_adj_matr.type(torch.FloatTensor)\n",
    "        )\n",
    "        embeddings_train += embedding_train.numpy().tolist()\n",
    "        y_train += data.y.numpy().tolist()\n",
    "model.train()"
   ]
  },
  {
   "cell_type": "code",
   "execution_count": null,
   "id": "a46f1f6c",
   "metadata": {},
   "outputs": [],
   "source": [
    "embeddings_train = np.array(embeddings_train)"
   ]
  },
  {
   "cell_type": "code",
   "execution_count": null,
   "id": "6da15978",
   "metadata": {},
   "outputs": [],
   "source": [
    "y_train = np.array(y_train)"
   ]
  },
  {
   "cell_type": "code",
   "execution_count": null,
   "id": "4e48a21b",
   "metadata": {},
   "outputs": [],
   "source": [
    "embeddings_train.shape"
   ]
  },
  {
   "cell_type": "code",
   "execution_count": null,
   "id": "9b0777cb",
   "metadata": {},
   "outputs": [],
   "source": [
    "y_train"
   ]
  },
  {
   "cell_type": "code",
   "execution_count": null,
   "id": "17c04ebb",
   "metadata": {},
   "outputs": [],
   "source": [
    "import xgboost as xgb"
   ]
  },
  {
   "cell_type": "code",
   "execution_count": null,
   "id": "e2ad6e67",
   "metadata": {},
   "outputs": [],
   "source": [
    "xgb_model = xgb.XGBClassifier(objective=\"binary:logistic\", random_state=42)"
   ]
  },
  {
   "cell_type": "code",
   "execution_count": null,
   "id": "47e5a13e",
   "metadata": {},
   "outputs": [],
   "source": [
    "xgb_model.fit(embeddings_train, y_train)"
   ]
  },
  {
   "cell_type": "code",
   "execution_count": null,
   "id": "fea69299",
   "metadata": {},
   "outputs": [],
   "source": [
    "embeddings_test = []\n",
    "y_true = []\n",
    "\n",
    "model.eval()\n",
    "with torch.no_grad():\n",
    "\n",
    "    for data in test_data:\n",
    "        data.to('cpu')\n",
    "        _, embedding_test = model(\n",
    "            data.x.T.type(torch.FloatTensor),\n",
    "            data.edge_attr.T.type(torch.FloatTensor),\n",
    "            data.edge_to_edge_adj_matr.type(torch.FloatTensor),\n",
    "            data.edge_to_node_adj_matr.type(torch.FloatTensor),\n",
    "            data.node_to_edge_adj_matr.type(torch.FloatTensor),\n",
    "            data.node_to_node_adj_matr.type(torch.FloatTensor)\n",
    "        )\n",
    "        embeddings_test += embedding_test.numpy().tolist()\n",
    "        y_true += data.y.numpy().tolist()\n",
    "model.train()"
   ]
  },
  {
   "cell_type": "code",
   "execution_count": null,
   "id": "d8358308",
   "metadata": {},
   "outputs": [],
   "source": [
    "embeddings_test = np.array(embeddings_test)"
   ]
  },
  {
   "cell_type": "code",
   "execution_count": null,
   "id": "c9dbad26",
   "metadata": {},
   "outputs": [],
   "source": [
    "y_true = np.array(y_true)"
   ]
  },
  {
   "cell_type": "code",
   "execution_count": null,
   "id": "e91f2212",
   "metadata": {},
   "outputs": [],
   "source": [
    "embeddings_test.shape"
   ]
  },
  {
   "cell_type": "code",
   "execution_count": null,
   "id": "e7b62376",
   "metadata": {},
   "outputs": [],
   "source": [
    "y_true.shape"
   ]
  },
  {
   "cell_type": "code",
   "execution_count": null,
   "id": "fa2e8d3d",
   "metadata": {},
   "outputs": [],
   "source": [
    "y_pred = xgb_model.predict(embeddings_test)"
   ]
  },
  {
   "cell_type": "code",
   "execution_count": null,
   "id": "0b68df7d",
   "metadata": {},
   "outputs": [],
   "source": [
    "print(classification_report(y_true,y_pred))"
   ]
  }
 ],
 "metadata": {
  "kernelspec": {
   "display_name": "Python 3 (ipykernel)",
   "language": "python",
   "name": "python3"
  },
  "language_info": {
   "codemirror_mode": {
    "name": "ipython",
    "version": 3
   },
   "file_extension": ".py",
   "mimetype": "text/x-python",
   "name": "python",
   "nbconvert_exporter": "python",
   "pygments_lexer": "ipython3",
   "version": "3.8.10"
  }
 },
 "nbformat": 4,
 "nbformat_minor": 5
}

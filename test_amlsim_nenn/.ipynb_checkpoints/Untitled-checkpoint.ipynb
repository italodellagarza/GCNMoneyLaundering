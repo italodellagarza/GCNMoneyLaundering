{
 "cells": [
  {
   "cell_type": "code",
   "execution_count": 1,
   "id": "bafb4ee9",
   "metadata": {},
   "outputs": [],
   "source": [
    "import numpy as np\n",
    "import torch"
   ]
  },
  {
   "cell_type": "markdown",
   "id": "25102699",
   "metadata": {},
   "source": [
    "### Definições de pesos e features"
   ]
  },
  {
   "cell_type": "code",
   "execution_count": 2,
   "id": "11af5577",
   "metadata": {},
   "outputs": [],
   "source": [
    "node_feature = np.array([[0.5, 0.9, 0.6],[0.9, 0.2, 0.7],[0.3, 0.2, 0.5],[0.2, 0.2, 0.1]])"
   ]
  },
  {
   "cell_type": "code",
   "execution_count": 3,
   "id": "764c8937",
   "metadata": {
    "scrolled": true
   },
   "outputs": [
    {
     "data": {
      "text/plain": [
       "array([[0.5, 0.9, 0.6],\n",
       "       [0.9, 0.2, 0.7],\n",
       "       [0.3, 0.2, 0.5],\n",
       "       [0.2, 0.2, 0.1]])"
      ]
     },
     "execution_count": 3,
     "metadata": {},
     "output_type": "execute_result"
    }
   ],
   "source": [
    "node_feature"
   ]
  },
  {
   "cell_type": "code",
   "execution_count": 4,
   "id": "2f38f487",
   "metadata": {},
   "outputs": [],
   "source": [
    "edge_feature = np.array([[0.7, 0.2],[0.3, 0.1],[0.4, 0.7]])"
   ]
  },
  {
   "cell_type": "code",
   "execution_count": 5,
   "id": "0207576c",
   "metadata": {},
   "outputs": [
    {
     "data": {
      "text/plain": [
       "array([[0.7, 0.2],\n",
       "       [0.3, 0.1],\n",
       "       [0.4, 0.7]])"
      ]
     },
     "execution_count": 5,
     "metadata": {},
     "output_type": "execute_result"
    }
   ],
   "source": [
    "edge_feature"
   ]
  },
  {
   "cell_type": "code",
   "execution_count": 6,
   "id": "9ac4886b",
   "metadata": {},
   "outputs": [],
   "source": [
    "weight_node = np.array([[0.2, -0.1, 0.3, 0.5, 0.1], [0.5, 0.4, -0.7, 0.3, -0.8], [0.2, 0.1, -0.2, -0.4, 0.3]])"
   ]
  },
  {
   "cell_type": "code",
   "execution_count": 7,
   "id": "8300bc22",
   "metadata": {},
   "outputs": [
    {
     "data": {
      "text/plain": [
       "array([[ 0.2, -0.1,  0.3,  0.5,  0.1],\n",
       "       [ 0.5,  0.4, -0.7,  0.3, -0.8],\n",
       "       [ 0.2,  0.1, -0.2, -0.4,  0.3]])"
      ]
     },
     "execution_count": 7,
     "metadata": {},
     "output_type": "execute_result"
    }
   ],
   "source": [
    "weight_node"
   ]
  },
  {
   "cell_type": "code",
   "execution_count": 8,
   "id": "696a9a01",
   "metadata": {},
   "outputs": [],
   "source": [
    "weight_edge = np.array([[0.1, -0.3, 0.5, 0.2], [-0.4, 0.1, 0.9, 0.4]])"
   ]
  },
  {
   "cell_type": "code",
   "execution_count": 9,
   "id": "a7a6131e",
   "metadata": {},
   "outputs": [
    {
     "data": {
      "text/plain": [
       "array([[ 0.1, -0.3,  0.5,  0.2],\n",
       "       [-0.4,  0.1,  0.9,  0.4]])"
      ]
     },
     "execution_count": 9,
     "metadata": {},
     "output_type": "execute_result"
    }
   ],
   "source": [
    "weight_edge"
   ]
  },
  {
   "cell_type": "code",
   "execution_count": 10,
   "id": "cee8c3f1",
   "metadata": {},
   "outputs": [],
   "source": [
    "parameter_vector_node = np.array([0.8, 0.2, -0.3, -0.4, 0.5, -0.1, 0.2, 0.4, -1.0])\n",
    "parameter_vector_edge = np.array([0.3, -0.5, 0.9, -0.7, 0.3, 0.6, 0.2, -0.3])"
   ]
  },
  {
   "cell_type": "code",
   "execution_count": 11,
   "id": "880a3d9e",
   "metadata": {},
   "outputs": [
    {
     "data": {
      "text/plain": [
       "array([ 0.8,  0.2, -0.3, -0.4,  0.5, -0.1,  0.2,  0.4, -1. ])"
      ]
     },
     "execution_count": 11,
     "metadata": {},
     "output_type": "execute_result"
    }
   ],
   "source": [
    "parameter_vector_node"
   ]
  },
  {
   "cell_type": "code",
   "execution_count": 12,
   "id": "e2ab8f33",
   "metadata": {},
   "outputs": [
    {
     "data": {
      "text/plain": [
       "array([ 0.3, -0.5,  0.9, -0.7,  0.3,  0.6,  0.2, -0.3])"
      ]
     },
     "execution_count": 12,
     "metadata": {},
     "output_type": "execute_result"
    }
   ],
   "source": [
    "parameter_vector_edge"
   ]
  },
  {
   "cell_type": "code",
   "execution_count": 13,
   "id": "9d55b091",
   "metadata": {},
   "outputs": [],
   "source": [
    "node_to_node_adj_matrix = np.array([[1.0, 0.0, 0.0, 0.0],[1.0, 1.0, 0.0, 1.0],[0.0, 1.0, 1.0, 0.0],[0.0, 0.0, 0.0, 1.0]])"
   ]
  },
  {
   "cell_type": "code",
   "execution_count": 14,
   "id": "2c4de701",
   "metadata": {},
   "outputs": [
    {
     "data": {
      "text/plain": [
       "array([[1., 0., 0., 0.],\n",
       "       [1., 1., 0., 1.],\n",
       "       [0., 1., 1., 0.],\n",
       "       [0., 0., 0., 1.]])"
      ]
     },
     "execution_count": 14,
     "metadata": {},
     "output_type": "execute_result"
    }
   ],
   "source": [
    "node_to_node_adj_matrix"
   ]
  },
  {
   "cell_type": "code",
   "execution_count": 15,
   "id": "2001620b",
   "metadata": {},
   "outputs": [],
   "source": [
    "node_to_edge_adj_matrix = np.array([[1.0, 1.0, 0.0, 0.0],[0.0, 1.0, 1.0, 0.0],[0.0, 1.0, 0.0, 1.0]])"
   ]
  },
  {
   "cell_type": "code",
   "execution_count": 16,
   "id": "731dd93e",
   "metadata": {},
   "outputs": [
    {
     "data": {
      "text/plain": [
       "array([[1., 1., 0., 0.],\n",
       "       [0., 1., 1., 0.],\n",
       "       [0., 1., 0., 1.]])"
      ]
     },
     "execution_count": 16,
     "metadata": {},
     "output_type": "execute_result"
    }
   ],
   "source": [
    "node_to_edge_adj_matrix"
   ]
  },
  {
   "cell_type": "code",
   "execution_count": 17,
   "id": "daebc05c",
   "metadata": {},
   "outputs": [],
   "source": [
    "edge_to_node_adj_matrix = np.array([[0.0, 0.0, 0.0],[1.0, 0.0, 1.0],[0.0, 1.0, 0.0], [0.0, 0.0, 0.0]])"
   ]
  },
  {
   "cell_type": "code",
   "execution_count": 18,
   "id": "205ee10a",
   "metadata": {},
   "outputs": [
    {
     "data": {
      "text/plain": [
       "array([[0., 0., 0.],\n",
       "       [1., 0., 1.],\n",
       "       [0., 1., 0.],\n",
       "       [0., 0., 0.]])"
      ]
     },
     "execution_count": 18,
     "metadata": {},
     "output_type": "execute_result"
    }
   ],
   "source": [
    "edge_to_node_adj_matrix"
   ]
  },
  {
   "cell_type": "code",
   "execution_count": 19,
   "id": "a562fd5c",
   "metadata": {},
   "outputs": [],
   "source": [
    "edge_to_edge_adj_matrix = np.array([[1.0, 0.0, 0.0], [1.0, 1.0, 1.0], [0.0, 0.0, 1.0]])"
   ]
  },
  {
   "cell_type": "code",
   "execution_count": 20,
   "id": "50d4db00",
   "metadata": {},
   "outputs": [
    {
     "data": {
      "text/plain": [
       "array([[1., 0., 0.],\n",
       "       [1., 1., 1.],\n",
       "       [0., 0., 1.]])"
      ]
     },
     "execution_count": 20,
     "metadata": {},
     "output_type": "execute_result"
    }
   ],
   "source": [
    "edge_to_edge_adj_matrix"
   ]
  },
  {
   "cell_type": "markdown",
   "id": "371c8099",
   "metadata": {},
   "source": [
    "# Edge-Level Attention Layer (edge step)"
   ]
  },
  {
   "cell_type": "markdown",
   "id": "63e1d0f0",
   "metadata": {},
   "source": [
    "## Etapa 1 - Geração de embeddings"
   ]
  },
  {
   "cell_type": "code",
   "execution_count": 21,
   "id": "202fe112",
   "metadata": {},
   "outputs": [],
   "source": [
    "node_embeds = torch.matmul(torch.FloatTensor(node_feature), torch.FloatTensor(weight_node))"
   ]
  },
  {
   "cell_type": "code",
   "execution_count": 22,
   "id": "5f57091d",
   "metadata": {},
   "outputs": [
    {
     "data": {
      "text/plain": [
       "tensor([[ 0.6700,  0.3700, -0.6000,  0.2800, -0.4900],\n",
       "        [ 0.4200,  0.0600, -0.0100,  0.2300,  0.1400],\n",
       "        [ 0.2600,  0.1000, -0.1500,  0.0100,  0.0200],\n",
       "        [ 0.1600,  0.0700, -0.1000,  0.1200, -0.1100]])"
      ]
     },
     "execution_count": 22,
     "metadata": {},
     "output_type": "execute_result"
    }
   ],
   "source": [
    "node_embeds"
   ]
  },
  {
   "cell_type": "code",
   "execution_count": 23,
   "id": "4bd27c8a",
   "metadata": {},
   "outputs": [],
   "source": [
    "edge_embeds = torch.matmul(torch.FloatTensor(edge_feature), torch.FloatTensor(weight_edge))"
   ]
  },
  {
   "cell_type": "code",
   "execution_count": 24,
   "id": "2b141cfd",
   "metadata": {},
   "outputs": [
    {
     "data": {
      "text/plain": [
       "tensor([[-0.0100, -0.1900,  0.5300,  0.2200],\n",
       "        [-0.0100, -0.0800,  0.2400,  0.1000],\n",
       "        [-0.2400, -0.0500,  0.8300,  0.3600]])"
      ]
     },
     "execution_count": 24,
     "metadata": {},
     "output_type": "execute_result"
    }
   ],
   "source": [
    "edge_embeds"
   ]
  },
  {
   "cell_type": "markdown",
   "id": "0d793821",
   "metadata": {},
   "source": [
    "## Etapa 3 - Fazer o concat"
   ]
  },
  {
   "cell_type": "code",
   "execution_count": 25,
   "id": "0f81f2e4",
   "metadata": {},
   "outputs": [],
   "source": [
    "w1 = edge_embeds.tile([1, edge_embeds.shape[0]]).reshape([edge_embeds.shape[0], edge_embeds.shape[0], edge_embeds.shape[1]])"
   ]
  },
  {
   "cell_type": "code",
   "execution_count": 26,
   "id": "9989aa0d",
   "metadata": {},
   "outputs": [
    {
     "data": {
      "text/plain": [
       "tensor([[[-0.0100, -0.1900,  0.5300,  0.2200],\n",
       "         [-0.0100, -0.1900,  0.5300,  0.2200],\n",
       "         [-0.0100, -0.1900,  0.5300,  0.2200]],\n",
       "\n",
       "        [[-0.0100, -0.0800,  0.2400,  0.1000],\n",
       "         [-0.0100, -0.0800,  0.2400,  0.1000],\n",
       "         [-0.0100, -0.0800,  0.2400,  0.1000]],\n",
       "\n",
       "        [[-0.2400, -0.0500,  0.8300,  0.3600],\n",
       "         [-0.2400, -0.0500,  0.8300,  0.3600],\n",
       "         [-0.2400, -0.0500,  0.8300,  0.3600]]])"
      ]
     },
     "execution_count": 26,
     "metadata": {},
     "output_type": "execute_result"
    }
   ],
   "source": [
    "w1"
   ]
  },
  {
   "cell_type": "code",
   "execution_count": 27,
   "id": "fce23f89",
   "metadata": {},
   "outputs": [],
   "source": [
    "w2 = np.tile(edge_embeds, (edge_embeds.shape[0], 1)).reshape([-1, edge_embeds.shape[0], edge_embeds.shape[1]])"
   ]
  },
  {
   "cell_type": "code",
   "execution_count": 28,
   "id": "75a4b748",
   "metadata": {},
   "outputs": [
    {
     "data": {
      "text/plain": [
       "array([[[-0.01000001, -0.19000001,  0.53      ,  0.22      ],\n",
       "        [-0.01      , -0.08000001,  0.24000001,  0.10000001],\n",
       "        [-0.24      , -0.05      ,  0.83      ,  0.36      ]],\n",
       "\n",
       "       [[-0.01000001, -0.19000001,  0.53      ,  0.22      ],\n",
       "        [-0.01      , -0.08000001,  0.24000001,  0.10000001],\n",
       "        [-0.24      , -0.05      ,  0.83      ,  0.36      ]],\n",
       "\n",
       "       [[-0.01000001, -0.19000001,  0.53      ,  0.22      ],\n",
       "        [-0.01      , -0.08000001,  0.24000001,  0.10000001],\n",
       "        [-0.24      , -0.05      ,  0.83      ,  0.36      ]]],\n",
       "      dtype=float32)"
      ]
     },
     "execution_count": 28,
     "metadata": {},
     "output_type": "execute_result"
    }
   ],
   "source": [
    "w2"
   ]
  },
  {
   "cell_type": "code",
   "execution_count": 29,
   "id": "1b401d51",
   "metadata": {},
   "outputs": [],
   "source": [
    "w2 = edge_embeds.tile([edge_embeds.shape[0], 1]).reshape([edge_embeds.shape[0], edge_embeds.shape[0], edge_embeds.shape[1]])"
   ]
  },
  {
   "cell_type": "code",
   "execution_count": 30,
   "id": "6e3ef95a",
   "metadata": {},
   "outputs": [
    {
     "data": {
      "text/plain": [
       "tensor([[[-0.0100, -0.1900,  0.5300,  0.2200],\n",
       "         [-0.0100, -0.0800,  0.2400,  0.1000],\n",
       "         [-0.2400, -0.0500,  0.8300,  0.3600]],\n",
       "\n",
       "        [[-0.0100, -0.1900,  0.5300,  0.2200],\n",
       "         [-0.0100, -0.0800,  0.2400,  0.1000],\n",
       "         [-0.2400, -0.0500,  0.8300,  0.3600]],\n",
       "\n",
       "        [[-0.0100, -0.1900,  0.5300,  0.2200],\n",
       "         [-0.0100, -0.0800,  0.2400,  0.1000],\n",
       "         [-0.2400, -0.0500,  0.8300,  0.3600]]])"
      ]
     },
     "execution_count": 30,
     "metadata": {},
     "output_type": "execute_result"
    }
   ],
   "source": [
    "w2"
   ]
  },
  {
   "cell_type": "code",
   "execution_count": 31,
   "id": "721db0c7",
   "metadata": {},
   "outputs": [],
   "source": [
    "concat_result_e = torch.cat((w1, w2), dim=2)"
   ]
  },
  {
   "cell_type": "code",
   "execution_count": 32,
   "id": "9d280e46",
   "metadata": {},
   "outputs": [
    {
     "data": {
      "text/plain": [
       "tensor([[[-0.0100, -0.1900,  0.5300,  0.2200, -0.0100, -0.1900,  0.5300,\n",
       "           0.2200],\n",
       "         [-0.0100, -0.1900,  0.5300,  0.2200, -0.0100, -0.0800,  0.2400,\n",
       "           0.1000],\n",
       "         [-0.0100, -0.1900,  0.5300,  0.2200, -0.2400, -0.0500,  0.8300,\n",
       "           0.3600]],\n",
       "\n",
       "        [[-0.0100, -0.0800,  0.2400,  0.1000, -0.0100, -0.1900,  0.5300,\n",
       "           0.2200],\n",
       "         [-0.0100, -0.0800,  0.2400,  0.1000, -0.0100, -0.0800,  0.2400,\n",
       "           0.1000],\n",
       "         [-0.0100, -0.0800,  0.2400,  0.1000, -0.2400, -0.0500,  0.8300,\n",
       "           0.3600]],\n",
       "\n",
       "        [[-0.2400, -0.0500,  0.8300,  0.3600, -0.0100, -0.1900,  0.5300,\n",
       "           0.2200],\n",
       "         [-0.2400, -0.0500,  0.8300,  0.3600, -0.0100, -0.0800,  0.2400,\n",
       "           0.1000],\n",
       "         [-0.2400, -0.0500,  0.8300,  0.3600, -0.2400, -0.0500,  0.8300,\n",
       "           0.3600]]])"
      ]
     },
     "execution_count": 32,
     "metadata": {},
     "output_type": "execute_result"
    }
   ],
   "source": [
    "concat_result_e"
   ]
  },
  {
   "cell_type": "markdown",
   "id": "5ee01372",
   "metadata": {},
   "source": [
    "### Multiplicar resultado da concatenação pelo vetor de parâmetros"
   ]
  },
  {
   "cell_type": "code",
   "execution_count": 33,
   "id": "94a4b627",
   "metadata": {},
   "outputs": [],
   "source": [
    "parameter_vector_edge = torch.FloatTensor(parameter_vector_edge)"
   ]
  },
  {
   "cell_type": "code",
   "execution_count": 34,
   "id": "eeb4acce",
   "metadata": {},
   "outputs": [],
   "source": [
    "attention_output_n = torch.matmul(concat_result_e, parameter_vector_edge)"
   ]
  },
  {
   "cell_type": "code",
   "execution_count": 35,
   "id": "62ddde2f",
   "metadata": {},
   "outputs": [
    {
     "data": {
      "text/plain": [
       "tensor([[0.3380, 0.3820, 0.3710],\n",
       "        [0.1060, 0.1500, 0.1390],\n",
       "        [0.3710, 0.4150, 0.4040]])"
      ]
     },
     "execution_count": 35,
     "metadata": {},
     "output_type": "execute_result"
    }
   ],
   "source": [
    "attention_output_n"
   ]
  },
  {
   "cell_type": "markdown",
   "id": "95243dcc",
   "metadata": {},
   "source": [
    "### LeakyReLU"
   ]
  },
  {
   "cell_type": "code",
   "execution_count": 36,
   "id": "4949c270",
   "metadata": {},
   "outputs": [],
   "source": [
    "edge_activation = torch.nn.LeakyReLU()"
   ]
  },
  {
   "cell_type": "code",
   "execution_count": 37,
   "id": "4ea7341b",
   "metadata": {},
   "outputs": [],
   "source": [
    "attention_output_n = edge_activation(attention_output_n)"
   ]
  },
  {
   "cell_type": "code",
   "execution_count": 38,
   "id": "93b7cd32",
   "metadata": {},
   "outputs": [
    {
     "data": {
      "text/plain": [
       "tensor([[0.3380, 0.3820, 0.3710],\n",
       "        [0.1060, 0.1500, 0.1390],\n",
       "        [0.3710, 0.4150, 0.4040]])"
      ]
     },
     "execution_count": 38,
     "metadata": {},
     "output_type": "execute_result"
    }
   ],
   "source": [
    "attention_output_n"
   ]
  },
  {
   "cell_type": "markdown",
   "id": "be555102",
   "metadata": {},
   "source": [
    "### Softmax"
   ]
  },
  {
   "cell_type": "code",
   "execution_count": 39,
   "id": "a14c2524",
   "metadata": {},
   "outputs": [],
   "source": [
    "importance_coeficients = (torch.exp(attention_output_n)/(torch.exp(attention_output_n)*edge_to_edge_adj_matrix).sum(axis=1)[:, None])*edge_to_edge_adj_matrix"
   ]
  },
  {
   "cell_type": "code",
   "execution_count": 40,
   "id": "516e8419",
   "metadata": {},
   "outputs": [
    {
     "data": {
      "text/plain": [
       "tensor([[1.0000, 0.0000, 0.0000],\n",
       "        [0.3248, 0.3394, 0.3357],\n",
       "        [0.0000, 0.0000, 1.0000]], dtype=torch.float64)"
      ]
     },
     "execution_count": 40,
     "metadata": {},
     "output_type": "execute_result"
    }
   ],
   "source": [
    "importance_coeficients"
   ]
  },
  {
   "cell_type": "markdown",
   "id": "2a8fe154",
   "metadata": {},
   "source": [
    "### Fazer a conta de acordo com a importância"
   ]
  },
  {
   "cell_type": "code",
   "execution_count": 41,
   "id": "94a83293",
   "metadata": {},
   "outputs": [],
   "source": [
    "denominator = edge_to_edge_adj_matrix.sum(axis=1)"
   ]
  },
  {
   "cell_type": "code",
   "execution_count": 42,
   "id": "178ed816",
   "metadata": {},
   "outputs": [
    {
     "data": {
      "text/plain": [
       "array([1., 3., 1.])"
      ]
     },
     "execution_count": 42,
     "metadata": {},
     "output_type": "execute_result"
    }
   ],
   "source": [
    "denominator"
   ]
  },
  {
   "cell_type": "code",
   "execution_count": 43,
   "id": "4a00c358",
   "metadata": {},
   "outputs": [],
   "source": [
    "embed_propagated = edge_embeds.tile([edge_embeds.shape[0], 1]).reshape([edge_embeds.shape[0], edge_embeds.shape[0], edge_embeds.shape[1]])"
   ]
  },
  {
   "cell_type": "code",
   "execution_count": 44,
   "id": "cce1b26c",
   "metadata": {},
   "outputs": [
    {
     "data": {
      "text/plain": [
       "tensor([[[-0.0100, -0.1900,  0.5300,  0.2200],\n",
       "         [-0.0100, -0.0800,  0.2400,  0.1000],\n",
       "         [-0.2400, -0.0500,  0.8300,  0.3600]],\n",
       "\n",
       "        [[-0.0100, -0.1900,  0.5300,  0.2200],\n",
       "         [-0.0100, -0.0800,  0.2400,  0.1000],\n",
       "         [-0.2400, -0.0500,  0.8300,  0.3600]],\n",
       "\n",
       "        [[-0.0100, -0.1900,  0.5300,  0.2200],\n",
       "         [-0.0100, -0.0800,  0.2400,  0.1000],\n",
       "         [-0.2400, -0.0500,  0.8300,  0.3600]]])"
      ]
     },
     "execution_count": 44,
     "metadata": {},
     "output_type": "execute_result"
    }
   ],
   "source": [
    "embed_propagated"
   ]
  },
  {
   "cell_type": "code",
   "execution_count": 45,
   "id": "162881f4",
   "metadata": {},
   "outputs": [],
   "source": [
    "suma = importance_coeficients.reshape([importance_coeficients.shape[1], importance_coeficients.shape[0], 1]) * embed_propagated"
   ]
  },
  {
   "cell_type": "code",
   "execution_count": 46,
   "id": "da0c39b2",
   "metadata": {},
   "outputs": [
    {
     "data": {
      "text/plain": [
       "tensor([[[-0.0100, -0.1900,  0.5300,  0.2200],\n",
       "         [-0.0000, -0.0000,  0.0000,  0.0000],\n",
       "         [-0.0000, -0.0000,  0.0000,  0.0000]],\n",
       "\n",
       "        [[-0.0032, -0.0617,  0.1722,  0.0715],\n",
       "         [-0.0034, -0.0272,  0.0815,  0.0339],\n",
       "         [-0.0806, -0.0168,  0.2787,  0.1209]],\n",
       "\n",
       "        [[-0.0000, -0.0000,  0.0000,  0.0000],\n",
       "         [-0.0000, -0.0000,  0.0000,  0.0000],\n",
       "         [-0.2400, -0.0500,  0.8300,  0.3600]]], dtype=torch.float64)"
      ]
     },
     "execution_count": 46,
     "metadata": {},
     "output_type": "execute_result"
    }
   ],
   "source": [
    "suma"
   ]
  },
  {
   "cell_type": "code",
   "execution_count": 47,
   "id": "4cd86b9e",
   "metadata": {},
   "outputs": [],
   "source": [
    "final_embeds_e = suma.sum(axis=1)/denominator[:, None]"
   ]
  },
  {
   "cell_type": "code",
   "execution_count": 48,
   "id": "fe4ef127",
   "metadata": {},
   "outputs": [
    {
     "data": {
      "text/plain": [
       "tensor([[-0.0100, -0.1900,  0.5300,  0.2200],\n",
       "        [-0.0291, -0.0352,  0.1774,  0.0754],\n",
       "        [-0.2400, -0.0500,  0.8300,  0.3600]], dtype=torch.float64)"
      ]
     },
     "execution_count": 48,
     "metadata": {},
     "output_type": "execute_result"
    }
   ],
   "source": [
    "final_embeds_e"
   ]
  },
  {
   "cell_type": "code",
   "execution_count": 49,
   "id": "4e554a9f",
   "metadata": {},
   "outputs": [],
   "source": [
    "final_activation = torch.nn.LeakyReLU()"
   ]
  },
  {
   "cell_type": "code",
   "execution_count": 50,
   "id": "c307d89c",
   "metadata": {},
   "outputs": [],
   "source": [
    "final_embeds_e = final_activation(final_embeds_e)  "
   ]
  },
  {
   "cell_type": "code",
   "execution_count": 51,
   "id": "b419eda9",
   "metadata": {},
   "outputs": [
    {
     "data": {
      "text/plain": [
       "tensor([[-1.0000e-04, -1.9000e-03,  5.3000e-01,  2.2000e-01],\n",
       "        [-2.9073e-04, -3.5220e-04,  1.7743e-01,  7.5423e-02],\n",
       "        [-2.4000e-03, -5.0000e-04,  8.3000e-01,  3.6000e-01]],\n",
       "       dtype=torch.float64)"
      ]
     },
     "execution_count": 51,
     "metadata": {},
     "output_type": "execute_result"
    }
   ],
   "source": [
    "final_embeds_e"
   ]
  },
  {
   "cell_type": "markdown",
   "id": "85297557",
   "metadata": {},
   "source": [
    "# Edge-Level Attention Layer (node step)"
   ]
  },
  {
   "cell_type": "code",
   "execution_count": 52,
   "id": "1cb1ebb4",
   "metadata": {},
   "outputs": [
    {
     "data": {
      "text/plain": [
       "array([[ 0.2, -0.1,  0.3,  0.5,  0.1],\n",
       "       [ 0.5,  0.4, -0.7,  0.3, -0.8],\n",
       "       [ 0.2,  0.1, -0.2, -0.4,  0.3]])"
      ]
     },
     "execution_count": 52,
     "metadata": {},
     "output_type": "execute_result"
    }
   ],
   "source": [
    "weight_node"
   ]
  }
 ],
 "metadata": {
  "kernelspec": {
   "display_name": "Python 3 (ipykernel)",
   "language": "python",
   "name": "python3"
  },
  "language_info": {
   "codemirror_mode": {
    "name": "ipython",
    "version": 3
   },
   "file_extension": ".py",
   "mimetype": "text/x-python",
   "name": "python",
   "nbconvert_exporter": "python",
   "pygments_lexer": "ipython3",
   "version": "3.8.10"
  }
 },
 "nbformat": 4,
 "nbformat_minor": 5
}

{
 "cells": [
  {
   "cell_type": "code",
   "execution_count": 3,
   "id": "4c48adc0",
   "metadata": {},
   "outputs": [],
   "source": [
    "import torch"
   ]
  },
  {
   "cell_type": "markdown",
   "id": "c90a8f2d",
   "metadata": {},
   "source": [
    "# Gerando dados aleatorios"
   ]
  },
  {
   "cell_type": "code",
   "execution_count": 5,
   "id": "15407512",
   "metadata": {},
   "outputs": [],
   "source": [
    "import random"
   ]
  },
  {
   "cell_type": "code",
   "execution_count": 1,
   "id": "d831b1f6",
   "metadata": {},
   "outputs": [],
   "source": [
    "NUM_NODES = 509\n",
    "NUM_NODE_FEATURES = 2\n",
    "NUM_EDGES = 478\n",
    "NUM_EDGE_FEATURES = 3"
   ]
  },
  {
   "cell_type": "code",
   "execution_count": 22,
   "id": "8785458a",
   "metadata": {},
   "outputs": [],
   "source": [
    "NODE_EMBED_SIZE = 4\n",
    "EDGE_EMBED_SIZE = 6"
   ]
  },
  {
   "cell_type": "code",
   "execution_count": 4,
   "id": "0ae9d3eb",
   "metadata": {},
   "outputs": [],
   "source": [
    "node_features = torch.rand([509, 2])\n",
    "edge_features = torch.rand([478, 3])"
   ]
  },
  {
   "cell_type": "code",
   "execution_count": 14,
   "id": "ce7a6b03",
   "metadata": {},
   "outputs": [],
   "source": [
    "edge_to_edge_adj_matr = torch.eye(478)\n",
    "for i in range(len(edge_to_edge_adj_matr)):\n",
    "    for j in range(len(edge_to_edge_adj_matr[i])):\n",
    "        if random.random() > 0.5:\n",
    "            edge_to_edge_adj_matr[i][j] = 1.0\n",
    "            "
   ]
  },
  {
   "cell_type": "code",
   "execution_count": 15,
   "id": "12e8ae00",
   "metadata": {},
   "outputs": [],
   "source": [
    "node_to_edge_adj_matr = torch.zeros([509, 478])\n",
    "for i in range(len(node_to_edge_adj_matr)):\n",
    "    for j in range(len(node_to_edge_adj_matr[i])):\n",
    "        if random.random() > 0.5:\n",
    "            node_to_edge_adj_matr[i][j] = 1.0\n"
   ]
  },
  {
   "cell_type": "code",
   "execution_count": 20,
   "id": "5a77f36d",
   "metadata": {},
   "outputs": [],
   "source": [
    "node_to_node_adj_matr = torch.eye(509)\n",
    "for i in range(len(node_to_node_adj_matr)):\n",
    "    for j in range(len(node_to_node_adj_matr[i])):\n",
    "        if random.random() > 0.5:\n",
    "            node_to_node_adj_matr[i][j] = 1.0"
   ]
  },
  {
   "cell_type": "code",
   "execution_count": 21,
   "id": "9653ea9c",
   "metadata": {},
   "outputs": [],
   "source": [
    "edge_to_node_adj_matr = torch.zeros([478, 509])\n",
    "for i in range(len(edge_to_node_adj_matr)):\n",
    "    for j in range(len(edge_to_node_adj_matr[i])):\n",
    "        if random.random() > 0.5:\n",
    "            edge_to_node_adj_matr[i][j] = 1.0"
   ]
  },
  {
   "cell_type": "markdown",
   "id": "d492ccec",
   "metadata": {},
   "source": [
    "# EdgeLevelAttentionLayer"
   ]
  },
  {
   "cell_type": "markdown",
   "id": "63c97d30",
   "metadata": {},
   "source": [
    "## Weights"
   ]
  },
  {
   "cell_type": "code",
   "execution_count": 23,
   "id": "1968ab85",
   "metadata": {},
   "outputs": [],
   "source": [
    "weight_node = torch.rand([NUM_NODE_FEATURES, NODE_EMBED_SIZE])\n",
    "weight_edge = torch.rand([NUM_EDGE_FEATURES, EDGE_EMBED_SIZE])\n",
    "parameter_vector_node = torch.rand(NODE_EMBED_SIZE + EDGE_EMBED_SIZE)\n",
    "parameter_vector_edge = torch.rand(2*EDGE_EMBED_SIZE)"
   ]
  },
  {
   "cell_type": "markdown",
   "id": "95fd7d2b",
   "metadata": {},
   "source": [
    "## forward"
   ]
  },
  {
   "cell_type": "code",
   "execution_count": 25,
   "id": "ac24987d",
   "metadata": {},
   "outputs": [],
   "source": [
    "node_embeds = torch.matmul(node_features, weight_node)"
   ]
  },
  {
   "cell_type": "code",
   "execution_count": 27,
   "id": "b6ebbe3e",
   "metadata": {},
   "outputs": [
    {
     "data": {
      "text/plain": [
       "torch.Size([509, 4])"
      ]
     },
     "execution_count": 27,
     "metadata": {},
     "output_type": "execute_result"
    }
   ],
   "source": [
    "node_embeds.shape"
   ]
  },
  {
   "cell_type": "code",
   "execution_count": 28,
   "id": "55201f0a",
   "metadata": {},
   "outputs": [],
   "source": [
    "edge_embeds = torch.matmul(edge_features, weight_edge)"
   ]
  },
  {
   "cell_type": "code",
   "execution_count": 29,
   "id": "0ebe9b6f",
   "metadata": {},
   "outputs": [
    {
     "data": {
      "text/plain": [
       "torch.Size([478, 6])"
      ]
     },
     "execution_count": 29,
     "metadata": {},
     "output_type": "execute_result"
    }
   ],
   "source": [
    "edge_embeds.shape"
   ]
  },
  {
   "cell_type": "code",
   "execution_count": 35,
   "id": "f0a9ec5f",
   "metadata": {},
   "outputs": [],
   "source": [
    "diagonal_n = torch.diag_embed(node_to_edge_adj_matr.T)"
   ]
  },
  {
   "cell_type": "code",
   "execution_count": 37,
   "id": "9814981c",
   "metadata": {},
   "outputs": [
    {
     "data": {
      "text/plain": [
       "torch.Size([478, 509, 509])"
      ]
     },
     "execution_count": 37,
     "metadata": {},
     "output_type": "execute_result"
    }
   ],
   "source": [
    "diagonal_n.shape"
   ]
  },
  {
   "cell_type": "code",
   "execution_count": 38,
   "id": "f9852443",
   "metadata": {},
   "outputs": [],
   "source": [
    "diagonal_e = torch.diag_embed(edge_to_edge_adj_matr.T)"
   ]
  },
  {
   "cell_type": "code",
   "execution_count": 40,
   "id": "6bea668e",
   "metadata": {},
   "outputs": [
    {
     "data": {
      "text/plain": [
       "torch.Size([478, 478, 478])"
      ]
     },
     "execution_count": 40,
     "metadata": {},
     "output_type": "execute_result"
    }
   ],
   "source": [
    "diagonal_e.shape"
   ]
  },
  {
   "cell_type": "markdown",
   "id": "a2f55ea3",
   "metadata": {},
   "source": [
    "__Encontrar as features de cada nó vizinho para cada aresta__"
   ]
  },
  {
   "cell_type": "code",
   "execution_count": 41,
   "id": "4b4c534d",
   "metadata": {},
   "outputs": [],
   "source": [
    "features_neighbors_n = torch.matmul(diagonal_n, node_embeds)"
   ]
  },
  {
   "cell_type": "code",
   "execution_count": 42,
   "id": "8e88588c",
   "metadata": {},
   "outputs": [
    {
     "data": {
      "text/plain": [
       "torch.Size([478, 509, 4])"
      ]
     },
     "execution_count": 42,
     "metadata": {},
     "output_type": "execute_result"
    }
   ],
   "source": [
    "features_neighbors_n.shape"
   ]
  },
  {
   "cell_type": "code",
   "execution_count": 43,
   "id": "c4d4c8dd",
   "metadata": {},
   "outputs": [
    {
     "data": {
      "text/plain": [
       "tensor([[[0.0000, 0.0000, 0.0000, 0.0000],\n",
       "         [0.0000, 0.0000, 0.0000, 0.0000],\n",
       "         [0.0000, 0.0000, 0.0000, 0.0000],\n",
       "         ...,\n",
       "         [0.0000, 0.0000, 0.0000, 0.0000],\n",
       "         [0.1245, 0.0841, 0.1337, 0.1375],\n",
       "         [0.0000, 0.0000, 0.0000, 0.0000]],\n",
       "\n",
       "        [[0.2148, 0.1363, 0.1664, 0.2030],\n",
       "         [1.0572, 0.6094, 0.3763, 0.7637],\n",
       "         [0.0000, 0.0000, 0.0000, 0.0000],\n",
       "         ...,\n",
       "         [0.3850, 0.2442, 0.2980, 0.3637],\n",
       "         [0.0000, 0.0000, 0.0000, 0.0000],\n",
       "         [0.1730, 0.1400, 0.3529, 0.2798]],\n",
       "\n",
       "        [[0.2148, 0.1363, 0.1664, 0.2030],\n",
       "         [1.0572, 0.6094, 0.3763, 0.7637],\n",
       "         [0.0000, 0.0000, 0.0000, 0.0000],\n",
       "         ...,\n",
       "         [0.0000, 0.0000, 0.0000, 0.0000],\n",
       "         [0.0000, 0.0000, 0.0000, 0.0000],\n",
       "         [0.0000, 0.0000, 0.0000, 0.0000]],\n",
       "\n",
       "        ...,\n",
       "\n",
       "        [[0.0000, 0.0000, 0.0000, 0.0000],\n",
       "         [0.0000, 0.0000, 0.0000, 0.0000],\n",
       "         [0.0000, 0.0000, 0.0000, 0.0000],\n",
       "         ...,\n",
       "         [0.0000, 0.0000, 0.0000, 0.0000],\n",
       "         [0.1245, 0.0841, 0.1337, 0.1375],\n",
       "         [0.1730, 0.1400, 0.3529, 0.2798]],\n",
       "\n",
       "        [[0.0000, 0.0000, 0.0000, 0.0000],\n",
       "         [1.0572, 0.6094, 0.3763, 0.7637],\n",
       "         [0.5029, 0.3673, 0.7393, 0.6612],\n",
       "         ...,\n",
       "         [0.0000, 0.0000, 0.0000, 0.0000],\n",
       "         [0.1245, 0.0841, 0.1337, 0.1375],\n",
       "         [0.0000, 0.0000, 0.0000, 0.0000]],\n",
       "\n",
       "        [[0.0000, 0.0000, 0.0000, 0.0000],\n",
       "         [1.0572, 0.6094, 0.3763, 0.7637],\n",
       "         [0.5029, 0.3673, 0.7393, 0.6612],\n",
       "         ...,\n",
       "         [0.3850, 0.2442, 0.2980, 0.3637],\n",
       "         [0.0000, 0.0000, 0.0000, 0.0000],\n",
       "         [0.1730, 0.1400, 0.3529, 0.2798]]])"
      ]
     },
     "execution_count": 43,
     "metadata": {},
     "output_type": "execute_result"
    }
   ],
   "source": [
    "features_neighbors_n"
   ]
  },
  {
   "cell_type": "markdown",
   "id": "92e34cfe",
   "metadata": {},
   "source": [
    "__Encontrar as features de cada aresta vizinha para cada aresta__"
   ]
  },
  {
   "cell_type": "code",
   "execution_count": 44,
   "id": "fc50e1ee",
   "metadata": {},
   "outputs": [],
   "source": [
    "features_neighbors_e = torch.matmul(diagonal_e, edge_embeds)"
   ]
  },
  {
   "cell_type": "code",
   "execution_count": 45,
   "id": "f3c65ec4",
   "metadata": {},
   "outputs": [
    {
     "data": {
      "text/plain": [
       "torch.Size([478, 478, 6])"
      ]
     },
     "execution_count": 45,
     "metadata": {},
     "output_type": "execute_result"
    }
   ],
   "source": [
    "features_neighbors_e.shape"
   ]
  },
  {
   "cell_type": "code",
   "execution_count": 48,
   "id": "f0e5204c",
   "metadata": {},
   "outputs": [
    {
     "data": {
      "text/plain": [
       "tensor([[[0.9197, 0.4651, 1.4119, 0.6401, 1.1488, 0.5080],\n",
       "         [0.9197, 0.4651, 1.4119, 0.6401, 1.1488, 0.5080],\n",
       "         [0.9197, 0.4651, 1.4119, 0.6401, 1.1488, 0.5080],\n",
       "         ...,\n",
       "         [0.9197, 0.4651, 1.4119, 0.6401, 1.1488, 0.5080],\n",
       "         [0.9197, 0.4651, 1.4119, 0.6401, 1.1488, 0.5080],\n",
       "         [0.9197, 0.4651, 1.4119, 0.6401, 1.1488, 0.5080]],\n",
       "\n",
       "        [[0.6174, 0.1905, 0.8929, 0.5999, 0.6405, 0.2045],\n",
       "         [0.6174, 0.1905, 0.8929, 0.5999, 0.6405, 0.2045],\n",
       "         [0.6174, 0.1905, 0.8929, 0.5999, 0.6405, 0.2045],\n",
       "         ...,\n",
       "         [0.6174, 0.1905, 0.8929, 0.5999, 0.6405, 0.2045],\n",
       "         [0.6174, 0.1905, 0.8929, 0.5999, 0.6405, 0.2045],\n",
       "         [0.6174, 0.1905, 0.8929, 0.5999, 0.6405, 0.2045]],\n",
       "\n",
       "        [[1.0228, 0.5490, 1.5935, 0.8002, 1.2957, 0.5456],\n",
       "         [1.0228, 0.5490, 1.5935, 0.8002, 1.2957, 0.5456],\n",
       "         [1.0228, 0.5490, 1.5935, 0.8002, 1.2957, 0.5456],\n",
       "         ...,\n",
       "         [1.0228, 0.5490, 1.5935, 0.8002, 1.2957, 0.5456],\n",
       "         [1.0228, 0.5490, 1.5935, 0.8002, 1.2957, 0.5456],\n",
       "         [1.0228, 0.5490, 1.5935, 0.8002, 1.2957, 0.5456]],\n",
       "\n",
       "        ...,\n",
       "\n",
       "        [[0.7937, 0.6222, 1.3366, 0.5157, 1.1957, 0.5735],\n",
       "         [0.7937, 0.6222, 1.3366, 0.5157, 1.1957, 0.5735],\n",
       "         [0.7937, 0.6222, 1.3366, 0.5157, 1.1957, 0.5735],\n",
       "         ...,\n",
       "         [0.7937, 0.6222, 1.3366, 0.5157, 1.1957, 0.5735],\n",
       "         [0.7937, 0.6222, 1.3366, 0.5157, 1.1957, 0.5735],\n",
       "         [0.7937, 0.6222, 1.3366, 0.5157, 1.1957, 0.5735]],\n",
       "\n",
       "        [[0.4527, 0.5286, 0.8628, 0.3762, 0.8294, 0.3874],\n",
       "         [0.4527, 0.5286, 0.8628, 0.3762, 0.8294, 0.3874],\n",
       "         [0.4527, 0.5286, 0.8628, 0.3762, 0.8294, 0.3874],\n",
       "         ...,\n",
       "         [0.4527, 0.5286, 0.8628, 0.3762, 0.8294, 0.3874],\n",
       "         [0.4527, 0.5286, 0.8628, 0.3762, 0.8294, 0.3874],\n",
       "         [0.4527, 0.5286, 0.8628, 0.3762, 0.8294, 0.3874]],\n",
       "\n",
       "        [[1.0479, 0.8651, 1.8022, 0.8828, 1.5937, 0.6971],\n",
       "         [1.0479, 0.8651, 1.8022, 0.8828, 1.5937, 0.6971],\n",
       "         [1.0479, 0.8651, 1.8022, 0.8828, 1.5937, 0.6971],\n",
       "         ...,\n",
       "         [1.0479, 0.8651, 1.8022, 0.8828, 1.5937, 0.6971],\n",
       "         [1.0479, 0.8651, 1.8022, 0.8828, 1.5937, 0.6971],\n",
       "         [1.0479, 0.8651, 1.8022, 0.8828, 1.5937, 0.6971]]])"
      ]
     },
     "execution_count": 48,
     "metadata": {},
     "output_type": "execute_result"
    }
   ],
   "source": [
    "edge_embeds.repeat_interleave(NUM_NODES, dim=0).reshape(NUM_EDGES, NUM_NODES, EDGE_EMBED_SIZE)"
   ]
  },
  {
   "cell_type": "code",
   "execution_count": 49,
   "id": "92678aaa",
   "metadata": {},
   "outputs": [],
   "source": [
    "concat_result_n = torch.cat(\n",
    "    (\n",
    "        edge_embeds.repeat_interleave(NUM_NODES, dim=0).reshape([\n",
    "            NUM_EDGES,\n",
    "            NUM_NODES,\n",
    "            EDGE_EMBED_SIZE\n",
    "        ]),\n",
    "        features_neighbors_n\n",
    "    ),\n",
    "    2\n",
    ")"
   ]
  },
  {
   "cell_type": "code",
   "execution_count": 50,
   "id": "21ddf390",
   "metadata": {},
   "outputs": [
    {
     "data": {
      "text/plain": [
       "tensor([[[0.9197, 0.4651, 1.4119,  ..., 0.0000, 0.0000, 0.0000],\n",
       "         [0.9197, 0.4651, 1.4119,  ..., 0.0000, 0.0000, 0.0000],\n",
       "         [0.9197, 0.4651, 1.4119,  ..., 0.0000, 0.0000, 0.0000],\n",
       "         ...,\n",
       "         [0.9197, 0.4651, 1.4119,  ..., 0.0000, 0.0000, 0.0000],\n",
       "         [0.9197, 0.4651, 1.4119,  ..., 0.0841, 0.1337, 0.1375],\n",
       "         [0.9197, 0.4651, 1.4119,  ..., 0.0000, 0.0000, 0.0000]],\n",
       "\n",
       "        [[0.6174, 0.1905, 0.8929,  ..., 0.1363, 0.1664, 0.2030],\n",
       "         [0.6174, 0.1905, 0.8929,  ..., 0.6094, 0.3763, 0.7637],\n",
       "         [0.6174, 0.1905, 0.8929,  ..., 0.0000, 0.0000, 0.0000],\n",
       "         ...,\n",
       "         [0.6174, 0.1905, 0.8929,  ..., 0.2442, 0.2980, 0.3637],\n",
       "         [0.6174, 0.1905, 0.8929,  ..., 0.0000, 0.0000, 0.0000],\n",
       "         [0.6174, 0.1905, 0.8929,  ..., 0.1400, 0.3529, 0.2798]],\n",
       "\n",
       "        [[1.0228, 0.5490, 1.5935,  ..., 0.1363, 0.1664, 0.2030],\n",
       "         [1.0228, 0.5490, 1.5935,  ..., 0.6094, 0.3763, 0.7637],\n",
       "         [1.0228, 0.5490, 1.5935,  ..., 0.0000, 0.0000, 0.0000],\n",
       "         ...,\n",
       "         [1.0228, 0.5490, 1.5935,  ..., 0.0000, 0.0000, 0.0000],\n",
       "         [1.0228, 0.5490, 1.5935,  ..., 0.0000, 0.0000, 0.0000],\n",
       "         [1.0228, 0.5490, 1.5935,  ..., 0.0000, 0.0000, 0.0000]],\n",
       "\n",
       "        ...,\n",
       "\n",
       "        [[0.7937, 0.6222, 1.3366,  ..., 0.0000, 0.0000, 0.0000],\n",
       "         [0.7937, 0.6222, 1.3366,  ..., 0.0000, 0.0000, 0.0000],\n",
       "         [0.7937, 0.6222, 1.3366,  ..., 0.0000, 0.0000, 0.0000],\n",
       "         ...,\n",
       "         [0.7937, 0.6222, 1.3366,  ..., 0.0000, 0.0000, 0.0000],\n",
       "         [0.7937, 0.6222, 1.3366,  ..., 0.0841, 0.1337, 0.1375],\n",
       "         [0.7937, 0.6222, 1.3366,  ..., 0.1400, 0.3529, 0.2798]],\n",
       "\n",
       "        [[0.4527, 0.5286, 0.8628,  ..., 0.0000, 0.0000, 0.0000],\n",
       "         [0.4527, 0.5286, 0.8628,  ..., 0.6094, 0.3763, 0.7637],\n",
       "         [0.4527, 0.5286, 0.8628,  ..., 0.3673, 0.7393, 0.6612],\n",
       "         ...,\n",
       "         [0.4527, 0.5286, 0.8628,  ..., 0.0000, 0.0000, 0.0000],\n",
       "         [0.4527, 0.5286, 0.8628,  ..., 0.0841, 0.1337, 0.1375],\n",
       "         [0.4527, 0.5286, 0.8628,  ..., 0.0000, 0.0000, 0.0000]],\n",
       "\n",
       "        [[1.0479, 0.8651, 1.8022,  ..., 0.0000, 0.0000, 0.0000],\n",
       "         [1.0479, 0.8651, 1.8022,  ..., 0.6094, 0.3763, 0.7637],\n",
       "         [1.0479, 0.8651, 1.8022,  ..., 0.3673, 0.7393, 0.6612],\n",
       "         ...,\n",
       "         [1.0479, 0.8651, 1.8022,  ..., 0.2442, 0.2980, 0.3637],\n",
       "         [1.0479, 0.8651, 1.8022,  ..., 0.0000, 0.0000, 0.0000],\n",
       "         [1.0479, 0.8651, 1.8022,  ..., 0.1400, 0.3529, 0.2798]]])"
      ]
     },
     "execution_count": 50,
     "metadata": {},
     "output_type": "execute_result"
    }
   ],
   "source": [
    "concat_result_n"
   ]
  },
  {
   "cell_type": "code",
   "execution_count": 51,
   "id": "5cafe4d4",
   "metadata": {},
   "outputs": [
    {
     "data": {
      "text/plain": [
       "torch.Size([478, 509, 10])"
      ]
     },
     "execution_count": 51,
     "metadata": {},
     "output_type": "execute_result"
    }
   ],
   "source": [
    "concat_result_n.shape"
   ]
  }
 ],
 "metadata": {
  "kernelspec": {
   "display_name": "Python 3 (ipykernel)",
   "language": "python",
   "name": "python3"
  },
  "language_info": {
   "codemirror_mode": {
    "name": "ipython",
    "version": 3
   },
   "file_extension": ".py",
   "mimetype": "text/x-python",
   "name": "python",
   "nbconvert_exporter": "python",
   "pygments_lexer": "ipython3",
   "version": "3.9.10"
  }
 },
 "nbformat": 4,
 "nbformat_minor": 5
}

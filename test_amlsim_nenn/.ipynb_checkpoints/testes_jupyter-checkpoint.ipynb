{
 "cells": [
  {
   "cell_type": "code",
   "execution_count": 1,
   "id": "4c48adc0",
   "metadata": {},
   "outputs": [],
   "source": [
    "import torch"
   ]
  },
  {
   "cell_type": "code",
   "execution_count": 2,
   "id": "2b58039a",
   "metadata": {},
   "outputs": [],
   "source": [
    "x = torch.Tensor([[1, 2, 3],\n",
    "                  [4, 5, 6],\n",
    "                  [7, 8, 9]])"
   ]
  },
  {
   "cell_type": "code",
   "execution_count": 3,
   "id": "9deab3ae",
   "metadata": {},
   "outputs": [],
   "source": [
    "y = torch.Tensor([[3, 3, 3, 3],\n",
    "                 [4, 4, 4, 4],\n",
    "                 [5, 5, 5, 5]])"
   ]
  },
  {
   "cell_type": "code",
   "execution_count": 4,
   "id": "15159200",
   "metadata": {},
   "outputs": [],
   "source": [
    "x1 = torch.Tensor([1,2,3])"
   ]
  },
  {
   "cell_type": "code",
   "execution_count": 5,
   "id": "b378a631",
   "metadata": {},
   "outputs": [
    {
     "data": {
      "text/plain": [
       "tensor([[26., 26., 26., 26.],\n",
       "        [62., 62., 62., 62.],\n",
       "        [98., 98., 98., 98.]])"
      ]
     },
     "execution_count": 5,
     "metadata": {},
     "output_type": "execute_result"
    }
   ],
   "source": [
    "torch.mm(x,y)"
   ]
  },
  {
   "cell_type": "code",
   "execution_count": 6,
   "id": "29ec28e4",
   "metadata": {},
   "outputs": [
    {
     "data": {
      "text/plain": [
       "tensor([[1., 2., 3.],\n",
       "        [1., 2., 3.],\n",
       "        [1., 2., 3.]])"
      ]
     },
     "execution_count": 6,
     "metadata": {},
     "output_type": "execute_result"
    }
   ],
   "source": [
    "x1.expand(3,3)"
   ]
  },
  {
   "cell_type": "code",
   "execution_count": 7,
   "id": "28410f4c",
   "metadata": {},
   "outputs": [],
   "source": [
    "cat_result = torch.cat((x, x1.expand(3,3)), 1)"
   ]
  },
  {
   "cell_type": "code",
   "execution_count": 8,
   "id": "1d2a2201",
   "metadata": {},
   "outputs": [],
   "source": [
    "an = torch.Tensor([1,2,3,4,5,6])"
   ]
  },
  {
   "cell_type": "code",
   "execution_count": 9,
   "id": "70a33e67",
   "metadata": {},
   "outputs": [
    {
     "data": {
      "text/plain": [
       "tensor([[1., 4., 7.],\n",
       "        [2., 5., 8.],\n",
       "        [3., 6., 9.],\n",
       "        [1., 1., 1.],\n",
       "        [2., 2., 2.],\n",
       "        [3., 3., 3.]])"
      ]
     },
     "execution_count": 9,
     "metadata": {},
     "output_type": "execute_result"
    }
   ],
   "source": [
    "cat_result.T"
   ]
  },
  {
   "cell_type": "code",
   "execution_count": 10,
   "id": "9f590fa9",
   "metadata": {},
   "outputs": [
    {
     "data": {
      "text/plain": [
       "tensor([[1., 2., 3., 1., 2., 3.],\n",
       "        [4., 5., 6., 1., 2., 3.],\n",
       "        [7., 8., 9., 1., 2., 3.]])"
      ]
     },
     "execution_count": 10,
     "metadata": {},
     "output_type": "execute_result"
    }
   ],
   "source": [
    "cat_result"
   ]
  },
  {
   "cell_type": "code",
   "execution_count": 11,
   "id": "f52a4240",
   "metadata": {},
   "outputs": [],
   "source": [
    "adj_matr = torch.Tensor([1,0,1])"
   ]
  },
  {
   "cell_type": "code",
   "execution_count": null,
   "id": "fc7655b0",
   "metadata": {},
   "outputs": [],
   "source": []
  },
  {
   "cell_type": "code",
   "execution_count": 12,
   "id": "3a07edf1",
   "metadata": {},
   "outputs": [
    {
     "data": {
      "text/plain": [
       "tensor([[1., 2., 3., 1., 2., 3.],\n",
       "        [7., 8., 9., 1., 2., 3.]])"
      ]
     },
     "execution_count": 12,
     "metadata": {},
     "output_type": "execute_result"
    }
   ],
   "source": [
    "cat_result[adj_matr > 0]"
   ]
  },
  {
   "cell_type": "code",
   "execution_count": 13,
   "id": "09e1eb01",
   "metadata": {},
   "outputs": [
    {
     "data": {
      "text/plain": [
       "tensor([[46.],\n",
       "        [64.],\n",
       "        [82.]])"
      ]
     },
     "execution_count": 13,
     "metadata": {},
     "output_type": "execute_result"
    }
   ],
   "source": [
    "torch.mm(cat_result,an.reshape([-1,1]))"
   ]
  },
  {
   "cell_type": "code",
   "execution_count": 14,
   "id": "a0a227b3",
   "metadata": {},
   "outputs": [],
   "source": [
    "\n",
    "from torch.nn import LeakyReLU"
   ]
  },
  {
   "cell_type": "code",
   "execution_count": 15,
   "id": "b09e2c98",
   "metadata": {},
   "outputs": [],
   "source": [
    "n_activation = torch.nn.LeakyReLU(0.1)"
   ]
  },
  {
   "cell_type": "code",
   "execution_count": 16,
   "id": "42236276",
   "metadata": {},
   "outputs": [
    {
     "data": {
      "text/plain": [
       "tensor([46., 64., 82.])"
      ]
     },
     "execution_count": 16,
     "metadata": {},
     "output_type": "execute_result"
    }
   ],
   "source": [
    "n_activation(torch.mm(an.reshape([1,-1]), cat_result.T)[0])"
   ]
  },
  {
   "cell_type": "code",
   "execution_count": 17,
   "id": "c153672a",
   "metadata": {},
   "outputs": [],
   "source": [
    "importance_normalization = torch.nn.Softmax(0)"
   ]
  },
  {
   "cell_type": "code",
   "execution_count": 18,
   "id": "c8092d6d",
   "metadata": {},
   "outputs": [],
   "source": [
    "imported = importance_normalization(n_activation(torch.mm(an.reshape([1,-1]), cat_result.T)[0]))"
   ]
  },
  {
   "cell_type": "code",
   "execution_count": 19,
   "id": "2d69d7e3",
   "metadata": {},
   "outputs": [],
   "source": [
    "a = torch.Tensor([[1,2],\n",
    "                  [3,4],\n",
    "                  [5,6]])"
   ]
  },
  {
   "cell_type": "code",
   "execution_count": 20,
   "id": "bd558274",
   "metadata": {},
   "outputs": [
    {
     "data": {
      "text/plain": [
       "tensor([1.6667, 2.0000])"
      ]
     },
     "execution_count": 20,
     "metadata": {},
     "output_type": "execute_result"
    }
   ],
   "source": [
    "torch.mean(imported.reshape([-1,1]).mul(a), 0)"
   ]
  },
  {
   "cell_type": "code",
   "execution_count": 21,
   "id": "17a49c64",
   "metadata": {},
   "outputs": [],
   "source": [
    "list_tensors = [\n",
    "    torch.Tensor([1,2]),\n",
    "    torch.Tensor([3,4]),\n",
    "    torch.Tensor([5,6])\n",
    "]"
   ]
  },
  {
   "cell_type": "code",
   "execution_count": 22,
   "id": "2d189b48",
   "metadata": {},
   "outputs": [
    {
     "data": {
      "text/plain": [
       "tensor([[1., 2.],\n",
       "        [3., 4.],\n",
       "        [5., 6.]])"
      ]
     },
     "execution_count": 22,
     "metadata": {},
     "output_type": "execute_result"
    }
   ],
   "source": [
    "torch.stack(list_tensors)"
   ]
  },
  {
   "cell_type": "markdown",
   "id": "a8a24837",
   "metadata": {},
   "source": [
    "# Teste Programa"
   ]
  },
  {
   "cell_type": "code",
   "execution_count": 23,
   "id": "b4d5f881",
   "metadata": {},
   "outputs": [],
   "source": [
    "from model_nenn import NodeLevelAttentionLayer"
   ]
  },
  {
   "cell_type": "code",
   "execution_count": 24,
   "id": "f8f0334d",
   "metadata": {},
   "outputs": [],
   "source": [
    "layer = NodeLevelAttentionLayer(7,12,8,9).to('cpu')"
   ]
  },
  {
   "cell_type": "code",
   "execution_count": 25,
   "id": "4f952205",
   "metadata": {},
   "outputs": [],
   "source": [
    "X_nodes = torch.rand([100,7])"
   ]
  },
  {
   "cell_type": "code",
   "execution_count": 26,
   "id": "60187deb",
   "metadata": {},
   "outputs": [],
   "source": [
    "X_edges = torch.rand([500,12])"
   ]
  },
  {
   "cell_type": "code",
   "execution_count": 27,
   "id": "8b30b1e6",
   "metadata": {},
   "outputs": [],
   "source": [
    "edge_adjacency_matrix = (torch.rand([500,100]) > 0.5).int().double()"
   ]
  },
  {
   "cell_type": "code",
   "execution_count": 28,
   "id": "b78e8b9b",
   "metadata": {},
   "outputs": [
    {
     "data": {
      "text/plain": [
       "tensor([[0.5895, 0.5726, 0.7135, 0.4573, 0.8147, 0.9394, 0.0889],\n",
       "        [0.8274, 0.1630, 0.3082, 0.7532, 0.4171, 0.1631, 0.6703],\n",
       "        [0.4140, 0.1977, 0.3540, 0.2701, 0.3504, 0.3752, 0.1144],\n",
       "        [0.5487, 0.8973, 0.3375, 0.0698, 0.3399, 0.1171, 0.9438],\n",
       "        [0.0351, 0.8012, 0.3550, 0.1921, 0.9532, 0.3615, 0.9781],\n",
       "        [0.9914, 0.3514, 0.8627, 0.4403, 0.2179, 0.3344, 0.8348],\n",
       "        [0.4909, 0.5693, 0.9948, 0.8246, 0.3834, 0.9328, 0.3664],\n",
       "        [0.2806, 0.9663, 0.0234, 0.5822, 0.7854, 0.4123, 0.1255],\n",
       "        [0.7640, 0.0219, 0.3620, 0.3734, 0.6951, 0.0776, 0.2292],\n",
       "        [0.6482, 0.1636, 0.4627, 0.0480, 0.9081, 0.2996, 0.3505],\n",
       "        [0.7189, 0.2572, 0.4629, 0.6070, 0.5710, 0.9886, 0.3797],\n",
       "        [0.4306, 0.0758, 0.5541, 0.2734, 0.5065, 0.2163, 0.1897],\n",
       "        [0.5216, 0.3960, 0.0771, 0.2481, 0.7244, 0.3687, 0.1190],\n",
       "        [0.2437, 0.9388, 0.9053, 0.0672, 0.8893, 0.6471, 0.6486],\n",
       "        [0.6342, 0.5076, 0.2629, 0.7948, 0.3655, 0.5258, 0.5094],\n",
       "        [0.7567, 0.2869, 0.3799, 0.4858, 0.6091, 0.3012, 0.0877],\n",
       "        [0.0574, 0.4523, 0.7987, 0.1529, 0.9240, 0.2522, 0.9562],\n",
       "        [0.8639, 0.7161, 0.4158, 0.1079, 0.2428, 0.2826, 0.5259],\n",
       "        [0.9083, 0.8217, 0.4775, 0.6083, 0.3919, 0.9269, 0.5466],\n",
       "        [0.6161, 0.1687, 0.0396, 0.6698, 0.2949, 0.4809, 0.7346],\n",
       "        [0.3395, 0.9510, 0.9916, 0.1199, 0.3769, 0.8322, 0.4236],\n",
       "        [0.8458, 0.5078, 0.8889, 0.0144, 0.1200, 0.1533, 0.6489],\n",
       "        [0.8633, 0.2860, 0.8788, 0.5130, 0.9088, 0.3462, 0.9989],\n",
       "        [0.0773, 0.8178, 0.6125, 0.3795, 0.3137, 0.0336, 0.7549],\n",
       "        [0.3126, 0.9932, 0.9038, 0.2454, 0.8192, 0.1343, 0.1040],\n",
       "        [0.6035, 0.7336, 0.0321, 0.4722, 0.9491, 0.0893, 0.4503],\n",
       "        [0.0651, 0.8063, 0.9689, 0.8788, 0.7519, 0.9292, 0.5416],\n",
       "        [0.7488, 0.6725, 0.7193, 0.4154, 0.1309, 0.5219, 0.0150],\n",
       "        [0.0221, 0.6225, 0.9450, 0.3729, 0.7622, 0.1398, 0.3627],\n",
       "        [0.1831, 0.7115, 0.8943, 0.4627, 0.4785, 0.5309, 0.6875],\n",
       "        [0.4494, 0.1604, 0.1090, 0.0539, 0.7973, 0.8107, 0.7033],\n",
       "        [0.7003, 0.6863, 0.4254, 0.5136, 0.1055, 0.6142, 0.4291],\n",
       "        [0.8288, 0.9763, 0.8080, 0.8685, 0.2214, 0.5004, 0.7686],\n",
       "        [0.0828, 0.9208, 0.7095, 0.8417, 0.3860, 0.2372, 0.7899],\n",
       "        [0.5197, 0.5647, 0.1396, 0.7409, 0.2725, 0.2957, 0.8803],\n",
       "        [0.0452, 0.4415, 0.8334, 0.2792, 0.4526, 0.1490, 0.8850],\n",
       "        [0.0148, 0.8186, 0.3872, 0.2322, 0.3598, 0.9699, 0.7556],\n",
       "        [0.5239, 0.1143, 0.5406, 0.0232, 0.2941, 0.7088, 0.4133],\n",
       "        [0.3972, 0.3685, 0.5392, 0.5709, 0.3509, 0.2066, 0.2242],\n",
       "        [0.0100, 0.5730, 0.3600, 0.8704, 0.9865, 0.9799, 0.8394],\n",
       "        [0.8854, 0.6371, 0.1226, 0.0509, 0.7374, 0.2459, 0.7906],\n",
       "        [0.3285, 0.1988, 0.8702, 0.5896, 0.8542, 0.5737, 0.5469],\n",
       "        [0.8343, 0.1782, 0.2007, 0.3352, 0.1649, 0.7636, 0.6085],\n",
       "        [0.0135, 0.1955, 0.8439, 0.3271, 0.7957, 0.8512, 0.5266],\n",
       "        [0.4696, 0.9331, 0.5210, 0.8684, 0.2372, 0.5572, 0.6147],\n",
       "        [0.2006, 0.3080, 0.9207, 0.9946, 0.8865, 0.6800, 0.1466],\n",
       "        [0.9736, 0.4019, 0.5447, 0.5776, 0.1076, 0.0493, 0.1058],\n",
       "        [0.5413, 0.9270, 0.3832, 0.7647, 0.7213, 0.8910, 0.4071],\n",
       "        [0.7339, 0.6585, 0.4880, 0.9806, 0.8253, 0.2258, 0.3913],\n",
       "        [0.3375, 0.7594, 0.9699, 0.5441, 0.8998, 0.0843, 0.6207],\n",
       "        [0.5527, 0.1009, 0.2752, 0.6480, 0.3391, 0.2355, 0.3206],\n",
       "        [0.3672, 0.5788, 0.3575, 0.1997, 0.3143, 0.6282, 0.6777],\n",
       "        [0.3911, 0.1148, 0.9781, 0.8797, 0.9768, 0.9267, 0.6852],\n",
       "        [0.7493, 0.3998, 0.3842, 0.5592, 0.5455, 0.1498, 0.5060],\n",
       "        [0.0599, 0.3243, 0.2727, 0.0820, 0.9043, 0.3448, 0.1877],\n",
       "        [0.3759, 0.6600, 0.7390, 0.1071, 0.9792, 0.8624, 0.2743],\n",
       "        [0.6774, 0.1934, 0.9247, 0.1847, 0.4757, 0.1886, 0.8340],\n",
       "        [0.1070, 0.0904, 0.6760, 0.2635, 0.0943, 0.6026, 0.2207],\n",
       "        [0.4840, 0.1647, 0.1686, 0.4116, 0.9664, 0.3476, 0.1168],\n",
       "        [0.1146, 0.4668, 0.5296, 0.1644, 0.4146, 0.3118, 0.8715],\n",
       "        [0.4621, 0.8765, 0.8843, 0.2067, 0.5485, 0.8337, 0.1877],\n",
       "        [0.6547, 0.1060, 0.7519, 0.4806, 0.8308, 0.2837, 0.7266],\n",
       "        [0.8304, 0.5340, 0.5942, 0.3400, 0.1453, 0.0672, 0.0118],\n",
       "        [0.6171, 0.7664, 0.9334, 0.4771, 0.9669, 0.1869, 0.0717],\n",
       "        [0.2994, 0.2566, 0.2666, 0.0724, 0.2566, 0.1355, 0.8864],\n",
       "        [0.6730, 0.0448, 0.3667, 0.3835, 0.8353, 0.6723, 0.9370],\n",
       "        [0.2497, 0.6245, 0.8801, 0.1632, 0.6467, 0.8010, 0.6462],\n",
       "        [0.9078, 0.9795, 0.6442, 0.1827, 0.2326, 0.6906, 0.1304],\n",
       "        [0.3454, 0.2214, 0.3865, 0.9862, 0.3771, 0.6173, 0.2205],\n",
       "        [0.4438, 0.4378, 0.4187, 0.5769, 0.3545, 0.8072, 0.5843],\n",
       "        [0.5311, 0.1668, 0.7516, 0.1280, 0.6714, 0.5491, 0.8468],\n",
       "        [0.8172, 0.2694, 0.2709, 0.8842, 0.1864, 0.2481, 0.9355],\n",
       "        [0.2031, 0.0676, 0.7108, 0.2089, 0.0466, 0.5073, 0.6249],\n",
       "        [0.1495, 0.4057, 0.3628, 0.2489, 0.4138, 0.7023, 0.9490],\n",
       "        [0.9009, 0.5706, 0.0249, 0.4450, 0.6074, 0.5620, 0.5663],\n",
       "        [0.7932, 0.8072, 0.1697, 0.4850, 0.0571, 0.3609, 0.9724],\n",
       "        [0.5896, 0.1853, 0.3192, 0.4547, 0.1849, 0.6495, 0.5246],\n",
       "        [0.0489, 0.9573, 0.9104, 0.7044, 0.2129, 0.5506, 0.2487],\n",
       "        [0.9018, 0.0895, 0.9059, 0.0772, 0.8733, 0.8169, 0.5445],\n",
       "        [0.8118, 0.8496, 0.1181, 0.8674, 0.0597, 0.8907, 0.3457],\n",
       "        [0.6726, 0.4277, 0.4203, 0.8342, 0.0994, 0.0801, 0.6649],\n",
       "        [0.6789, 0.3044, 0.4562, 0.4633, 0.7550, 0.9412, 0.0737],\n",
       "        [0.4396, 0.6227, 0.4865, 0.2661, 0.8335, 0.6098, 0.2538],\n",
       "        [0.0872, 0.2586, 0.8770, 0.9393, 0.2687, 0.6948, 0.7037],\n",
       "        [0.0940, 0.5533, 0.7178, 0.9829, 0.4298, 0.5155, 0.8240],\n",
       "        [0.2984, 0.0379, 0.0458, 0.7345, 0.0287, 0.4034, 0.9854],\n",
       "        [0.9061, 0.6736, 0.7814, 0.3305, 0.5783, 0.0346, 0.8331],\n",
       "        [0.1285, 0.1890, 0.2122, 0.1764, 0.8663, 0.8244, 0.5284],\n",
       "        [0.0045, 0.1055, 0.4878, 0.9566, 0.0662, 0.8209, 0.8506],\n",
       "        [0.7554, 0.4301, 0.6407, 0.0010, 0.5782, 0.6877, 0.2754],\n",
       "        [0.1711, 0.5571, 0.7435, 0.8779, 0.8475, 0.4892, 0.6550],\n",
       "        [0.9922, 0.1805, 0.9124, 0.2979, 0.2638, 0.5663, 0.1936],\n",
       "        [0.3538, 0.9317, 0.6749, 0.5855, 0.6272, 0.4259, 0.1696],\n",
       "        [0.5277, 0.7868, 0.3139, 0.9044, 0.3820, 0.4165, 0.0673],\n",
       "        [0.2085, 0.0916, 0.7074, 0.7924, 0.8834, 0.6262, 0.0787],\n",
       "        [0.7437, 0.1670, 0.2663, 0.3465, 0.7365, 0.8115, 0.3898],\n",
       "        [0.3064, 0.6310, 0.2327, 0.6273, 0.6137, 0.6659, 0.4459],\n",
       "        [0.0190, 0.1549, 0.5487, 0.3236, 0.1155, 0.5481, 0.1613],\n",
       "        [0.5054, 0.9476, 0.4226, 0.1231, 0.6074, 0.3857, 0.1289],\n",
       "        [0.6183, 0.9633, 0.7594, 0.4014, 0.6882, 0.7033, 0.7932]])"
      ]
     },
     "execution_count": 28,
     "metadata": {},
     "output_type": "execute_result"
    }
   ],
   "source": [
    "X_nodes"
   ]
  },
  {
   "cell_type": "code",
   "execution_count": 29,
   "id": "dbc017f6",
   "metadata": {},
   "outputs": [],
   "source": [
    "adjacency_matrix = (torch.rand([100,100]) > 0.5).int().double()"
   ]
  },
  {
   "cell_type": "code",
   "execution_count": 30,
   "id": "8a2b4059",
   "metadata": {},
   "outputs": [
    {
     "data": {
      "text/plain": [
       "torch.Size([100, 17])"
      ]
     },
     "execution_count": 30,
     "metadata": {},
     "output_type": "execute_result"
    }
   ],
   "source": [
    "layer(X_nodes, X_edges, adjacency_matrix, edge_adjacency_matrix).shape"
   ]
  },
  {
   "cell_type": "code",
   "execution_count": 31,
   "id": "90c8a70a",
   "metadata": {},
   "outputs": [],
   "source": [
    "from model_nenn import EdgeLevelAttentionLayer"
   ]
  },
  {
   "cell_type": "code",
   "execution_count": 32,
   "id": "1d356256",
   "metadata": {},
   "outputs": [],
   "source": [
    "layer2 = EdgeLevelAttentionLayer(7,12,8,9).to('cpu')"
   ]
  },
  {
   "cell_type": "code",
   "execution_count": 33,
   "id": "9e44b335",
   "metadata": {},
   "outputs": [],
   "source": [
    "edge_edge_adj_matrix = (torch.rand([500,500]) > 0.5).int().double()\n",
    "node_to_edge_adj_matrix = (torch.rand([100,500]) > 0.5).int().double()"
   ]
  },
  {
   "cell_type": "code",
   "execution_count": 34,
   "id": "6a08c0fb",
   "metadata": {},
   "outputs": [
    {
     "data": {
      "text/plain": [
       "torch.Size([500, 17])"
      ]
     },
     "execution_count": 34,
     "metadata": {},
     "output_type": "execute_result"
    }
   ],
   "source": [
    "layer2(X_nodes, X_edges, edge_edge_adj_matrix, node_to_edge_adj_matrix).shape"
   ]
  },
  {
   "cell_type": "code",
   "execution_count": null,
   "id": "24e0ee54",
   "metadata": {},
   "outputs": [],
   "source": []
  }
 ],
 "metadata": {
  "kernelspec": {
   "display_name": "Python 3 (ipykernel)",
   "language": "python",
   "name": "python3"
  },
  "language_info": {
   "codemirror_mode": {
    "name": "ipython",
    "version": 3
   },
   "file_extension": ".py",
   "mimetype": "text/x-python",
   "name": "python",
   "nbconvert_exporter": "python",
   "pygments_lexer": "ipython3",
   "version": "3.9.10"
  }
 },
 "nbformat": 4,
 "nbformat_minor": 5
}

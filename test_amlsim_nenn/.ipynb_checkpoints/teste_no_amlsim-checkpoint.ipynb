{
 "cells": [
  {
   "cell_type": "code",
   "execution_count": 1,
   "id": "7312ae22",
   "metadata": {},
   "outputs": [],
   "source": [
    "import os\n",
    "from torch_geometric.data import Data\n",
    "import torch"
   ]
  },
  {
   "cell_type": "code",
   "execution_count": 2,
   "id": "a62d13ca",
   "metadata": {},
   "outputs": [],
   "source": [
    "dataset = []\n",
    "\n",
    "for ptfile in os.listdir('1Kvertices-100Kedges_pt'):\n",
    "    dataset.append(torch.load(f'1Kvertices-100Kedges_pt/{ptfile}'))"
   ]
  },
  {
   "cell_type": "code",
   "execution_count": 3,
   "id": "52e65a43",
   "metadata": {},
   "outputs": [],
   "source": [
    "train_data = dataset[0:int(0.8*200)]\n",
    "test_data = dataset[int(0.8*200):]"
   ]
  },
  {
   "cell_type": "code",
   "execution_count": 4,
   "id": "438b86da",
   "metadata": {},
   "outputs": [
    {
     "data": {
      "text/plain": [
       "tensor(3947)"
      ]
     },
     "execution_count": 4,
     "metadata": {},
     "output_type": "execute_result"
    }
   ],
   "source": [
    "dataset[1].edge_to_edge_adj_matr.count_nonzero()"
   ]
  },
  {
   "cell_type": "code",
   "execution_count": 5,
   "id": "5a3c9678",
   "metadata": {},
   "outputs": [
    {
     "data": {
      "text/plain": [
       "tensor([0, 0, 0, 0, 0, 0, 0, 0, 0, 0, 0, 0, 0, 0, 0, 0, 0, 0, 0, 0, 0, 0, 0, 0,\n",
       "        0, 0, 0, 0, 0, 0, 0, 0, 0, 0, 0, 0, 0, 0, 0, 0, 0, 0, 0, 0, 0, 0, 0, 0,\n",
       "        0, 0, 0, 0, 0, 0, 0, 0, 0, 0, 0, 0, 0, 0, 0, 0, 0, 0, 0, 0, 0, 0, 0, 0,\n",
       "        0, 0, 0, 0, 0, 0, 0, 0, 0, 0, 0, 0, 0, 0, 0, 0, 0, 0, 0, 0, 0, 0, 1, 0,\n",
       "        0, 0, 0, 0, 0, 0, 0, 0, 0, 0, 0, 0, 0, 0, 0, 0, 0, 0, 0, 0, 0, 0, 0, 0,\n",
       "        0, 0, 0, 0, 0, 0, 0, 0, 0, 0, 0, 0, 0, 0, 0, 0, 0, 0, 0, 0, 0, 0, 0, 0,\n",
       "        0, 0, 0, 0, 0, 0, 0, 0, 0, 0, 0, 0, 0, 0, 0, 0, 0, 0, 0, 0, 0, 0, 0, 0,\n",
       "        0, 0, 0, 0, 0, 0, 0, 0, 0, 0, 0, 0, 0, 0, 0, 0, 0, 0, 0, 0, 0, 0, 0, 0,\n",
       "        0, 0, 0, 0, 0, 0, 0, 0, 0, 0, 0, 0, 0, 0, 0, 0, 0, 0, 0, 0, 0, 0, 0, 0,\n",
       "        0, 0, 0, 0, 0, 0, 0, 0, 0, 0, 0, 0, 0, 0, 0, 0, 0, 0, 0, 0, 0, 0, 0, 0,\n",
       "        0, 0, 0, 0, 0, 0, 0, 0, 0, 0, 1, 0, 0, 0, 0, 0, 0, 0, 0, 0, 0, 0, 0, 0,\n",
       "        0, 0, 0, 0, 0, 0, 0, 0, 0, 0, 0, 0, 0, 0, 0, 0, 0, 0, 0, 0, 0, 0, 0, 0,\n",
       "        0, 0, 0, 0, 0, 0, 0, 0, 0, 0, 0, 0, 0, 1, 0, 0, 0, 0, 0, 0, 0, 0, 0, 0,\n",
       "        0, 0, 0, 0, 0, 0, 0, 0, 0, 0, 0, 0, 0, 0, 0, 0, 0, 0, 0, 0, 0, 0, 0, 0,\n",
       "        0, 0, 0, 0, 0, 0, 0, 0, 0, 0, 0, 0, 0, 0, 0, 0, 0, 0, 0, 0, 0, 0, 0, 0,\n",
       "        0, 0, 0, 0, 0, 0, 0, 0, 0, 0, 0, 0, 0, 0, 0, 0, 0, 0, 0, 0, 0, 0, 0, 0,\n",
       "        0, 0, 0, 0, 0, 0, 0, 0, 0, 0, 0, 0, 0, 0, 0, 0, 0, 0, 0, 0, 0, 0, 0, 0,\n",
       "        0, 0, 0, 0, 0, 0, 0, 0, 0, 0, 0, 0, 0, 0, 0, 0, 0, 0, 0, 0, 0, 0, 0, 0,\n",
       "        0, 0, 0, 0, 0, 0, 0, 0, 0, 0, 0, 0, 0, 0, 0, 0, 0, 0, 0, 0, 0, 0, 0, 0,\n",
       "        0, 0, 0, 0, 0, 0, 0, 0, 0, 0, 0, 0, 0, 0, 0, 0, 0, 0, 0, 0, 0, 0, 0, 0,\n",
       "        0, 0, 0, 0, 0, 0, 0, 0, 0, 0, 0, 0, 0, 0, 0, 0, 0, 0, 0, 0, 0, 0, 0, 0,\n",
       "        0, 0, 0, 0, 0, 0, 0, 0, 0, 0, 0, 0, 0, 0, 0, 0, 0, 0, 0, 0, 0, 0, 0])"
      ]
     },
     "execution_count": 5,
     "metadata": {},
     "output_type": "execute_result"
    }
   ],
   "source": [
    "dataset[1].y"
   ]
  },
  {
   "cell_type": "code",
   "execution_count": 6,
   "id": "b08137ef",
   "metadata": {},
   "outputs": [
    {
     "data": {
      "text/plain": [
       "tensor([[4.0524e-05, 1.3414e-05, 1.3414e-05,  ..., 1.2984e-05, 1.2984e-05,\n",
       "         1.2984e-05],\n",
       "        [4.0524e-05, 1.3414e-05, 1.3414e-05,  ..., 1.2984e-05, 1.2984e-05,\n",
       "         1.2984e-05]], dtype=torch.float64)"
      ]
     },
     "execution_count": 6,
     "metadata": {},
     "output_type": "execute_result"
    }
   ],
   "source": [
    "dataset[1].edge_attr"
   ]
  },
  {
   "cell_type": "code",
   "execution_count": 7,
   "id": "7fd4fc6a",
   "metadata": {},
   "outputs": [
    {
     "data": {
      "text/plain": [
       "160"
      ]
     },
     "execution_count": 7,
     "metadata": {},
     "output_type": "execute_result"
    }
   ],
   "source": [
    "len(train_data)"
   ]
  },
  {
   "cell_type": "code",
   "execution_count": 8,
   "id": "e3cd1df4",
   "metadata": {},
   "outputs": [
    {
     "data": {
      "text/plain": [
       "40"
      ]
     },
     "execution_count": 8,
     "metadata": {},
     "output_type": "execute_result"
    }
   ],
   "source": [
    "len(test_data)"
   ]
  },
  {
   "cell_type": "code",
   "execution_count": 9,
   "id": "0e5c7d9c",
   "metadata": {},
   "outputs": [],
   "source": [
    "from model_nenn_simplificado import Nenn"
   ]
  },
  {
   "cell_type": "code",
   "execution_count": 10,
   "id": "d092caa2",
   "metadata": {},
   "outputs": [
    {
     "data": {
      "text/plain": [
       "2"
      ]
     },
     "execution_count": 10,
     "metadata": {},
     "output_type": "execute_result"
    }
   ],
   "source": [
    "dataset[0].x.shape[0]"
   ]
  },
  {
   "cell_type": "code",
   "execution_count": 11,
   "id": "a843d485",
   "metadata": {},
   "outputs": [
    {
     "data": {
      "text/plain": [
       "2"
      ]
     },
     "execution_count": 11,
     "metadata": {},
     "output_type": "execute_result"
    }
   ],
   "source": [
    "dataset[0].edge_attr.shape[0]"
   ]
  },
  {
   "cell_type": "code",
   "execution_count": 12,
   "id": "85b35690",
   "metadata": {},
   "outputs": [],
   "source": [
    "model = Nenn(2,2,2,2,2)"
   ]
  },
  {
   "cell_type": "code",
   "execution_count": 13,
   "id": "9f8edb59",
   "metadata": {},
   "outputs": [],
   "source": [
    "model = model.to('cpu')"
   ]
  },
  {
   "cell_type": "code",
   "execution_count": 14,
   "id": "023c7c5b",
   "metadata": {},
   "outputs": [],
   "source": [
    "loss = torch.nn.CrossEntropyLoss(weight=torch.Tensor([0.7, 0.3]))\n",
    "# TODO Undersampling Smote\n",
    "# TODO Oversampling\n",
    "optimizer = torch.optim.Adam(model.parameters(), lr=0.001)"
   ]
  },
  {
   "cell_type": "code",
   "execution_count": 15,
   "id": "374cdfe1",
   "metadata": {},
   "outputs": [
    {
     "data": {
      "text/plain": [
       "Data(x=[2, 509], edge_index=[2, 478], edge_attr=[2, 478], y=[478], node_to_node_adj_matr=[509, 509], node_to_edge_adj_matr=[509, 478], edge_to_node_adj_matr=[478, 509], edge_to_edge_adj_matr=[478, 478])"
      ]
     },
     "execution_count": 15,
     "metadata": {},
     "output_type": "execute_result"
    }
   ],
   "source": [
    "dataset[0]"
   ]
  },
  {
   "cell_type": "code",
   "execution_count": 16,
   "id": "6b3c7722",
   "metadata": {},
   "outputs": [],
   "source": [
    "def train():\n",
    "    model.train()\n",
    "    # Enumerar sobre os dados.\n",
    "    for ts, data in enumerate(train_data):\n",
    "        for epoch in range(5):\n",
    "            # Resetar Gradientes\n",
    "            optimizer.zero_grad()\n",
    "            # Passando as informações do batch e de conexão dos grafos\n",
    "            logits = model(\n",
    "                data.x.T.double(),\n",
    "                data.edge_attr.T.double(),\n",
    "                data.edge_to_edge_adj_matr.double(),\n",
    "                data.edge_to_node_adj_matr.double(),\n",
    "                data.node_to_edge_adj_matr.double(),\n",
    "                data.node_to_node_adj_matr.double()\n",
    "            )\n",
    "            #label_pred = pred.max(1)[1]\n",
    "            # Calculando a perda e os gradientes.\n",
    "            l = loss(logits, data.y)\n",
    "            l.backward()\n",
    "            # Atualizar usando os gradientes.\n",
    "            optimizer.step()\n",
    "            print('ts',ts+1,'epoch =', epoch + 1, 'loss =', l.item())"
   ]
  },
  {
   "cell_type": "code",
   "execution_count": null,
   "id": "f8670cf0",
   "metadata": {},
   "outputs": [],
   "source": [
    "train()"
   ]
  },
  {
   "cell_type": "code",
   "execution_count": null,
   "id": "cee38f1c",
   "metadata": {},
   "outputs": [],
   "source": [
    "label_pred_list = []\n",
    "y_true_list = []\n",
    "\n",
    "def test():\n",
    "    model.eval()\n",
    "    with torch.no_grad():\n",
    "        global label_pred_list\n",
    "        global y_true_list\n",
    "        for data in test_data:\n",
    "            data.to('cpu')\n",
    "            logits = model(\n",
    "                data.x.T.double(),\n",
    "                data.edge_attr.T.double(),\n",
    "                data.edge_to_edge_adj_matr.double(),\n",
    "                data.edge_to_node_adj_matr.double(),\n",
    "                data.node_to_edge_adj_matr.double(),\n",
    "                data.node_to_node_adj_matr.double()\n",
    "            )\n",
    "            label_pred = logits.max(1)[1].tolist()\n",
    "            label_pred_list += label_pred\n",
    "            y_true_list += data.y.tolist()\n",
    "    model.train()"
   ]
  },
  {
   "cell_type": "code",
   "execution_count": null,
   "id": "321b925a",
   "metadata": {},
   "outputs": [],
   "source": [
    "test()"
   ]
  },
  {
   "cell_type": "code",
   "execution_count": null,
   "id": "b023d780",
   "metadata": {},
   "outputs": [],
   "source": [
    "label_pred_list"
   ]
  },
  {
   "cell_type": "code",
   "execution_count": null,
   "id": "a978512c",
   "metadata": {},
   "outputs": [],
   "source": [
    "y_true_list"
   ]
  },
  {
   "cell_type": "code",
   "execution_count": null,
   "id": "e6758481",
   "metadata": {},
   "outputs": [],
   "source": [
    "from sklearn.metrics import precision_score, recall_score, f1_score, classification_report"
   ]
  },
  {
   "cell_type": "code",
   "execution_count": null,
   "id": "340bc389",
   "metadata": {},
   "outputs": [],
   "source": [
    "mean_precision = []\n",
    "mean_recall = []\n",
    "mean_f1 = []\n",
    "\n",
    "prec = precision_score(y_true_list, label_pred_list, average='binary', labels=[0])\n",
    "rec = recall_score(y_true_list, label_pred_list, average='binary', labels=[0])\n",
    "f1 = f1_score(y_true_list, label_pred_list, average='binary', labels=[0])"
   ]
  },
  {
   "cell_type": "code",
   "execution_count": null,
   "id": "297a092b",
   "metadata": {},
   "outputs": [],
   "source": [
    "print(classification_report(y_true_list,label_pred_list))"
   ]
  },
  {
   "cell_type": "code",
   "execution_count": null,
   "id": "36527b89",
   "metadata": {},
   "outputs": [],
   "source": [
    "prec"
   ]
  },
  {
   "cell_type": "code",
   "execution_count": null,
   "id": "e00da15c",
   "metadata": {},
   "outputs": [],
   "source": [
    "rec"
   ]
  },
  {
   "cell_type": "code",
   "execution_count": null,
   "id": "b4b23055",
   "metadata": {},
   "outputs": [],
   "source": [
    "f1"
   ]
  }
 ],
 "metadata": {
  "kernelspec": {
   "display_name": "Python 3 (ipykernel)",
   "language": "python",
   "name": "python3"
  },
  "language_info": {
   "codemirror_mode": {
    "name": "ipython",
    "version": 3
   },
   "file_extension": ".py",
   "mimetype": "text/x-python",
   "name": "python",
   "nbconvert_exporter": "python",
   "pygments_lexer": "ipython3",
   "version": "3.9.10"
  }
 },
 "nbformat": 4,
 "nbformat_minor": 5
}

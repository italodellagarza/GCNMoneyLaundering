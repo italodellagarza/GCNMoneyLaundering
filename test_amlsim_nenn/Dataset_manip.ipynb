{
 "cells": [
  {
   "cell_type": "code",
   "execution_count": 1,
   "id": "edcf6cc2",
   "metadata": {},
   "outputs": [
    {
     "name": "stderr",
     "output_type": "stream",
     "text": [
      "\n",
      "KeyboardInterrupt\n",
      "\n"
     ]
    }
   ],
   "source": [
    "import pandas as pd"
   ]
  },
  {
   "cell_type": "code",
   "execution_count": null,
   "id": "84fa3b4f",
   "metadata": {},
   "outputs": [],
   "source": [
    "from sklearn import preprocessing\n",
    "\n",
    "scaler = preprocessing.MinMaxScaler()"
   ]
  },
  {
   "cell_type": "code",
   "execution_count": null,
   "id": "50f19290",
   "metadata": {},
   "outputs": [],
   "source": [
    "account_list = pd.read_csv('./1Kvertices-100Kedges/accounts.csv')"
   ]
  },
  {
   "cell_type": "code",
   "execution_count": null,
   "id": "47cf3c4c",
   "metadata": {},
   "outputs": [],
   "source": [
    "account_list"
   ]
  },
  {
   "cell_type": "code",
   "execution_count": null,
   "id": "383abd08",
   "metadata": {},
   "outputs": [],
   "source": [
    "(account_list.CUSTOMER_ID == 'C_' + account_list.ACCOUNT_ID.astype(str)).all()"
   ]
  },
  {
   "cell_type": "markdown",
   "id": "d9e1eb63",
   "metadata": {},
   "source": [
    "__Estrutura do `accounts.csv`__"
   ]
  },
  {
   "cell_type": "markdown",
   "id": "4ff526fa",
   "metadata": {},
   "source": [
    "- __ACCOUNT_ID__: identificador único.\n",
    "- __CUSTOMER_ID__: outro identificador único\n",
    "- __INIT_BALANCE__: saldo inicial da conta\n",
    "- __COUNTRY__: país da conta\n",
    "- __ACCOUNT_TYPE__: tipo de conta\n",
    "- __IS_FRAUD__: Se é uma conta fraudulenta ou não\n",
    "- __TX_BEHAVIOUR_ID__: ??"
   ]
  },
  {
   "cell_type": "code",
   "execution_count": null,
   "id": "417d47ea",
   "metadata": {},
   "outputs": [],
   "source": [
    "transactions = pd.read_csv('./1Kvertices-100Kedges/transactions.csv')"
   ]
  },
  {
   "cell_type": "code",
   "execution_count": null,
   "id": "c0ef91b5",
   "metadata": {},
   "outputs": [],
   "source": [
    "transactions"
   ]
  },
  {
   "cell_type": "code",
   "execution_count": null,
   "id": "c62c47af",
   "metadata": {},
   "outputs": [],
   "source": [
    "transactions[transactions.TIMESTAMP == 1]"
   ]
  },
  {
   "cell_type": "code",
   "execution_count": null,
   "id": "6e78c51e",
   "metadata": {},
   "outputs": [],
   "source": [
    "def scaleColumns(df, cols_to_scale):\n",
    "    for col in cols_to_scale:\n",
    "        df[col] = pd.DataFrame(scaler.fit_transform(pd.DataFrame(df[col])),columns=[col])\n",
    "    return df"
   ]
  },
  {
   "cell_type": "code",
   "execution_count": null,
   "id": "62aed853",
   "metadata": {},
   "outputs": [],
   "source": [
    "transactions[transactions.IS_FRAUD == True]"
   ]
  },
  {
   "cell_type": "code",
   "execution_count": null,
   "id": "10c19d04",
   "metadata": {},
   "outputs": [],
   "source": [
    "transactions['SENDER_X'] = str(account_list[account_list.ACCOUNT_ID == 732].values[0])"
   ]
  },
  {
   "cell_type": "code",
   "execution_count": null,
   "id": "8b43b0d6",
   "metadata": {},
   "outputs": [],
   "source": [
    "transactions"
   ]
  },
  {
   "cell_type": "markdown",
   "id": "6e84f159",
   "metadata": {},
   "source": [
    "## TODO Melhorar tratamento de dados"
   ]
  },
  {
   "cell_type": "code",
   "execution_count": null,
   "id": "5df856e0",
   "metadata": {},
   "outputs": [],
   "source": [
    "transactions['ALERT_ID'] = transactions['ALERT_ID'] + transactions['ALERT_ID']*100 + transactions['TX_AMOUNT']"
   ]
  },
  {
   "cell_type": "code",
   "execution_count": null,
   "id": "d8586fe9",
   "metadata": {},
   "outputs": [],
   "source": [
    "account_list['TX_BEHAVIOR_ID'] = account_list['TX_BEHAVIOR_ID']*100 + account_list['INIT_BALANCE']"
   ]
  },
  {
   "cell_type": "markdown",
   "id": "1c41cb8f",
   "metadata": {},
   "source": [
    "## Fim TODO"
   ]
  },
  {
   "cell_type": "code",
   "execution_count": null,
   "id": "c9afbae9",
   "metadata": {},
   "outputs": [],
   "source": [
    "transactions[['TX_AMOUNT', 'ALERT_ID']] = scaler.fit_transform(transactions[['TX_AMOUNT', 'ALERT_ID']])\n",
    "account_list[['INIT_BALANCE', 'TX_BEHAVIOR_ID']] = scaler.fit_transform(account_list[['INIT_BALANCE', 'TX_BEHAVIOR_ID']])"
   ]
  },
  {
   "cell_type": "code",
   "execution_count": null,
   "id": "37f456e2",
   "metadata": {},
   "outputs": [],
   "source": [
    "account_list"
   ]
  },
  {
   "cell_type": "code",
   "execution_count": null,
   "id": "3430f3e3",
   "metadata": {},
   "outputs": [],
   "source": [
    "transactions"
   ]
  },
  {
   "cell_type": "code",
   "execution_count": null,
   "id": "8c908f28",
   "metadata": {},
   "outputs": [],
   "source": [
    "sender_accs = transactions[transactions.TIMESTAMP == 0].SENDER_ACCOUNT_ID.values.tolist()"
   ]
  },
  {
   "cell_type": "code",
   "execution_count": null,
   "id": "6397e526",
   "metadata": {},
   "outputs": [],
   "source": [
    "sender_accs = sender_accs + transactions[transactions.TIMESTAMP == 0].RECEIVER_ACCOUNT_ID.values.tolist()"
   ]
  },
  {
   "cell_type": "code",
   "execution_count": null,
   "id": "21c619b1",
   "metadata": {},
   "outputs": [],
   "source": [
    "accs = list(set(sender_accs))"
   ]
  },
  {
   "cell_type": "code",
   "execution_count": null,
   "id": "c8dd7735",
   "metadata": {},
   "outputs": [],
   "source": [
    "accs.sort()"
   ]
  },
  {
   "cell_type": "code",
   "execution_count": null,
   "id": "44a28326",
   "metadata": {},
   "outputs": [],
   "source": [
    "accs.index(accs[1])"
   ]
  },
  {
   "cell_type": "code",
   "execution_count": null,
   "id": "b700e0ab",
   "metadata": {},
   "outputs": [],
   "source": [
    "accs"
   ]
  },
  {
   "cell_type": "code",
   "execution_count": null,
   "id": "d2ec5fe5",
   "metadata": {},
   "outputs": [],
   "source": [
    "accs_t_0 = account_list.loc[accs].reset_index().reset_index()[['level_0', 'index' ,'INIT_BALANCE', 'TX_BEHAVIOR_ID']]"
   ]
  },
  {
   "cell_type": "code",
   "execution_count": null,
   "id": "c3c881e6",
   "metadata": {},
   "outputs": [],
   "source": [
    "accs_t_0"
   ]
  },
  {
   "cell_type": "code",
   "execution_count": null,
   "id": "94f37b06",
   "metadata": {},
   "outputs": [],
   "source": [
    "def get_converted_index(old):\n",
    "    return accs.index(old)"
   ]
  },
  {
   "cell_type": "code",
   "execution_count": null,
   "id": "d12b5787",
   "metadata": {},
   "outputs": [],
   "source": [
    "transactions_t0 = transactions[transactions.TIMESTAMP == 0]"
   ]
  },
  {
   "cell_type": "code",
   "execution_count": null,
   "id": "254c6536",
   "metadata": {},
   "outputs": [],
   "source": [
    "transactions_t0.SENDER_ACCOUNT_ID = transactions_t0.SENDER_ACCOUNT_ID.apply(get_converted_index)"
   ]
  },
  {
   "cell_type": "code",
   "execution_count": null,
   "id": "c4270aae",
   "metadata": {},
   "outputs": [],
   "source": [
    "transactions_t0"
   ]
  },
  {
   "cell_type": "code",
   "execution_count": null,
   "id": "d76d2513",
   "metadata": {},
   "outputs": [],
   "source": [
    "transactions_t0.RECEIVER_ACCOUNT_ID = transactions_t0.RECEIVER_ACCOUNT_ID.apply(get_converted_index)"
   ]
  },
  {
   "cell_type": "code",
   "execution_count": null,
   "id": "be3a3289",
   "metadata": {},
   "outputs": [],
   "source": [
    "transactions_t0"
   ]
  },
  {
   "cell_type": "code",
   "execution_count": null,
   "id": "dcb77ce5",
   "metadata": {},
   "outputs": [],
   "source": [
    "edge_index = transactions_t0[['SENDER_ACCOUNT_ID', 'RECEIVER_ACCOUNT_ID']]"
   ]
  },
  {
   "cell_type": "code",
   "execution_count": null,
   "id": "31da509a",
   "metadata": {},
   "outputs": [],
   "source": [
    "edge_index.values"
   ]
  },
  {
   "cell_type": "code",
   "execution_count": null,
   "id": "fd4c60de",
   "metadata": {},
   "outputs": [],
   "source": [
    "edge_attr = transactions_t0[['TX_AMOUNT', 'TIMESTAMP', 'ALERT_ID']]"
   ]
  },
  {
   "cell_type": "code",
   "execution_count": null,
   "id": "99df8185",
   "metadata": {},
   "outputs": [],
   "source": [
    "edge_attr.values"
   ]
  },
  {
   "cell_type": "code",
   "execution_count": null,
   "id": "00771dfb",
   "metadata": {},
   "outputs": [],
   "source": [
    "x = accs_t_0[['INIT_BALANCE', 'TX_BEHAVIOR_ID']].values"
   ]
  },
  {
   "cell_type": "code",
   "execution_count": null,
   "id": "8e63e1e7",
   "metadata": {},
   "outputs": [],
   "source": [
    "x"
   ]
  },
  {
   "cell_type": "code",
   "execution_count": null,
   "id": "611ff2c2",
   "metadata": {},
   "outputs": [],
   "source": [
    "y = transactions_t0['IS_FRAUD']"
   ]
  },
  {
   "cell_type": "code",
   "execution_count": null,
   "id": "2522d214",
   "metadata": {},
   "outputs": [],
   "source": [
    "y = y.apply(lambda v: 1 if v else 0)"
   ]
  },
  {
   "cell_type": "code",
   "execution_count": null,
   "id": "e09926b3",
   "metadata": {},
   "outputs": [],
   "source": [
    "y.values"
   ]
  },
  {
   "cell_type": "code",
   "execution_count": null,
   "id": "4345fa3b",
   "metadata": {},
   "outputs": [],
   "source": [
    "import torch\n",
    "from torch_geometric.data import Data\n",
    "\n",
    "\n",
    "def get_converted_index(old, acc_list):\n",
    "    return acc_list.index(old)\n",
    "\n",
    "\n",
    "graphs = []\n",
    "\n",
    "for timestamp in range(200):\n",
    "    timestamp_transacs = transactions[transactions.TIMESTAMP == timestamp]\n",
    "    t_sender_accs = timestamp_transacs.SENDER_ACCOUNT_ID.values.tolist()\n",
    "    t_receiver_accs = timestamp_transacs.RECEIVER_ACCOUNT_ID.values.tolist()\n",
    "    timestamp_accs = list(set(t_sender_accs + t_receiver_accs))\n",
    "    timestamp_accs.sort()\n",
    "    t_accs_features = account_list.loc[timestamp_accs].reset_index()\\\n",
    "        .reset_index()[['level_0', 'index' ,'INIT_BALANCE', 'TX_BEHAVIOR_ID']]\n",
    "    t_accs_features\n",
    "    timestamp_transacs.SENDER_ACCOUNT_ID = timestamp_transacs.SENDER_ACCOUNT_ID\\\n",
    "        .apply(lambda line: get_converted_index(line, timestamp_accs))\n",
    "    timestamp_transacs.RECEIVER_ACCOUNT_ID = timestamp_transacs.RECEIVER_ACCOUNT_ID\\\n",
    "        .apply(lambda line: get_converted_index(line, timestamp_accs))\n",
    "    edge_index = torch.tensor(timestamp_transacs[['SENDER_ACCOUNT_ID', 'RECEIVER_ACCOUNT_ID']].values.T)\n",
    "    edge_attr = torch.tensor(timestamp_transacs[['TX_AMOUNT', 'ALERT_ID']].values.T)\n",
    "    y = torch.tensor(timestamp_transacs['IS_FRAUD'].apply(lambda v: 1 if v else 0).values)\n",
    "    x = torch.tensor(t_accs_features[['INIT_BALANCE', 'TX_BEHAVIOR_ID']].values.T)\n",
    "    edge_to_edge_adj_matr = torch.eye(edge_attr.T.shape[0])\n",
    "    edge_to_node_adj_matr = torch.zeros([edge_attr.T.shape[0], x.T.shape[0]])                                                         \n",
    "    node_to_edge_adj_matr = torch.zeros([x.T.shape[0], edge_attr.T.shape[0]])\n",
    "    node_to_node_adj_matr = torch.eye(x.T.shape[0])\n",
    "    for n, ei in enumerate(edge_index.T):\n",
    "        node_to_node_adj_matr[ei[0]][ei[1]] = 1.0\n",
    "        node_to_edge_adj_matr[ei[0]][n] = 1.0\n",
    "        node_to_edge_adj_matr[ei[1]][n] = 1.0\n",
    "        edge_to_node_adj_matr[n][ei[1]] = 1.0\n",
    "        edge_to_node_adj_matr[n][ei[0]] = 1.0\n",
    "    \n",
    "    for n, ei in enumerate(edge_index.T):\n",
    "        for n2, e2 in enumerate(edge_to_node_adj_matr[:, ei[0]]):\n",
    "            if e2 == 1.0:\n",
    "                edge_to_edge_adj_matr[n2][n] = 1.0\n",
    "    data = Data(\n",
    "        x=x,\n",
    "        y=y,\n",
    "        edge_attr=edge_attr,\n",
    "        edge_index=edge_index,\n",
    "        node_to_node_adj_matr=node_to_node_adj_matr,\n",
    "        node_to_edge_adj_matr=node_to_edge_adj_matr,\n",
    "        edge_to_node_adj_matr=edge_to_node_adj_matr,\n",
    "        edge_to_edge_adj_matr=edge_to_edge_adj_matr\n",
    "    )\n",
    "    graphs.append(data)"
   ]
  },
  {
   "cell_type": "code",
   "execution_count": null,
   "id": "4f9cd15e",
   "metadata": {},
   "outputs": [],
   "source": [
    "import os\n",
    "\n",
    "NAME_DIR = '1Kvertices-100Kedges_pt/'\n",
    "\n",
    "if not os.path.exists(NAME_DIR):\n",
    "    os.mkdir(NAME_DIR)\n",
    "\n",
    "NAME_DIR = '1Kvertices-100Kedges_pt/'\n",
    "\n",
    "for i, g in enumerate(graphs):\n",
    "    name_out = NAME_DIR + str(i) + '.pt'\n",
    "    torch.save(g, name_out)"
   ]
  },
  {
   "cell_type": "code",
   "execution_count": null,
   "id": "5fb72c51",
   "metadata": {},
   "outputs": [],
   "source": []
  }
 ],
 "metadata": {
  "kernelspec": {
   "display_name": "Python 3 (ipykernel)",
   "language": "python",
   "name": "python3"
  },
  "language_info": {
   "codemirror_mode": {
    "name": "ipython",
    "version": 3
   },
   "file_extension": ".py",
   "mimetype": "text/x-python",
   "name": "python",
   "nbconvert_exporter": "python",
   "pygments_lexer": "ipython3",
   "version": "3.9.10"
  }
 },
 "nbformat": 4,
 "nbformat_minor": 5
}

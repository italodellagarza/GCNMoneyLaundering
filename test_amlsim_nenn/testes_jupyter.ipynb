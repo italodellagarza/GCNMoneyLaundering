{
 "cells": [
  {
   "cell_type": "code",
   "execution_count": 3,
   "id": "4c48adc0",
   "metadata": {},
   "outputs": [],
   "source": [
    "import torch"
   ]
  },
  {
   "cell_type": "markdown",
   "id": "f265322f",
   "metadata": {},
   "source": [
    "# Gerando dados aleatorios"
   ]
  },
  {
   "cell_type": "code",
   "execution_count": 5,
   "id": "87872221",
   "metadata": {},
   "outputs": [],
   "source": [
    "import random"
   ]
  },
  {
   "cell_type": "code",
   "execution_count": 1,
   "id": "4b8e59ee",
   "metadata": {},
   "outputs": [],
   "source": [
    "NUM_NODES = 509\n",
    "NUM_NODE_FEATURES = 2\n",
    "NUM_EDGES = 478\n",
    "NUM_EDGE_FEATURES = 3"
   ]
  },
  {
   "cell_type": "code",
   "execution_count": 22,
   "id": "0838a851",
   "metadata": {},
   "outputs": [],
   "source": [
    "NODE_EMBED_SIZE = 4\n",
    "EDGE_EMBED_SIZE = 6"
   ]
  },
  {
   "cell_type": "code",
   "execution_count": 4,
   "id": "a17101bd",
   "metadata": {},
   "outputs": [],
   "source": [
    "node_features = torch.rand([509, 2])\n",
    "edge_features = torch.rand([478, 3])"
   ]
  },
  {
   "cell_type": "code",
   "execution_count": 14,
   "id": "536317fe",
   "metadata": {},
   "outputs": [],
   "source": [
    "edge_to_edge_adj_matr = torch.eye(478)\n",
    "for i in range(len(edge_to_edge_adj_matr)):\n",
    "    for j in range(len(edge_to_edge_adj_matr[i])):\n",
    "        if random.random() > 0.5:\n",
    "            edge_to_edge_adj_matr[i][j] = 1.0\n",
    "            "
   ]
  },
  {
   "cell_type": "code",
   "execution_count": 15,
   "id": "4ff4218a",
   "metadata": {},
   "outputs": [],
   "source": [
    "node_to_edge_adj_matr = torch.zeros([509, 478])\n",
    "for i in range(len(node_to_edge_adj_matr)):\n",
    "    for j in range(len(node_to_edge_adj_matr[i])):\n",
    "        if random.random() > 0.5:\n",
    "            node_to_edge_adj_matr[i][j] = 1.0\n"
   ]
  },
  {
   "cell_type": "code",
   "execution_count": 20,
   "id": "8c7d9929",
   "metadata": {},
   "outputs": [],
   "source": [
    "node_to_node_adj_matr = torch.eye(509)\n",
    "for i in range(len(node_to_node_adj_matr)):\n",
    "    for j in range(len(node_to_node_adj_matr[i])):\n",
    "        if random.random() > 0.5:\n",
    "            node_to_node_adj_matr[i][j] = 1.0"
   ]
  },
  {
   "cell_type": "code",
   "execution_count": 21,
   "id": "6400baca",
   "metadata": {},
   "outputs": [],
   "source": [
    "edge_to_node_adj_matr = torch.zeros([478, 509])\n",
    "for i in range(len(edge_to_node_adj_matr)):\n",
    "    for j in range(len(edge_to_node_adj_matr[i])):\n",
    "        if random.random() > 0.5:\n",
    "            edge_to_node_adj_matr[i][j] = 1.0"
   ]
  },
  {
   "cell_type": "markdown",
   "id": "29ac0f23",
   "metadata": {},
   "source": [
    "# EdgeLevelAttentionLayer"
   ]
  },
  {
   "cell_type": "markdown",
   "id": "bba8f968",
   "metadata": {},
   "source": [
    "## Weights"
   ]
  },
  {
   "cell_type": "code",
   "execution_count": 23,
   "id": "21b8a980",
   "metadata": {},
   "outputs": [],
   "source": [
    "weight_node = torch.rand([NUM_NODE_FEATURES, NODE_EMBED_SIZE])\n",
    "weight_edge = torch.rand([NUM_EDGE_FEATURES, EDGE_EMBED_SIZE])\n",
    "parameter_vector_node = torch.rand(NODE_EMBED_SIZE + EDGE_EMBED_SIZE)\n",
    "parameter_vector_edge = torch.rand(2*EDGE_EMBED_SIZE)"
   ]
  },
  {
   "cell_type": "markdown",
   "id": "c6299f1a",
   "metadata": {},
   "source": [
    "## forward"
   ]
  },
  {
   "cell_type": "code",
   "execution_count": 25,
   "id": "b679d85d",
   "metadata": {},
   "outputs": [],
   "source": [
    "node_embeds = torch.matmul(node_features, weight_node)"
   ]
  },
  {
   "cell_type": "code",
   "execution_count": 27,
   "id": "5cbbe50d",
   "metadata": {},
   "outputs": [
    {
     "data": {
      "text/plain": [
       "torch.Size([509, 4])"
      ]
     },
     "execution_count": 27,
     "metadata": {},
     "output_type": "execute_result"
    }
   ],
   "source": [
    "node_embeds.shape"
   ]
  },
  {
   "cell_type": "code",
   "execution_count": 28,
   "id": "bbebeb64",
   "metadata": {},
   "outputs": [],
   "source": [
    "edge_embeds = torch.matmul(edge_features, weight_edge)"
   ]
  },
  {
   "cell_type": "code",
   "execution_count": 29,
   "id": "26a1fba6",
   "metadata": {},
   "outputs": [
    {
     "data": {
      "text/plain": [
       "torch.Size([478, 6])"
      ]
     },
     "execution_count": 29,
     "metadata": {},
     "output_type": "execute_result"
    }
   ],
   "source": [
    "edge_embeds.shape"
   ]
  },
  {
   "cell_type": "code",
   "execution_count": 35,
   "id": "5fea103f",
   "metadata": {},
   "outputs": [],
   "source": [
    "diagonal_n = torch.diag_embed(node_to_edge_adj_matr.T)"
   ]
  },
  {
   "cell_type": "code",
   "execution_count": 37,
   "id": "6ad87f75",
   "metadata": {},
   "outputs": [
    {
     "data": {
      "text/plain": [
       "torch.Size([478, 509, 509])"
      ]
     },
     "execution_count": 37,
     "metadata": {},
     "output_type": "execute_result"
    }
   ],
   "source": [
    "diagonal_n.shape"
   ]
  },
  {
   "cell_type": "code",
   "execution_count": 38,
   "id": "60d126c6",
   "metadata": {},
   "outputs": [],
   "source": [
    "diagonal_e = torch.diag_embed(edge_to_edge_adj_matr.T)"
   ]
  },
  {
   "cell_type": "code",
   "execution_count": 40,
   "id": "f6466116",
   "metadata": {},
   "outputs": [
    {
     "data": {
      "text/plain": [
       "torch.Size([478, 478, 478])"
      ]
     },
     "execution_count": 40,
     "metadata": {},
     "output_type": "execute_result"
    }
   ],
   "source": [
    "diagonal_e.shape"
   ]
  },
  {
   "cell_type": "markdown",
   "id": "f4a8ad5e",
   "metadata": {},
   "source": [
    "__Encontrar as features de cada nó vizinho para cada aresta__"
   ]
  },
  {
   "cell_type": "code",
   "execution_count": 41,
   "id": "ea1266b4",
   "metadata": {},
   "outputs": [],
   "source": [
    "features_neighbors_n = torch.matmul(diagonal_n, node_embeds)"
   ]
  },
  {
   "cell_type": "code",
   "execution_count": 42,
   "id": "0c1dfae4",
   "metadata": {},
   "outputs": [
    {
     "data": {
      "text/plain": [
       "torch.Size([478, 509, 4])"
      ]
     },
     "execution_count": 42,
     "metadata": {},
     "output_type": "execute_result"
    }
   ],
   "source": [
    "features_neighbors_n.shape"
   ]
  },
  {
   "cell_type": "code",
   "execution_count": 43,
   "id": "272d2af0",
   "metadata": {},
   "outputs": [
    {
     "data": {
      "text/plain": [
       "tensor([[[0.0000, 0.0000, 0.0000, 0.0000],\n",
       "         [0.0000, 0.0000, 0.0000, 0.0000],\n",
       "         [0.0000, 0.0000, 0.0000, 0.0000],\n",
       "         ...,\n",
       "         [0.0000, 0.0000, 0.0000, 0.0000],\n",
       "         [0.1245, 0.0841, 0.1337, 0.1375],\n",
       "         [0.0000, 0.0000, 0.0000, 0.0000]],\n",
       "\n",
       "        [[0.2148, 0.1363, 0.1664, 0.2030],\n",
       "         [1.0572, 0.6094, 0.3763, 0.7637],\n",
       "         [0.0000, 0.0000, 0.0000, 0.0000],\n",
       "         ...,\n",
       "         [0.3850, 0.2442, 0.2980, 0.3637],\n",
       "         [0.0000, 0.0000, 0.0000, 0.0000],\n",
       "         [0.1730, 0.1400, 0.3529, 0.2798]],\n",
       "\n",
       "        [[0.2148, 0.1363, 0.1664, 0.2030],\n",
       "         [1.0572, 0.6094, 0.3763, 0.7637],\n",
       "         [0.0000, 0.0000, 0.0000, 0.0000],\n",
       "         ...,\n",
       "         [0.0000, 0.0000, 0.0000, 0.0000],\n",
       "         [0.0000, 0.0000, 0.0000, 0.0000],\n",
       "         [0.0000, 0.0000, 0.0000, 0.0000]],\n",
       "\n",
       "        ...,\n",
       "\n",
       "        [[0.0000, 0.0000, 0.0000, 0.0000],\n",
       "         [0.0000, 0.0000, 0.0000, 0.0000],\n",
       "         [0.0000, 0.0000, 0.0000, 0.0000],\n",
       "         ...,\n",
       "         [0.0000, 0.0000, 0.0000, 0.0000],\n",
       "         [0.1245, 0.0841, 0.1337, 0.1375],\n",
       "         [0.1730, 0.1400, 0.3529, 0.2798]],\n",
       "\n",
       "        [[0.0000, 0.0000, 0.0000, 0.0000],\n",
       "         [1.0572, 0.6094, 0.3763, 0.7637],\n",
       "         [0.5029, 0.3673, 0.7393, 0.6612],\n",
       "         ...,\n",
       "         [0.0000, 0.0000, 0.0000, 0.0000],\n",
       "         [0.1245, 0.0841, 0.1337, 0.1375],\n",
       "         [0.0000, 0.0000, 0.0000, 0.0000]],\n",
       "\n",
       "        [[0.0000, 0.0000, 0.0000, 0.0000],\n",
       "         [1.0572, 0.6094, 0.3763, 0.7637],\n",
       "         [0.5029, 0.3673, 0.7393, 0.6612],\n",
       "         ...,\n",
       "         [0.3850, 0.2442, 0.2980, 0.3637],\n",
       "         [0.0000, 0.0000, 0.0000, 0.0000],\n",
       "         [0.1730, 0.1400, 0.3529, 0.2798]]])"
      ]
     },
     "execution_count": 43,
     "metadata": {},
     "output_type": "execute_result"
    }
   ],
   "source": [
    "features_neighbors_n"
   ]
  },
  {
   "cell_type": "markdown",
   "id": "23d572c7",
   "metadata": {},
   "source": [
    "__Encontrar as features de cada aresta vizinha para cada aresta__"
   ]
  },
  {
   "cell_type": "code",
   "execution_count": 44,
   "id": "a3a1701a",
   "metadata": {},
   "outputs": [],
   "source": [
    "features_neighbors_e = torch.matmul(diagonal_e, edge_embeds)"
   ]
  },
  {
   "cell_type": "code",
   "execution_count": 45,
   "id": "ae3836f1",
   "metadata": {},
   "outputs": [
    {
     "data": {
      "text/plain": [
       "torch.Size([478, 478, 6])"
      ]
     },
     "execution_count": 45,
     "metadata": {},
     "output_type": "execute_result"
    }
   ],
   "source": [
    "features_neighbors_e.shape"
   ]
  },
  {
   "cell_type": "code",
   "execution_count": 48,
   "id": "dda9d2c2",
   "metadata": {},
   "outputs": [
    {
     "data": {
      "text/plain": [
       "tensor([[[0.9197, 0.4651, 1.4119, 0.6401, 1.1488, 0.5080],\n",
       "         [0.9197, 0.4651, 1.4119, 0.6401, 1.1488, 0.5080],\n",
       "         [0.9197, 0.4651, 1.4119, 0.6401, 1.1488, 0.5080],\n",
       "         ...,\n",
       "         [0.9197, 0.4651, 1.4119, 0.6401, 1.1488, 0.5080],\n",
       "         [0.9197, 0.4651, 1.4119, 0.6401, 1.1488, 0.5080],\n",
       "         [0.9197, 0.4651, 1.4119, 0.6401, 1.1488, 0.5080]],\n",
       "\n",
       "        [[0.6174, 0.1905, 0.8929, 0.5999, 0.6405, 0.2045],\n",
       "         [0.6174, 0.1905, 0.8929, 0.5999, 0.6405, 0.2045],\n",
       "         [0.6174, 0.1905, 0.8929, 0.5999, 0.6405, 0.2045],\n",
       "         ...,\n",
       "         [0.6174, 0.1905, 0.8929, 0.5999, 0.6405, 0.2045],\n",
       "         [0.6174, 0.1905, 0.8929, 0.5999, 0.6405, 0.2045],\n",
       "         [0.6174, 0.1905, 0.8929, 0.5999, 0.6405, 0.2045]],\n",
       "\n",
       "        [[1.0228, 0.5490, 1.5935, 0.8002, 1.2957, 0.5456],\n",
       "         [1.0228, 0.5490, 1.5935, 0.8002, 1.2957, 0.5456],\n",
       "         [1.0228, 0.5490, 1.5935, 0.8002, 1.2957, 0.5456],\n",
       "         ...,\n",
       "         [1.0228, 0.5490, 1.5935, 0.8002, 1.2957, 0.5456],\n",
       "         [1.0228, 0.5490, 1.5935, 0.8002, 1.2957, 0.5456],\n",
       "         [1.0228, 0.5490, 1.5935, 0.8002, 1.2957, 0.5456]],\n",
       "\n",
       "        ...,\n",
       "\n",
       "        [[0.7937, 0.6222, 1.3366, 0.5157, 1.1957, 0.5735],\n",
       "         [0.7937, 0.6222, 1.3366, 0.5157, 1.1957, 0.5735],\n",
       "         [0.7937, 0.6222, 1.3366, 0.5157, 1.1957, 0.5735],\n",
       "         ...,\n",
       "         [0.7937, 0.6222, 1.3366, 0.5157, 1.1957, 0.5735],\n",
       "         [0.7937, 0.6222, 1.3366, 0.5157, 1.1957, 0.5735],\n",
       "         [0.7937, 0.6222, 1.3366, 0.5157, 1.1957, 0.5735]],\n",
       "\n",
       "        [[0.4527, 0.5286, 0.8628, 0.3762, 0.8294, 0.3874],\n",
       "         [0.4527, 0.5286, 0.8628, 0.3762, 0.8294, 0.3874],\n",
       "         [0.4527, 0.5286, 0.8628, 0.3762, 0.8294, 0.3874],\n",
       "         ...,\n",
       "         [0.4527, 0.5286, 0.8628, 0.3762, 0.8294, 0.3874],\n",
       "         [0.4527, 0.5286, 0.8628, 0.3762, 0.8294, 0.3874],\n",
       "         [0.4527, 0.5286, 0.8628, 0.3762, 0.8294, 0.3874]],\n",
       "\n",
       "        [[1.0479, 0.8651, 1.8022, 0.8828, 1.5937, 0.6971],\n",
       "         [1.0479, 0.8651, 1.8022, 0.8828, 1.5937, 0.6971],\n",
       "         [1.0479, 0.8651, 1.8022, 0.8828, 1.5937, 0.6971],\n",
       "         ...,\n",
       "         [1.0479, 0.8651, 1.8022, 0.8828, 1.5937, 0.6971],\n",
       "         [1.0479, 0.8651, 1.8022, 0.8828, 1.5937, 0.6971],\n",
       "         [1.0479, 0.8651, 1.8022, 0.8828, 1.5937, 0.6971]]])"
      ]
     },
     "execution_count": 48,
     "metadata": {},
     "output_type": "execute_result"
    }
   ],
   "source": [
    "edge_embeds.repeat_interleave(NUM_NODES, dim=0).reshape(NUM_EDGES, NUM_NODES, EDGE_EMBED_SIZE)"
   ]
  },
  {
   "cell_type": "code",
   "execution_count": 49,
   "id": "300cfeff",
   "metadata": {},
   "outputs": [],
   "source": [
    "concat_result_n = torch.cat(\n",
    "    (\n",
    "        edge_embeds.repeat_interleave(NUM_NODES, dim=0).reshape([\n",
    "            NUM_EDGES,\n",
    "            NUM_NODES,\n",
    "            EDGE_EMBED_SIZE\n",
    "        ]),\n",
    "        features_neighbors_n\n",
    "    ),\n",
    "    2\n",
    ")"
   ]
  },
  {
   "cell_type": "code",
   "execution_count": 50,
   "id": "cda02c66",
   "metadata": {},
   "outputs": [
    {
     "data": {
      "text/plain": [
       "tensor([[[0.9197, 0.4651, 1.4119,  ..., 0.0000, 0.0000, 0.0000],\n",
       "         [0.9197, 0.4651, 1.4119,  ..., 0.0000, 0.0000, 0.0000],\n",
       "         [0.9197, 0.4651, 1.4119,  ..., 0.0000, 0.0000, 0.0000],\n",
       "         ...,\n",
       "         [0.9197, 0.4651, 1.4119,  ..., 0.0000, 0.0000, 0.0000],\n",
       "         [0.9197, 0.4651, 1.4119,  ..., 0.0841, 0.1337, 0.1375],\n",
       "         [0.9197, 0.4651, 1.4119,  ..., 0.0000, 0.0000, 0.0000]],\n",
       "\n",
       "        [[0.6174, 0.1905, 0.8929,  ..., 0.1363, 0.1664, 0.2030],\n",
       "         [0.6174, 0.1905, 0.8929,  ..., 0.6094, 0.3763, 0.7637],\n",
       "         [0.6174, 0.1905, 0.8929,  ..., 0.0000, 0.0000, 0.0000],\n",
       "         ...,\n",
       "         [0.6174, 0.1905, 0.8929,  ..., 0.2442, 0.2980, 0.3637],\n",
       "         [0.6174, 0.1905, 0.8929,  ..., 0.0000, 0.0000, 0.0000],\n",
       "         [0.6174, 0.1905, 0.8929,  ..., 0.1400, 0.3529, 0.2798]],\n",
       "\n",
       "        [[1.0228, 0.5490, 1.5935,  ..., 0.1363, 0.1664, 0.2030],\n",
       "         [1.0228, 0.5490, 1.5935,  ..., 0.6094, 0.3763, 0.7637],\n",
       "         [1.0228, 0.5490, 1.5935,  ..., 0.0000, 0.0000, 0.0000],\n",
       "         ...,\n",
       "         [1.0228, 0.5490, 1.5935,  ..., 0.0000, 0.0000, 0.0000],\n",
       "         [1.0228, 0.5490, 1.5935,  ..., 0.0000, 0.0000, 0.0000],\n",
       "         [1.0228, 0.5490, 1.5935,  ..., 0.0000, 0.0000, 0.0000]],\n",
       "\n",
       "        ...,\n",
       "\n",
       "        [[0.7937, 0.6222, 1.3366,  ..., 0.0000, 0.0000, 0.0000],\n",
       "         [0.7937, 0.6222, 1.3366,  ..., 0.0000, 0.0000, 0.0000],\n",
       "         [0.7937, 0.6222, 1.3366,  ..., 0.0000, 0.0000, 0.0000],\n",
       "         ...,\n",
       "         [0.7937, 0.6222, 1.3366,  ..., 0.0000, 0.0000, 0.0000],\n",
       "         [0.7937, 0.6222, 1.3366,  ..., 0.0841, 0.1337, 0.1375],\n",
       "         [0.7937, 0.6222, 1.3366,  ..., 0.1400, 0.3529, 0.2798]],\n",
       "\n",
       "        [[0.4527, 0.5286, 0.8628,  ..., 0.0000, 0.0000, 0.0000],\n",
       "         [0.4527, 0.5286, 0.8628,  ..., 0.6094, 0.3763, 0.7637],\n",
       "         [0.4527, 0.5286, 0.8628,  ..., 0.3673, 0.7393, 0.6612],\n",
       "         ...,\n",
       "         [0.4527, 0.5286, 0.8628,  ..., 0.0000, 0.0000, 0.0000],\n",
       "         [0.4527, 0.5286, 0.8628,  ..., 0.0841, 0.1337, 0.1375],\n",
       "         [0.4527, 0.5286, 0.8628,  ..., 0.0000, 0.0000, 0.0000]],\n",
       "\n",
       "        [[1.0479, 0.8651, 1.8022,  ..., 0.0000, 0.0000, 0.0000],\n",
       "         [1.0479, 0.8651, 1.8022,  ..., 0.6094, 0.3763, 0.7637],\n",
       "         [1.0479, 0.8651, 1.8022,  ..., 0.3673, 0.7393, 0.6612],\n",
       "         ...,\n",
       "         [1.0479, 0.8651, 1.8022,  ..., 0.2442, 0.2980, 0.3637],\n",
       "         [1.0479, 0.8651, 1.8022,  ..., 0.0000, 0.0000, 0.0000],\n",
       "         [1.0479, 0.8651, 1.8022,  ..., 0.1400, 0.3529, 0.2798]]])"
      ]
     },
     "execution_count": 50,
     "metadata": {},
     "output_type": "execute_result"
    }
   ],
   "source": [
    "concat_result_n"
   ]
  },
  {
   "cell_type": "code",
   "execution_count": 51,
   "id": "c7ccc4a2",
   "metadata": {},
   "outputs": [
    {
     "data": {
      "text/plain": [
       "torch.Size([478, 509, 10])"
      ]
     },
     "execution_count": 51,
     "metadata": {},
     "output_type": "execute_result"
    }
   ],
   "source": [
    "concat_result_n.shape"
   ]
  },
  {
   "cell_type": "code",
   "execution_count": 53,
   "id": "43baef70",
   "metadata": {},
   "outputs": [],
   "source": [
    "node_activation = torch.nn.LeakyReLU()"
   ]
  },
  {
   "cell_type": "code",
   "execution_count": 54,
   "id": "9d1f4f68",
   "metadata": {},
   "outputs": [],
   "source": [
    "edge_activation = torch.nn.LeakyReLU()"
   ]
  },
  {
   "cell_type": "code",
   "execution_count": 58,
   "id": "6648a1da",
   "metadata": {},
   "outputs": [],
   "source": [
    "importance_normalization = torch.nn.Softmax(dim=1)"
   ]
  },
  {
   "cell_type": "code",
   "execution_count": 68,
   "id": "546fd802",
   "metadata": {},
   "outputs": [
    {
     "data": {
      "text/plain": [
       "torch.Size([478, 509])"
      ]
     },
     "execution_count": 68,
     "metadata": {},
     "output_type": "execute_result"
    }
   ],
   "source": [
    "torch.matmul(concat_result_n, parameter_vector_node).shape"
   ]
  },
  {
   "cell_type": "code",
   "execution_count": 77,
   "id": "4488cf62",
   "metadata": {},
   "outputs": [],
   "source": [
    "importance_coeficients_n = importance_normalization(node_activation(torch.matmul(concat_result_n, parameter_vector_node)))"
   ]
  },
  {
   "cell_type": "code",
   "execution_count": 78,
   "id": "3a0ceeda",
   "metadata": {},
   "outputs": [
    {
     "data": {
      "text/plain": [
       "torch.Size([478, 509])"
      ]
     },
     "execution_count": 78,
     "metadata": {},
     "output_type": "execute_result"
    }
   ],
   "source": [
    "importance_coeficients_n.shape"
   ]
  },
  {
   "cell_type": "code",
   "execution_count": 87,
   "id": "014a8927",
   "metadata": {},
   "outputs": [
    {
     "data": {
      "text/plain": [
       "torch.Size([478, 509, 2])"
      ]
     },
     "execution_count": 87,
     "metadata": {},
     "output_type": "execute_result"
    }
   ],
   "source": [
    "torch.matmul(diagonal_n, node_features).shape"
   ]
  },
  {
   "cell_type": "code",
   "execution_count": 89,
   "id": "b3a35798",
   "metadata": {},
   "outputs": [
    {
     "data": {
      "text/plain": [
       "tensor([[0.0006, 0.0006, 0.0006,  ..., 0.0006, 0.0009, 0.0006],\n",
       "        [0.0010, 0.0043, 0.0006,  ..., 0.0015, 0.0006, 0.0012],\n",
       "        [0.0010, 0.0044, 0.0006,  ..., 0.0006, 0.0006, 0.0006],\n",
       "        ...,\n",
       "        [0.0006, 0.0006, 0.0006,  ..., 0.0006, 0.0009, 0.0012],\n",
       "        [0.0007, 0.0049, 0.0034,  ..., 0.0007, 0.0010, 0.0007],\n",
       "        [0.0006, 0.0044, 0.0031,  ..., 0.0016, 0.0006, 0.0012]])"
      ]
     },
     "execution_count": 89,
     "metadata": {},
     "output_type": "execute_result"
    }
   ],
   "source": [
    "importance_coeficients_n"
   ]
  },
  {
   "cell_type": "code",
   "execution_count": 88,
   "id": "fe057c7e",
   "metadata": {},
   "outputs": [
    {
     "data": {
      "text/plain": [
       "tensor([[[0.0006],\n",
       "         [0.0006],\n",
       "         [0.0006],\n",
       "         ...,\n",
       "         [0.0006],\n",
       "         [0.0009],\n",
       "         [0.0006]],\n",
       "\n",
       "        [[0.0010],\n",
       "         [0.0043],\n",
       "         [0.0006],\n",
       "         ...,\n",
       "         [0.0015],\n",
       "         [0.0006],\n",
       "         [0.0012]],\n",
       "\n",
       "        [[0.0010],\n",
       "         [0.0044],\n",
       "         [0.0006],\n",
       "         ...,\n",
       "         [0.0006],\n",
       "         [0.0006],\n",
       "         [0.0006]],\n",
       "\n",
       "        ...,\n",
       "\n",
       "        [[0.0006],\n",
       "         [0.0006],\n",
       "         [0.0006],\n",
       "         ...,\n",
       "         [0.0006],\n",
       "         [0.0009],\n",
       "         [0.0012]],\n",
       "\n",
       "        [[0.0007],\n",
       "         [0.0049],\n",
       "         [0.0034],\n",
       "         ...,\n",
       "         [0.0007],\n",
       "         [0.0010],\n",
       "         [0.0007]],\n",
       "\n",
       "        [[0.0006],\n",
       "         [0.0044],\n",
       "         [0.0031],\n",
       "         ...,\n",
       "         [0.0016],\n",
       "         [0.0006],\n",
       "         [0.0012]]])"
      ]
     },
     "execution_count": 88,
     "metadata": {},
     "output_type": "execute_result"
    }
   ],
   "source": [
    "importance_coeficients_n.reshape(478, 509, 1)"
   ]
  },
  {
   "cell_type": "code",
   "execution_count": 95,
   "id": "ae6a87d7",
   "metadata": {},
   "outputs": [
    {
     "data": {
      "text/plain": [
       "tensor([[[0.0000, 0.0000],\n",
       "         [0.0000, 0.0000],\n",
       "         [0.0000, 0.0000],\n",
       "         ...,\n",
       "         [0.0000, 0.0000],\n",
       "         [0.0941, 0.1384],\n",
       "         [0.0000, 0.0000]],\n",
       "\n",
       "        [[0.1793, 0.1701],\n",
       "         [0.9985, 0.3637],\n",
       "         [0.0000, 0.0000],\n",
       "         ...,\n",
       "         [0.3214, 0.3045],\n",
       "         [0.0000, 0.0000],\n",
       "         [0.0870, 0.3709]],\n",
       "\n",
       "        [[0.1793, 0.1701],\n",
       "         [0.9985, 0.3637],\n",
       "         [0.0000, 0.0000],\n",
       "         ...,\n",
       "         [0.0000, 0.0000],\n",
       "         [0.0000, 0.0000],\n",
       "         [0.0000, 0.0000]],\n",
       "\n",
       "        ...,\n",
       "\n",
       "        [[0.0000, 0.0000],\n",
       "         [0.0000, 0.0000],\n",
       "         [0.0000, 0.0000],\n",
       "         ...,\n",
       "         [0.0000, 0.0000],\n",
       "         [0.0941, 0.1384],\n",
       "         [0.0870, 0.3709]],\n",
       "\n",
       "        [[0.0000, 0.0000],\n",
       "         [0.9985, 0.3637],\n",
       "         [0.3280, 0.7719],\n",
       "         ...,\n",
       "         [0.0000, 0.0000],\n",
       "         [0.0941, 0.1384],\n",
       "         [0.0000, 0.0000]],\n",
       "\n",
       "        [[0.0000, 0.0000],\n",
       "         [0.9985, 0.3637],\n",
       "         [0.3280, 0.7719],\n",
       "         ...,\n",
       "         [0.3214, 0.3045],\n",
       "         [0.0000, 0.0000],\n",
       "         [0.0870, 0.3709]]])"
      ]
     },
     "execution_count": 95,
     "metadata": {},
     "output_type": "execute_result"
    }
   ],
   "source": [
    "torch.matmul(diagonal_n, node_features)"
   ]
  },
  {
   "cell_type": "code",
   "execution_count": 97,
   "id": "7555d679",
   "metadata": {},
   "outputs": [
    {
     "data": {
      "text/plain": [
       "torch.Size([478, 509, 2])"
      ]
     },
     "execution_count": 97,
     "metadata": {},
     "output_type": "execute_result"
    }
   ],
   "source": [
    "(importance_coeficients_n.reshape(NUM_EDGES, NUM_NODES, 1)* torch.matmul(diagonal_n, node_features)).shape"
   ]
  },
  {
   "cell_type": "code",
   "execution_count": 102,
   "id": "02ca841f",
   "metadata": {},
   "outputs": [],
   "source": [
    "means_n = torch.mean(importance_coeficients_n.reshape(NUM_EDGES, NUM_NODES, 1)* torch.matmul(diagonal_n, node_features), 1)"
   ]
  },
  {
   "cell_type": "code",
   "execution_count": 104,
   "id": "fe57d904",
   "metadata": {},
   "outputs": [],
   "source": [
    "output_nodes = node_activation(\n",
    "    torch.matmul(\n",
    "        means_n,\n",
    "        weight_node\n",
    "    )\n",
    ")"
   ]
  },
  {
   "cell_type": "code",
   "execution_count": 105,
   "id": "c0517ae1",
   "metadata": {},
   "outputs": [
    {
     "data": {
      "text/plain": [
       "torch.Size([478, 4])"
      ]
     },
     "execution_count": 105,
     "metadata": {},
     "output_type": "execute_result"
    }
   ],
   "source": [
    "output_nodes.shape"
   ]
  },
  {
   "cell_type": "code",
   "execution_count": 106,
   "id": "cce9648d",
   "metadata": {},
   "outputs": [
    {
     "data": {
      "text/plain": [
       "tensor([[0.0013, 0.0008, 0.0010, 0.0012],\n",
       "        [0.0013, 0.0008, 0.0010, 0.0012],\n",
       "        [0.0013, 0.0008, 0.0010, 0.0012],\n",
       "        ...,\n",
       "        [0.0013, 0.0008, 0.0010, 0.0012],\n",
       "        [0.0012, 0.0008, 0.0009, 0.0011],\n",
       "        [0.0012, 0.0008, 0.0010, 0.0012]])"
      ]
     },
     "execution_count": 106,
     "metadata": {},
     "output_type": "execute_result"
    }
   ],
   "source": [
    "output_nodes"
   ]
  },
  {
   "cell_type": "markdown",
   "id": "9a467069",
   "metadata": {},
   "source": [
    "## Calculado para as arestas vizinhas"
   ]
  },
  {
   "cell_type": "code",
   "execution_count": 107,
   "id": "66cba74d",
   "metadata": {},
   "outputs": [],
   "source": [
    "concat_result_e = torch.cat(\n",
    "    (\n",
    "        edge_embeds.repeat_interleave(NUM_EDGES, dim=0).reshape([\n",
    "            NUM_EDGES,\n",
    "            NUM_EDGES,\n",
    "            EDGE_EMBED_SIZE\n",
    "        ]),\n",
    "        features_neighbors_e\n",
    "    ),\n",
    "    2\n",
    ")"
   ]
  },
  {
   "cell_type": "code",
   "execution_count": 109,
   "id": "b1cebb5e",
   "metadata": {},
   "outputs": [
    {
     "data": {
      "text/plain": [
       "torch.Size([478, 478, 12])"
      ]
     },
     "execution_count": 109,
     "metadata": {},
     "output_type": "execute_result"
    }
   ],
   "source": [
    "concat_result_e.shape"
   ]
  },
  {
   "cell_type": "code",
   "execution_count": 110,
   "id": "68ec65df",
   "metadata": {},
   "outputs": [],
   "source": [
    "attention_output_e = edge_activation(torch.matmul(concat_result_e, parameter_vector_edge))"
   ]
  },
  {
   "cell_type": "code",
   "execution_count": 111,
   "id": "b5abd455",
   "metadata": {},
   "outputs": [],
   "source": [
    "importance_coeficients_e = importance_normalization(attention_output_e)"
   ]
  },
  {
   "cell_type": "code",
   "execution_count": 113,
   "id": "f049c936",
   "metadata": {},
   "outputs": [],
   "source": [
    "means_e = torch.mean(importance_coeficients_e.reshape(NUM_EDGES, NUM_EDGES, 1)* torch.matmul(diagonal_e, edge_features), 1)"
   ]
  },
  {
   "cell_type": "code",
   "execution_count": 114,
   "id": "6f7b27cf",
   "metadata": {},
   "outputs": [
    {
     "data": {
      "text/plain": [
       "torch.Size([478, 3])"
      ]
     },
     "execution_count": 114,
     "metadata": {},
     "output_type": "execute_result"
    }
   ],
   "source": [
    "means_e.shape"
   ]
  },
  {
   "cell_type": "code",
   "execution_count": 115,
   "id": "07b4af23",
   "metadata": {},
   "outputs": [],
   "source": [
    "output_edges = edge_activation(\n",
    "    torch.matmul(\n",
    "        means_e,\n",
    "        weight_edge\n",
    "    )\n",
    ")"
   ]
  },
  {
   "cell_type": "code",
   "execution_count": 119,
   "id": "1835a888",
   "metadata": {},
   "outputs": [
    {
     "data": {
      "text/plain": [
       "torch.Size([478, 6])"
      ]
     },
     "execution_count": 119,
     "metadata": {},
     "output_type": "execute_result"
    }
   ],
   "source": [
    "output_edges.shape"
   ]
  },
  {
   "cell_type": "code",
   "execution_count": 118,
   "id": "d7007d0b",
   "metadata": {},
   "outputs": [
    {
     "data": {
      "text/plain": [
       "torch.Size([478, 10])"
      ]
     },
     "execution_count": 118,
     "metadata": {},
     "output_type": "execute_result"
    }
   ],
   "source": [
    "torch.cat((output_nodes, output_edges), dim=1).shape"
   ]
  }
 ],
 "metadata": {
  "kernelspec": {
   "display_name": "Python 3 (ipykernel)",
   "language": "python",
   "name": "python3"
  },
  "language_info": {
   "codemirror_mode": {
    "name": "ipython",
    "version": 3
   },
   "file_extension": ".py",
   "mimetype": "text/x-python",
   "name": "python",
   "nbconvert_exporter": "python",
   "pygments_lexer": "ipython3",
   "version": "3.9.10"
  }
 },
 "nbformat": 4,
 "nbformat_minor": 5
}

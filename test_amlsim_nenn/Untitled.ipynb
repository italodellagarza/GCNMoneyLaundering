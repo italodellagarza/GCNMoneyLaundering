{
 "cells": [
  {
   "cell_type": "code",
   "execution_count": 1,
   "id": "bafb4ee9",
   "metadata": {},
   "outputs": [],
   "source": [
    "import numpy as np\n",
    "import torch"
   ]
  },
  {
   "cell_type": "markdown",
   "id": "25102699",
   "metadata": {},
   "source": [
    "### Definições de pesos e features"
   ]
  },
  {
   "cell_type": "code",
   "execution_count": 104,
   "id": "11af5577",
   "metadata": {},
   "outputs": [],
   "source": [
    "node_feature = np.array([[0.5, 0.9, 0.6],[0.9, 0.2, 0.7],[0.3, 0.2, 0.5],[0.2, 0.2, 0.1]])"
   ]
  },
  {
   "cell_type": "code",
   "execution_count": 105,
   "id": "764c8937",
   "metadata": {
    "scrolled": true
   },
   "outputs": [
    {
     "data": {
      "text/plain": [
       "array([[0.5, 0.9, 0.6],\n",
       "       [0.9, 0.2, 0.7],\n",
       "       [0.3, 0.2, 0.5],\n",
       "       [0.2, 0.2, 0.1]])"
      ]
     },
     "execution_count": 105,
     "metadata": {},
     "output_type": "execute_result"
    }
   ],
   "source": [
    "node_feature"
   ]
  },
  {
   "cell_type": "code",
   "execution_count": 106,
   "id": "2f38f487",
   "metadata": {},
   "outputs": [],
   "source": [
    "edge_feature = np.array([[0.7, 0.2],[0.3, 0.1],[0.4, 0.7]])"
   ]
  },
  {
   "cell_type": "code",
   "execution_count": 107,
   "id": "0207576c",
   "metadata": {},
   "outputs": [
    {
     "data": {
      "text/plain": [
       "array([[0.7, 0.2],\n",
       "       [0.3, 0.1],\n",
       "       [0.4, 0.7]])"
      ]
     },
     "execution_count": 107,
     "metadata": {},
     "output_type": "execute_result"
    }
   ],
   "source": [
    "edge_feature"
   ]
  },
  {
   "cell_type": "code",
   "execution_count": 108,
   "id": "9ac4886b",
   "metadata": {},
   "outputs": [],
   "source": [
    "weight_node = np.array([[0.2, -0.1, 0.3, 0.5, 0.1], [0.5, 0.4, -0.7, 0.3, -0.8], [0.2, 0.1, -0.2, -0.4, 0.3]])"
   ]
  },
  {
   "cell_type": "code",
   "execution_count": 109,
   "id": "8300bc22",
   "metadata": {},
   "outputs": [
    {
     "data": {
      "text/plain": [
       "array([[ 0.2, -0.1,  0.3,  0.5,  0.1],\n",
       "       [ 0.5,  0.4, -0.7,  0.3, -0.8],\n",
       "       [ 0.2,  0.1, -0.2, -0.4,  0.3]])"
      ]
     },
     "execution_count": 109,
     "metadata": {},
     "output_type": "execute_result"
    }
   ],
   "source": [
    "weight_node"
   ]
  },
  {
   "cell_type": "code",
   "execution_count": 110,
   "id": "de3a2e5d",
   "metadata": {},
   "outputs": [
    {
     "data": {
      "text/plain": [
       "(3, 5)"
      ]
     },
     "execution_count": 110,
     "metadata": {},
     "output_type": "execute_result"
    }
   ],
   "source": [
    "weight_node.shape"
   ]
  },
  {
   "cell_type": "code",
   "execution_count": 111,
   "id": "696a9a01",
   "metadata": {},
   "outputs": [],
   "source": [
    "weight_edge = np.array([[0.1, -0.3, 0.5, 0.2], [-0.4, 0.1, 0.9, 0.4]])"
   ]
  },
  {
   "cell_type": "code",
   "execution_count": 112,
   "id": "a7a6131e",
   "metadata": {},
   "outputs": [
    {
     "data": {
      "text/plain": [
       "array([[ 0.1, -0.3,  0.5,  0.2],\n",
       "       [-0.4,  0.1,  0.9,  0.4]])"
      ]
     },
     "execution_count": 112,
     "metadata": {},
     "output_type": "execute_result"
    }
   ],
   "source": [
    "weight_edge"
   ]
  },
  {
   "cell_type": "code",
   "execution_count": 113,
   "id": "cee8c3f1",
   "metadata": {},
   "outputs": [],
   "source": [
    "parameter_vector_node = np.array([0.8, 0.2, -0.3, -0.4, 0.5, -0.1, 0.2, 0.4, -1.0, -0.4])\n",
    "parameter_vector_edge = np.array([0.3, -0.5, 0.9, -0.7, 0.3, 0.6, 0.2, -0.3, 0.2])"
   ]
  },
  {
   "cell_type": "code",
   "execution_count": 114,
   "id": "880a3d9e",
   "metadata": {},
   "outputs": [
    {
     "data": {
      "text/plain": [
       "array([ 0.8,  0.2, -0.3, -0.4,  0.5, -0.1,  0.2,  0.4, -1. , -0.4])"
      ]
     },
     "execution_count": 114,
     "metadata": {},
     "output_type": "execute_result"
    }
   ],
   "source": [
    "parameter_vector_node"
   ]
  },
  {
   "cell_type": "code",
   "execution_count": 115,
   "id": "e2ab8f33",
   "metadata": {},
   "outputs": [
    {
     "data": {
      "text/plain": [
       "array([ 0.3, -0.5,  0.9, -0.7,  0.3,  0.6,  0.2, -0.3,  0.2])"
      ]
     },
     "execution_count": 115,
     "metadata": {},
     "output_type": "execute_result"
    }
   ],
   "source": [
    "parameter_vector_edge"
   ]
  },
  {
   "cell_type": "code",
   "execution_count": 116,
   "id": "9d55b091",
   "metadata": {},
   "outputs": [],
   "source": [
    "node_to_node_adj_matrix = np.array([[1.0, 0.0, 0.0, 0.0],[1.0, 1.0, 0.0, 1.0],[0.0, 1.0, 1.0, 0.0],[0.0, 0.0, 0.0, 1.0]])"
   ]
  },
  {
   "cell_type": "code",
   "execution_count": 117,
   "id": "2c4de701",
   "metadata": {},
   "outputs": [
    {
     "data": {
      "text/plain": [
       "array([[1., 0., 0., 0.],\n",
       "       [1., 1., 0., 1.],\n",
       "       [0., 1., 1., 0.],\n",
       "       [0., 0., 0., 1.]])"
      ]
     },
     "execution_count": 117,
     "metadata": {},
     "output_type": "execute_result"
    }
   ],
   "source": [
    "node_to_node_adj_matrix"
   ]
  },
  {
   "cell_type": "code",
   "execution_count": 118,
   "id": "2001620b",
   "metadata": {},
   "outputs": [],
   "source": [
    "node_to_edge_adj_matrix = np.array([[1.0, 1.0, 0.0, 0.0],[0.0, 1.0, 1.0, 0.0],[0.0, 1.0, 0.0, 1.0]])"
   ]
  },
  {
   "cell_type": "code",
   "execution_count": 119,
   "id": "731dd93e",
   "metadata": {},
   "outputs": [
    {
     "data": {
      "text/plain": [
       "array([[1., 1., 0., 0.],\n",
       "       [0., 1., 1., 0.],\n",
       "       [0., 1., 0., 1.]])"
      ]
     },
     "execution_count": 119,
     "metadata": {},
     "output_type": "execute_result"
    }
   ],
   "source": [
    "node_to_edge_adj_matrix"
   ]
  },
  {
   "cell_type": "code",
   "execution_count": 120,
   "id": "daebc05c",
   "metadata": {},
   "outputs": [],
   "source": [
    "edge_to_node_adj_matrix = np.array([[0.0, 0.0, 0.0],[1.0, 0.0, 1.0],[0.0, 1.0, 0.0], [0.0, 0.0, 0.0]])"
   ]
  },
  {
   "cell_type": "code",
   "execution_count": 121,
   "id": "205ee10a",
   "metadata": {},
   "outputs": [
    {
     "data": {
      "text/plain": [
       "array([[0., 0., 0.],\n",
       "       [1., 0., 1.],\n",
       "       [0., 1., 0.],\n",
       "       [0., 0., 0.]])"
      ]
     },
     "execution_count": 121,
     "metadata": {},
     "output_type": "execute_result"
    }
   ],
   "source": [
    "edge_to_node_adj_matrix"
   ]
  },
  {
   "cell_type": "code",
   "execution_count": 122,
   "id": "a562fd5c",
   "metadata": {},
   "outputs": [],
   "source": [
    "edge_to_edge_adj_matrix = np.array([[1.0, 0.0, 0.0], [1.0, 1.0, 1.0], [0.0, 0.0, 1.0]])"
   ]
  },
  {
   "cell_type": "code",
   "execution_count": 123,
   "id": "50d4db00",
   "metadata": {},
   "outputs": [
    {
     "data": {
      "text/plain": [
       "array([[1., 0., 0.],\n",
       "       [1., 1., 1.],\n",
       "       [0., 0., 1.]])"
      ]
     },
     "execution_count": 123,
     "metadata": {},
     "output_type": "execute_result"
    }
   ],
   "source": [
    "edge_to_edge_adj_matrix"
   ]
  },
  {
   "cell_type": "markdown",
   "id": "371c8099",
   "metadata": {},
   "source": [
    "# Node-Level Attention Layer (node step)"
   ]
  },
  {
   "cell_type": "markdown",
   "id": "63e1d0f0",
   "metadata": {},
   "source": [
    "## Etapa 1 - Geração de embeddings"
   ]
  },
  {
   "cell_type": "code",
   "execution_count": 124,
   "id": "202fe112",
   "metadata": {},
   "outputs": [],
   "source": [
    "node_embeds = torch.matmul(torch.FloatTensor(node_feature), torch.FloatTensor(weight_node))"
   ]
  },
  {
   "cell_type": "code",
   "execution_count": 125,
   "id": "5f57091d",
   "metadata": {},
   "outputs": [
    {
     "data": {
      "text/plain": [
       "tensor([[ 0.6700,  0.3700, -0.6000,  0.2800, -0.4900],\n",
       "        [ 0.4200,  0.0600, -0.0100,  0.2300,  0.1400],\n",
       "        [ 0.2600,  0.1000, -0.1500,  0.0100,  0.0200],\n",
       "        [ 0.1600,  0.0700, -0.1000,  0.1200, -0.1100]])"
      ]
     },
     "execution_count": 125,
     "metadata": {},
     "output_type": "execute_result"
    }
   ],
   "source": [
    "node_embeds"
   ]
  },
  {
   "cell_type": "code",
   "execution_count": 126,
   "id": "4bd27c8a",
   "metadata": {},
   "outputs": [],
   "source": [
    "edge_embeds = torch.matmul(torch.FloatTensor(edge_feature), torch.FloatTensor(weight_edge))"
   ]
  },
  {
   "cell_type": "code",
   "execution_count": 127,
   "id": "2b141cfd",
   "metadata": {},
   "outputs": [
    {
     "data": {
      "text/plain": [
       "tensor([[-0.0100, -0.1900,  0.5300,  0.2200],\n",
       "        [-0.0100, -0.0800,  0.2400,  0.1000],\n",
       "        [-0.2400, -0.0500,  0.8300,  0.3600]])"
      ]
     },
     "execution_count": 127,
     "metadata": {},
     "output_type": "execute_result"
    }
   ],
   "source": [
    "edge_embeds"
   ]
  },
  {
   "cell_type": "markdown",
   "id": "0d793821",
   "metadata": {},
   "source": [
    "## Etapa 3 - Fazer o concat"
   ]
  },
  {
   "cell_type": "code",
   "execution_count": 128,
   "id": "0f81f2e4",
   "metadata": {},
   "outputs": [],
   "source": [
    "w1 = node_embeds.tile([1, node_embeds.shape[0]]).reshape([node_embeds.shape[0], node_embeds.shape[0], node_embeds.shape[1]])"
   ]
  },
  {
   "cell_type": "code",
   "execution_count": 129,
   "id": "9989aa0d",
   "metadata": {},
   "outputs": [
    {
     "data": {
      "text/plain": [
       "tensor([[[ 0.6700,  0.3700, -0.6000,  0.2800, -0.4900],\n",
       "         [ 0.6700,  0.3700, -0.6000,  0.2800, -0.4900],\n",
       "         [ 0.6700,  0.3700, -0.6000,  0.2800, -0.4900],\n",
       "         [ 0.6700,  0.3700, -0.6000,  0.2800, -0.4900]],\n",
       "\n",
       "        [[ 0.4200,  0.0600, -0.0100,  0.2300,  0.1400],\n",
       "         [ 0.4200,  0.0600, -0.0100,  0.2300,  0.1400],\n",
       "         [ 0.4200,  0.0600, -0.0100,  0.2300,  0.1400],\n",
       "         [ 0.4200,  0.0600, -0.0100,  0.2300,  0.1400]],\n",
       "\n",
       "        [[ 0.2600,  0.1000, -0.1500,  0.0100,  0.0200],\n",
       "         [ 0.2600,  0.1000, -0.1500,  0.0100,  0.0200],\n",
       "         [ 0.2600,  0.1000, -0.1500,  0.0100,  0.0200],\n",
       "         [ 0.2600,  0.1000, -0.1500,  0.0100,  0.0200]],\n",
       "\n",
       "        [[ 0.1600,  0.0700, -0.1000,  0.1200, -0.1100],\n",
       "         [ 0.1600,  0.0700, -0.1000,  0.1200, -0.1100],\n",
       "         [ 0.1600,  0.0700, -0.1000,  0.1200, -0.1100],\n",
       "         [ 0.1600,  0.0700, -0.1000,  0.1200, -0.1100]]])"
      ]
     },
     "execution_count": 129,
     "metadata": {},
     "output_type": "execute_result"
    }
   ],
   "source": [
    "w1"
   ]
  },
  {
   "cell_type": "code",
   "execution_count": 130,
   "id": "1b401d51",
   "metadata": {},
   "outputs": [],
   "source": [
    "w2 = node_embeds.tile([node_embeds.shape[0], 1]).reshape([node_embeds.shape[0], node_embeds.shape[0], node_embeds.shape[1]])"
   ]
  },
  {
   "cell_type": "code",
   "execution_count": 131,
   "id": "6e3ef95a",
   "metadata": {},
   "outputs": [
    {
     "data": {
      "text/plain": [
       "tensor([[[ 0.6700,  0.3700, -0.6000,  0.2800, -0.4900],\n",
       "         [ 0.4200,  0.0600, -0.0100,  0.2300,  0.1400],\n",
       "         [ 0.2600,  0.1000, -0.1500,  0.0100,  0.0200],\n",
       "         [ 0.1600,  0.0700, -0.1000,  0.1200, -0.1100]],\n",
       "\n",
       "        [[ 0.6700,  0.3700, -0.6000,  0.2800, -0.4900],\n",
       "         [ 0.4200,  0.0600, -0.0100,  0.2300,  0.1400],\n",
       "         [ 0.2600,  0.1000, -0.1500,  0.0100,  0.0200],\n",
       "         [ 0.1600,  0.0700, -0.1000,  0.1200, -0.1100]],\n",
       "\n",
       "        [[ 0.6700,  0.3700, -0.6000,  0.2800, -0.4900],\n",
       "         [ 0.4200,  0.0600, -0.0100,  0.2300,  0.1400],\n",
       "         [ 0.2600,  0.1000, -0.1500,  0.0100,  0.0200],\n",
       "         [ 0.1600,  0.0700, -0.1000,  0.1200, -0.1100]],\n",
       "\n",
       "        [[ 0.6700,  0.3700, -0.6000,  0.2800, -0.4900],\n",
       "         [ 0.4200,  0.0600, -0.0100,  0.2300,  0.1400],\n",
       "         [ 0.2600,  0.1000, -0.1500,  0.0100,  0.0200],\n",
       "         [ 0.1600,  0.0700, -0.1000,  0.1200, -0.1100]]])"
      ]
     },
     "execution_count": 131,
     "metadata": {},
     "output_type": "execute_result"
    }
   ],
   "source": [
    "w2"
   ]
  },
  {
   "cell_type": "code",
   "execution_count": 132,
   "id": "721db0c7",
   "metadata": {},
   "outputs": [],
   "source": [
    "concat_result_n = torch.cat((w1, w2), dim=2)"
   ]
  },
  {
   "cell_type": "code",
   "execution_count": 133,
   "id": "9d280e46",
   "metadata": {},
   "outputs": [
    {
     "data": {
      "text/plain": [
       "tensor([[[ 0.6700,  0.3700, -0.6000,  0.2800, -0.4900,  0.6700,  0.3700,\n",
       "          -0.6000,  0.2800, -0.4900],\n",
       "         [ 0.6700,  0.3700, -0.6000,  0.2800, -0.4900,  0.4200,  0.0600,\n",
       "          -0.0100,  0.2300,  0.1400],\n",
       "         [ 0.6700,  0.3700, -0.6000,  0.2800, -0.4900,  0.2600,  0.1000,\n",
       "          -0.1500,  0.0100,  0.0200],\n",
       "         [ 0.6700,  0.3700, -0.6000,  0.2800, -0.4900,  0.1600,  0.0700,\n",
       "          -0.1000,  0.1200, -0.1100]],\n",
       "\n",
       "        [[ 0.4200,  0.0600, -0.0100,  0.2300,  0.1400,  0.6700,  0.3700,\n",
       "          -0.6000,  0.2800, -0.4900],\n",
       "         [ 0.4200,  0.0600, -0.0100,  0.2300,  0.1400,  0.4200,  0.0600,\n",
       "          -0.0100,  0.2300,  0.1400],\n",
       "         [ 0.4200,  0.0600, -0.0100,  0.2300,  0.1400,  0.2600,  0.1000,\n",
       "          -0.1500,  0.0100,  0.0200],\n",
       "         [ 0.4200,  0.0600, -0.0100,  0.2300,  0.1400,  0.1600,  0.0700,\n",
       "          -0.1000,  0.1200, -0.1100]],\n",
       "\n",
       "        [[ 0.2600,  0.1000, -0.1500,  0.0100,  0.0200,  0.6700,  0.3700,\n",
       "          -0.6000,  0.2800, -0.4900],\n",
       "         [ 0.2600,  0.1000, -0.1500,  0.0100,  0.0200,  0.4200,  0.0600,\n",
       "          -0.0100,  0.2300,  0.1400],\n",
       "         [ 0.2600,  0.1000, -0.1500,  0.0100,  0.0200,  0.2600,  0.1000,\n",
       "          -0.1500,  0.0100,  0.0200],\n",
       "         [ 0.2600,  0.1000, -0.1500,  0.0100,  0.0200,  0.1600,  0.0700,\n",
       "          -0.1000,  0.1200, -0.1100]],\n",
       "\n",
       "        [[ 0.1600,  0.0700, -0.1000,  0.1200, -0.1100,  0.6700,  0.3700,\n",
       "          -0.6000,  0.2800, -0.4900],\n",
       "         [ 0.1600,  0.0700, -0.1000,  0.1200, -0.1100,  0.4200,  0.0600,\n",
       "          -0.0100,  0.2300,  0.1400],\n",
       "         [ 0.1600,  0.0700, -0.1000,  0.1200, -0.1100,  0.2600,  0.1000,\n",
       "          -0.1500,  0.0100,  0.0200],\n",
       "         [ 0.1600,  0.0700, -0.1000,  0.1200, -0.1100,  0.1600,  0.0700,\n",
       "          -0.1000,  0.1200, -0.1100]]])"
      ]
     },
     "execution_count": 133,
     "metadata": {},
     "output_type": "execute_result"
    }
   ],
   "source": [
    "concat_result_n"
   ]
  },
  {
   "cell_type": "markdown",
   "id": "5ee01372",
   "metadata": {},
   "source": [
    "### Multiplicar resultado da concatenação pelo vetor de parâmetros"
   ]
  },
  {
   "cell_type": "code",
   "execution_count": 136,
   "id": "94a4b627",
   "metadata": {},
   "outputs": [],
   "source": [
    "parameter_vector_node = torch.FloatTensor(parameter_vector_node)"
   ]
  },
  {
   "cell_type": "code",
   "execution_count": 137,
   "id": "eeb4acce",
   "metadata": {},
   "outputs": [],
   "source": [
    "attention_output_n = torch.matmul(concat_result_n, parameter_vector_node)"
   ]
  },
  {
   "cell_type": "code",
   "execution_count": 138,
   "id": "62ddde2f",
   "metadata": {},
   "outputs": [
    {
     "data": {
      "text/plain": [
       "tensor([[ 0.1160,  0.1130,  0.3490,  0.3150],\n",
       "        [ 0.0120,  0.0090,  0.2450,  0.2110],\n",
       "        [-0.0380, -0.0410,  0.1950,  0.1610],\n",
       "        [-0.2480, -0.2510, -0.0150, -0.0490]])"
      ]
     },
     "execution_count": 138,
     "metadata": {},
     "output_type": "execute_result"
    }
   ],
   "source": [
    "attention_output_n"
   ]
  },
  {
   "cell_type": "markdown",
   "id": "95243dcc",
   "metadata": {},
   "source": [
    "### LeakyReLU"
   ]
  },
  {
   "cell_type": "code",
   "execution_count": 141,
   "id": "4949c270",
   "metadata": {},
   "outputs": [],
   "source": [
    "edge_activation = torch.nn.LeakyReLU()"
   ]
  },
  {
   "cell_type": "code",
   "execution_count": 142,
   "id": "4ea7341b",
   "metadata": {},
   "outputs": [],
   "source": [
    "attention_output_n = edge_activation(attention_output_n)"
   ]
  },
  {
   "cell_type": "code",
   "execution_count": 143,
   "id": "93b7cd32",
   "metadata": {},
   "outputs": [
    {
     "data": {
      "text/plain": [
       "tensor([[ 1.1600e-01,  1.1300e-01,  3.4900e-01,  3.1500e-01],\n",
       "        [ 1.2000e-02,  9.0000e-03,  2.4500e-01,  2.1100e-01],\n",
       "        [-3.8000e-04, -4.1000e-04,  1.9500e-01,  1.6100e-01],\n",
       "        [-2.4800e-03, -2.5100e-03, -1.5000e-04, -4.9000e-04]])"
      ]
     },
     "execution_count": 143,
     "metadata": {},
     "output_type": "execute_result"
    }
   ],
   "source": [
    "attention_output_n"
   ]
  },
  {
   "cell_type": "markdown",
   "id": "be555102",
   "metadata": {},
   "source": [
    "### Softmax"
   ]
  },
  {
   "cell_type": "code",
   "execution_count": 144,
   "id": "a14c2524",
   "metadata": {},
   "outputs": [],
   "source": [
    "importance_coeficients = (torch.exp(attention_output_n)/(torch.exp(attention_output_n)*node_to_node_adj_matrix).sum(axis=1)[:, None])*node_to_node_adj_matrix"
   ]
  },
  {
   "cell_type": "code",
   "execution_count": 145,
   "id": "516e8419",
   "metadata": {},
   "outputs": [
    {
     "data": {
      "text/plain": [
       "tensor([[1.0000, 0.0000, 0.0000, 0.0000],\n",
       "        [0.3108, 0.3099, 0.0000, 0.3793],\n",
       "        [0.0000, 0.4513, 0.5487, 0.0000],\n",
       "        [0.0000, 0.0000, 0.0000, 1.0000]], dtype=torch.float64)"
      ]
     },
     "execution_count": 145,
     "metadata": {},
     "output_type": "execute_result"
    }
   ],
   "source": [
    "importance_coeficients"
   ]
  },
  {
   "cell_type": "markdown",
   "id": "2a8fe154",
   "metadata": {},
   "source": [
    "### Fazer a conta de acordo com a importância"
   ]
  },
  {
   "cell_type": "code",
   "execution_count": 147,
   "id": "94a83293",
   "metadata": {},
   "outputs": [],
   "source": [
    "denominator = node_to_node_adj_matrix.sum(axis=1)"
   ]
  },
  {
   "cell_type": "code",
   "execution_count": 148,
   "id": "178ed816",
   "metadata": {},
   "outputs": [
    {
     "data": {
      "text/plain": [
       "array([1., 3., 2., 1.])"
      ]
     },
     "execution_count": 148,
     "metadata": {},
     "output_type": "execute_result"
    }
   ],
   "source": [
    "denominator"
   ]
  },
  {
   "cell_type": "code",
   "execution_count": 149,
   "id": "4a00c358",
   "metadata": {},
   "outputs": [],
   "source": [
    "embed_propagated = node_embeds.tile([node_embeds.shape[0], 1]).reshape([node_embeds.shape[0], node_embeds.shape[0], node_embeds.shape[1]])"
   ]
  },
  {
   "cell_type": "code",
   "execution_count": 151,
   "id": "cce1b26c",
   "metadata": {},
   "outputs": [
    {
     "data": {
      "text/plain": [
       "tensor([[[ 0.6700,  0.3700, -0.6000,  0.2800, -0.4900],\n",
       "         [ 0.4200,  0.0600, -0.0100,  0.2300,  0.1400],\n",
       "         [ 0.2600,  0.1000, -0.1500,  0.0100,  0.0200],\n",
       "         [ 0.1600,  0.0700, -0.1000,  0.1200, -0.1100]],\n",
       "\n",
       "        [[ 0.6700,  0.3700, -0.6000,  0.2800, -0.4900],\n",
       "         [ 0.4200,  0.0600, -0.0100,  0.2300,  0.1400],\n",
       "         [ 0.2600,  0.1000, -0.1500,  0.0100,  0.0200],\n",
       "         [ 0.1600,  0.0700, -0.1000,  0.1200, -0.1100]],\n",
       "\n",
       "        [[ 0.6700,  0.3700, -0.6000,  0.2800, -0.4900],\n",
       "         [ 0.4200,  0.0600, -0.0100,  0.2300,  0.1400],\n",
       "         [ 0.2600,  0.1000, -0.1500,  0.0100,  0.0200],\n",
       "         [ 0.1600,  0.0700, -0.1000,  0.1200, -0.1100]],\n",
       "\n",
       "        [[ 0.6700,  0.3700, -0.6000,  0.2800, -0.4900],\n",
       "         [ 0.4200,  0.0600, -0.0100,  0.2300,  0.1400],\n",
       "         [ 0.2600,  0.1000, -0.1500,  0.0100,  0.0200],\n",
       "         [ 0.1600,  0.0700, -0.1000,  0.1200, -0.1100]]])"
      ]
     },
     "execution_count": 151,
     "metadata": {},
     "output_type": "execute_result"
    }
   ],
   "source": [
    "embed_propagated"
   ]
  },
  {
   "cell_type": "code",
   "execution_count": 152,
   "id": "162881f4",
   "metadata": {},
   "outputs": [],
   "source": [
    "suma = importance_coeficients.reshape([importance_coeficients.shape[1], importance_coeficients.shape[0], 1]) * embed_propagated"
   ]
  },
  {
   "cell_type": "code",
   "execution_count": 153,
   "id": "da0c39b2",
   "metadata": {},
   "outputs": [
    {
     "data": {
      "text/plain": [
       "tensor([[[ 0.6700,  0.3700, -0.6000,  0.2800, -0.4900],\n",
       "         [ 0.0000,  0.0000, -0.0000,  0.0000,  0.0000],\n",
       "         [ 0.0000,  0.0000, -0.0000,  0.0000,  0.0000],\n",
       "         [ 0.0000,  0.0000, -0.0000,  0.0000, -0.0000]],\n",
       "\n",
       "        [[ 0.2083,  0.1150, -0.1865,  0.0870, -0.1523],\n",
       "         [ 0.1302,  0.0186, -0.0031,  0.0713,  0.0434],\n",
       "         [ 0.0000,  0.0000, -0.0000,  0.0000,  0.0000],\n",
       "         [ 0.0607,  0.0265, -0.0379,  0.0455, -0.0417]],\n",
       "\n",
       "        [[ 0.0000,  0.0000, -0.0000,  0.0000, -0.0000],\n",
       "         [ 0.1895,  0.0271, -0.0045,  0.1038,  0.0632],\n",
       "         [ 0.1427,  0.0549, -0.0823,  0.0055,  0.0110],\n",
       "         [ 0.0000,  0.0000, -0.0000,  0.0000, -0.0000]],\n",
       "\n",
       "        [[ 0.0000,  0.0000, -0.0000,  0.0000, -0.0000],\n",
       "         [ 0.0000,  0.0000, -0.0000,  0.0000,  0.0000],\n",
       "         [ 0.0000,  0.0000, -0.0000,  0.0000,  0.0000],\n",
       "         [ 0.1600,  0.0700, -0.1000,  0.1200, -0.1100]]], dtype=torch.float64)"
      ]
     },
     "execution_count": 153,
     "metadata": {},
     "output_type": "execute_result"
    }
   ],
   "source": [
    "suma"
   ]
  },
  {
   "cell_type": "code",
   "execution_count": 154,
   "id": "4cd86b9e",
   "metadata": {},
   "outputs": [],
   "source": [
    "final_embeds_n = suma.sum(axis=1)/denominator[:, None]"
   ]
  },
  {
   "cell_type": "code",
   "execution_count": 155,
   "id": "fe4ef127",
   "metadata": {},
   "outputs": [
    {
     "data": {
      "text/plain": [
       "tensor([[ 0.6700,  0.3700, -0.6000,  0.2800, -0.4900],\n",
       "        [ 0.1330,  0.0534, -0.0758,  0.0679, -0.0502],\n",
       "        [ 0.1661,  0.0410, -0.0434,  0.0546,  0.0371],\n",
       "        [ 0.1600,  0.0700, -0.1000,  0.1200, -0.1100]], dtype=torch.float64)"
      ]
     },
     "execution_count": 155,
     "metadata": {},
     "output_type": "execute_result"
    }
   ],
   "source": [
    "final_embeds_n"
   ]
  },
  {
   "cell_type": "code",
   "execution_count": 156,
   "id": "4e554a9f",
   "metadata": {},
   "outputs": [],
   "source": [
    "final_activation = torch.nn.LeakyReLU()"
   ]
  },
  {
   "cell_type": "code",
   "execution_count": 157,
   "id": "c307d89c",
   "metadata": {},
   "outputs": [],
   "source": [
    "final_embeds_n = final_activation(final_embeds_n)  "
   ]
  },
  {
   "cell_type": "code",
   "execution_count": 158,
   "id": "b419eda9",
   "metadata": {},
   "outputs": [
    {
     "data": {
      "text/plain": [
       "tensor([[ 6.7000e-01,  3.7000e-01, -6.0000e-03,  2.8000e-01, -4.9000e-03],\n",
       "        [ 1.3303e-01,  5.3383e-02, -7.5841e-04,  6.7941e-02, -5.0214e-04],\n",
       "        [ 1.6610e-01,  4.0974e-02, -4.3409e-04,  5.4643e-02,  3.7078e-02],\n",
       "        [ 1.6000e-01,  7.0000e-02, -1.0000e-03,  1.2000e-01, -1.1000e-03]],\n",
       "       dtype=torch.float64)"
      ]
     },
     "execution_count": 158,
     "metadata": {},
     "output_type": "execute_result"
    }
   ],
   "source": [
    "final_embeds_n"
   ]
  },
  {
   "cell_type": "markdown",
   "id": "85297557",
   "metadata": {},
   "source": [
    "# Node-Level Attention Layer (edge step)"
   ]
  },
  {
   "cell_type": "code",
   "execution_count": 159,
   "id": "1cb1ebb4",
   "metadata": {},
   "outputs": [
    {
     "data": {
      "text/plain": [
       "tensor([[-0.0100, -0.1900,  0.5300,  0.2200],\n",
       "        [-0.0100, -0.0800,  0.2400,  0.1000],\n",
       "        [-0.2400, -0.0500,  0.8300,  0.3600]])"
      ]
     },
     "execution_count": 159,
     "metadata": {},
     "output_type": "execute_result"
    }
   ],
   "source": [
    "edge_embeds"
   ]
  },
  {
   "cell_type": "markdown",
   "id": "9c5409b6",
   "metadata": {},
   "source": [
    "### Etapa 3 - fazer o concat"
   ]
  },
  {
   "cell_type": "code",
   "execution_count": 160,
   "id": "46efa783",
   "metadata": {},
   "outputs": [],
   "source": [
    "w1 = node_embeds.tile([1, edge_embeds.shape[0]]).reshape([node_embeds.shape[0], edge_embeds.shape[0], node_embeds.shape[1]])"
   ]
  },
  {
   "cell_type": "code",
   "execution_count": 161,
   "id": "6b317477",
   "metadata": {},
   "outputs": [
    {
     "data": {
      "text/plain": [
       "tensor([[[ 0.6700,  0.3700, -0.6000,  0.2800, -0.4900],\n",
       "         [ 0.6700,  0.3700, -0.6000,  0.2800, -0.4900],\n",
       "         [ 0.6700,  0.3700, -0.6000,  0.2800, -0.4900]],\n",
       "\n",
       "        [[ 0.4200,  0.0600, -0.0100,  0.2300,  0.1400],\n",
       "         [ 0.4200,  0.0600, -0.0100,  0.2300,  0.1400],\n",
       "         [ 0.4200,  0.0600, -0.0100,  0.2300,  0.1400]],\n",
       "\n",
       "        [[ 0.2600,  0.1000, -0.1500,  0.0100,  0.0200],\n",
       "         [ 0.2600,  0.1000, -0.1500,  0.0100,  0.0200],\n",
       "         [ 0.2600,  0.1000, -0.1500,  0.0100,  0.0200]],\n",
       "\n",
       "        [[ 0.1600,  0.0700, -0.1000,  0.1200, -0.1100],\n",
       "         [ 0.1600,  0.0700, -0.1000,  0.1200, -0.1100],\n",
       "         [ 0.1600,  0.0700, -0.1000,  0.1200, -0.1100]]])"
      ]
     },
     "execution_count": 161,
     "metadata": {},
     "output_type": "execute_result"
    }
   ],
   "source": [
    "w1"
   ]
  },
  {
   "cell_type": "code",
   "execution_count": 162,
   "id": "deaa4153",
   "metadata": {},
   "outputs": [
    {
     "data": {
      "text/plain": [
       "tensor([[-0.0100, -0.1900,  0.5300,  0.2200],\n",
       "        [-0.0100, -0.0800,  0.2400,  0.1000],\n",
       "        [-0.2400, -0.0500,  0.8300,  0.3600]])"
      ]
     },
     "execution_count": 162,
     "metadata": {},
     "output_type": "execute_result"
    }
   ],
   "source": [
    "edge_embeds"
   ]
  },
  {
   "cell_type": "code",
   "execution_count": 163,
   "id": "1904a000",
   "metadata": {},
   "outputs": [],
   "source": [
    "w2 = edge_embeds.tile([node_embeds.shape[0], 1]).reshape([node_embeds.shape[0], edge_embeds.shape[0], edge_embeds.shape[1]])"
   ]
  },
  {
   "cell_type": "code",
   "execution_count": 164,
   "id": "e809c86c",
   "metadata": {},
   "outputs": [
    {
     "data": {
      "text/plain": [
       "tensor([[[-0.0100, -0.1900,  0.5300,  0.2200],\n",
       "         [-0.0100, -0.0800,  0.2400,  0.1000],\n",
       "         [-0.2400, -0.0500,  0.8300,  0.3600]],\n",
       "\n",
       "        [[-0.0100, -0.1900,  0.5300,  0.2200],\n",
       "         [-0.0100, -0.0800,  0.2400,  0.1000],\n",
       "         [-0.2400, -0.0500,  0.8300,  0.3600]],\n",
       "\n",
       "        [[-0.0100, -0.1900,  0.5300,  0.2200],\n",
       "         [-0.0100, -0.0800,  0.2400,  0.1000],\n",
       "         [-0.2400, -0.0500,  0.8300,  0.3600]],\n",
       "\n",
       "        [[-0.0100, -0.1900,  0.5300,  0.2200],\n",
       "         [-0.0100, -0.0800,  0.2400,  0.1000],\n",
       "         [-0.2400, -0.0500,  0.8300,  0.3600]]])"
      ]
     },
     "execution_count": 164,
     "metadata": {},
     "output_type": "execute_result"
    }
   ],
   "source": [
    "w2"
   ]
  },
  {
   "cell_type": "code",
   "execution_count": 166,
   "id": "4917e59f",
   "metadata": {},
   "outputs": [],
   "source": [
    "concat_result_e = torch.cat((w1, w2), dim=2)"
   ]
  },
  {
   "cell_type": "code",
   "execution_count": 167,
   "id": "333affb9",
   "metadata": {},
   "outputs": [
    {
     "data": {
      "text/plain": [
       "tensor([[[ 0.6700,  0.3700, -0.6000,  0.2800, -0.4900, -0.0100, -0.1900,\n",
       "           0.5300,  0.2200],\n",
       "         [ 0.6700,  0.3700, -0.6000,  0.2800, -0.4900, -0.0100, -0.0800,\n",
       "           0.2400,  0.1000],\n",
       "         [ 0.6700,  0.3700, -0.6000,  0.2800, -0.4900, -0.2400, -0.0500,\n",
       "           0.8300,  0.3600]],\n",
       "\n",
       "        [[ 0.4200,  0.0600, -0.0100,  0.2300,  0.1400, -0.0100, -0.1900,\n",
       "           0.5300,  0.2200],\n",
       "         [ 0.4200,  0.0600, -0.0100,  0.2300,  0.1400, -0.0100, -0.0800,\n",
       "           0.2400,  0.1000],\n",
       "         [ 0.4200,  0.0600, -0.0100,  0.2300,  0.1400, -0.2400, -0.0500,\n",
       "           0.8300,  0.3600]],\n",
       "\n",
       "        [[ 0.2600,  0.1000, -0.1500,  0.0100,  0.0200, -0.0100, -0.1900,\n",
       "           0.5300,  0.2200],\n",
       "         [ 0.2600,  0.1000, -0.1500,  0.0100,  0.0200, -0.0100, -0.0800,\n",
       "           0.2400,  0.1000],\n",
       "         [ 0.2600,  0.1000, -0.1500,  0.0100,  0.0200, -0.2400, -0.0500,\n",
       "           0.8300,  0.3600]],\n",
       "\n",
       "        [[ 0.1600,  0.0700, -0.1000,  0.1200, -0.1100, -0.0100, -0.1900,\n",
       "           0.5300,  0.2200],\n",
       "         [ 0.1600,  0.0700, -0.1000,  0.1200, -0.1100, -0.0100, -0.0800,\n",
       "           0.2400,  0.1000],\n",
       "         [ 0.1600,  0.0700, -0.1000,  0.1200, -0.1100, -0.2400, -0.0500,\n",
       "           0.8300,  0.3600]]])"
      ]
     },
     "execution_count": 167,
     "metadata": {},
     "output_type": "execute_result"
    }
   ],
   "source": [
    "concat_result_e"
   ]
  },
  {
   "cell_type": "markdown",
   "id": "a243e873",
   "metadata": {},
   "source": [
    "### Multiplicar resultado da concatenação pelo vetor de parâmetros"
   ]
  },
  {
   "cell_type": "code",
   "execution_count": 168,
   "id": "c8659f08",
   "metadata": {},
   "outputs": [],
   "source": [
    "parameter_vector_edge = torch.FloatTensor(parameter_vector_edge)"
   ]
  },
  {
   "cell_type": "code",
   "execution_count": 169,
   "id": "7e27d5a0",
   "metadata": {},
   "outputs": [],
   "source": [
    "attention_output_e = torch.matmul(concat_result_e, parameter_vector_edge)"
   ]
  },
  {
   "cell_type": "code",
   "execution_count": 171,
   "id": "61870570",
   "metadata": {},
   "outputs": [
    {
     "data": {
      "text/plain": [
       "tensor([[-1.0260, -0.9410, -1.1980],\n",
       "        [-0.1910, -0.1060, -0.3630],\n",
       "        [-0.2670, -0.1820, -0.4390],\n",
       "        [-0.3530, -0.2680, -0.5250]])"
      ]
     },
     "execution_count": 171,
     "metadata": {},
     "output_type": "execute_result"
    }
   ],
   "source": [
    "attention_output_e"
   ]
  },
  {
   "cell_type": "markdown",
   "id": "8e3a7c78",
   "metadata": {},
   "source": [
    "### LeakyReLU"
   ]
  },
  {
   "cell_type": "code",
   "execution_count": 172,
   "id": "cb20b0e0",
   "metadata": {},
   "outputs": [],
   "source": [
    "edge_activation = torch.nn.LeakyReLU()"
   ]
  },
  {
   "cell_type": "code",
   "execution_count": 173,
   "id": "f63d1255",
   "metadata": {},
   "outputs": [],
   "source": [
    "attention_output_e = edge_activation(attention_output_e)"
   ]
  },
  {
   "cell_type": "code",
   "execution_count": 174,
   "id": "66e054aa",
   "metadata": {},
   "outputs": [
    {
     "data": {
      "text/plain": [
       "tensor([[-0.0103, -0.0094, -0.0120],\n",
       "        [-0.0019, -0.0011, -0.0036],\n",
       "        [-0.0027, -0.0018, -0.0044],\n",
       "        [-0.0035, -0.0027, -0.0052]])"
      ]
     },
     "execution_count": 174,
     "metadata": {},
     "output_type": "execute_result"
    }
   ],
   "source": [
    "attention_output_e"
   ]
  },
  {
   "cell_type": "markdown",
   "id": "31fabb97",
   "metadata": {},
   "source": [
    "### Softmax"
   ]
  },
  {
   "cell_type": "code",
   "execution_count": 176,
   "id": "4403efed",
   "metadata": {},
   "outputs": [
    {
     "data": {
      "text/plain": [
       "array([[0., 0., 0.],\n",
       "       [1., 0., 1.],\n",
       "       [0., 1., 0.],\n",
       "       [0., 0., 0.]])"
      ]
     },
     "execution_count": 176,
     "metadata": {},
     "output_type": "execute_result"
    }
   ],
   "source": [
    "edge_to_node_adj_matrix"
   ]
  },
  {
   "cell_type": "code",
   "execution_count": 178,
   "id": "2dda0825",
   "metadata": {},
   "outputs": [
    {
     "name": "stderr",
     "output_type": "stream",
     "text": [
      "/tmp/ipykernel_4230/4069691209.py:1: RuntimeWarning: invalid value encountered in multiply\n",
      "  importance_coeficients = torch.nan_to_num((torch.exp(attention_output_e)/(torch.exp(attention_output_e)*edge_to_node_adj_matrix).sum(axis=1)[:, None])*edge_to_node_adj_matrix)\n"
     ]
    }
   ],
   "source": [
    "importance_coeficients = torch.nan_to_num((torch.exp(attention_output_e)/(torch.exp(attention_output_e)*edge_to_node_adj_matrix).sum(axis=1)[:, None])*edge_to_node_adj_matrix)"
   ]
  },
  {
   "cell_type": "code",
   "execution_count": 179,
   "id": "e3c012eb",
   "metadata": {},
   "outputs": [
    {
     "data": {
      "text/plain": [
       "tensor([[0.0000, 0.0000, 0.0000],\n",
       "        [0.5004, 0.0000, 0.4996],\n",
       "        [0.0000, 1.0000, 0.0000],\n",
       "        [0.0000, 0.0000, 0.0000]], dtype=torch.float64)"
      ]
     },
     "execution_count": 179,
     "metadata": {},
     "output_type": "execute_result"
    }
   ],
   "source": [
    "importance_coeficients"
   ]
  },
  {
   "cell_type": "markdown",
   "id": "8fd54582",
   "metadata": {},
   "source": [
    "### Fazer a conta de acordo com a importância"
   ]
  },
  {
   "cell_type": "code",
   "execution_count": 180,
   "id": "aebd16c1",
   "metadata": {},
   "outputs": [],
   "source": [
    "denominator = edge_to_node_adj_matrix.sum(axis=1)"
   ]
  },
  {
   "cell_type": "code",
   "execution_count": 181,
   "id": "6ee14e17",
   "metadata": {},
   "outputs": [
    {
     "data": {
      "text/plain": [
       "array([0., 2., 1., 0.])"
      ]
     },
     "execution_count": 181,
     "metadata": {},
     "output_type": "execute_result"
    }
   ],
   "source": [
    "denominator"
   ]
  },
  {
   "cell_type": "code",
   "execution_count": 182,
   "id": "fe46627b",
   "metadata": {},
   "outputs": [],
   "source": [
    "embed_propagated = edge_embeds.tile([node_embeds.shape[0], 1]).reshape([node_embeds.shape[0], edge_embeds.shape[0], edge_embeds.shape[1]])"
   ]
  },
  {
   "cell_type": "code",
   "execution_count": 183,
   "id": "4c43639f",
   "metadata": {},
   "outputs": [
    {
     "data": {
      "text/plain": [
       "tensor([[[-0.0100, -0.1900,  0.5300,  0.2200],\n",
       "         [-0.0100, -0.0800,  0.2400,  0.1000],\n",
       "         [-0.2400, -0.0500,  0.8300,  0.3600]],\n",
       "\n",
       "        [[-0.0100, -0.1900,  0.5300,  0.2200],\n",
       "         [-0.0100, -0.0800,  0.2400,  0.1000],\n",
       "         [-0.2400, -0.0500,  0.8300,  0.3600]],\n",
       "\n",
       "        [[-0.0100, -0.1900,  0.5300,  0.2200],\n",
       "         [-0.0100, -0.0800,  0.2400,  0.1000],\n",
       "         [-0.2400, -0.0500,  0.8300,  0.3600]],\n",
       "\n",
       "        [[-0.0100, -0.1900,  0.5300,  0.2200],\n",
       "         [-0.0100, -0.0800,  0.2400,  0.1000],\n",
       "         [-0.2400, -0.0500,  0.8300,  0.3600]]])"
      ]
     },
     "execution_count": 183,
     "metadata": {},
     "output_type": "execute_result"
    }
   ],
   "source": [
    "embed_propagated"
   ]
  },
  {
   "cell_type": "code",
   "execution_count": 184,
   "id": "303c801f",
   "metadata": {},
   "outputs": [],
   "source": [
    "suma = importance_coeficients.reshape([importance_coeficients.shape[0], importance_coeficients.shape[1], 1]) * embed_propagated"
   ]
  },
  {
   "cell_type": "code",
   "execution_count": 185,
   "id": "4b29aafc",
   "metadata": {},
   "outputs": [
    {
     "data": {
      "text/plain": [
       "tensor([[[-0.0000, -0.0000,  0.0000,  0.0000],\n",
       "         [-0.0000, -0.0000,  0.0000,  0.0000],\n",
       "         [-0.0000, -0.0000,  0.0000,  0.0000]],\n",
       "\n",
       "        [[-0.0050, -0.0951,  0.2652,  0.1101],\n",
       "         [-0.0000, -0.0000,  0.0000,  0.0000],\n",
       "         [-0.1199, -0.0250,  0.4146,  0.1798]],\n",
       "\n",
       "        [[-0.0000, -0.0000,  0.0000,  0.0000],\n",
       "         [-0.0100, -0.0800,  0.2400,  0.1000],\n",
       "         [-0.0000, -0.0000,  0.0000,  0.0000]],\n",
       "\n",
       "        [[-0.0000, -0.0000,  0.0000,  0.0000],\n",
       "         [-0.0000, -0.0000,  0.0000,  0.0000],\n",
       "         [-0.0000, -0.0000,  0.0000,  0.0000]]], dtype=torch.float64)"
      ]
     },
     "execution_count": 185,
     "metadata": {},
     "output_type": "execute_result"
    }
   ],
   "source": [
    "suma"
   ]
  },
  {
   "cell_type": "code",
   "execution_count": 194,
   "id": "9390a90c",
   "metadata": {},
   "outputs": [
    {
     "name": "stderr",
     "output_type": "stream",
     "text": [
      "/tmp/ipykernel_4230/290814497.py:1: RuntimeWarning: invalid value encountered in true_divide\n",
      "  final_embeds_e = torch.nan_to_num(suma.sum(axis=1)/denominator[:, None])\n"
     ]
    }
   ],
   "source": [
    "final_embeds_e = torch.nan_to_num(suma.sum(axis=1)/denominator[:, None])"
   ]
  },
  {
   "cell_type": "code",
   "execution_count": 195,
   "id": "fa4cf54f",
   "metadata": {},
   "outputs": [
    {
     "data": {
      "text/plain": [
       "tensor([[ 0.0000,  0.0000,  0.0000,  0.0000],\n",
       "        [-0.0625, -0.0600,  0.3399,  0.1450],\n",
       "        [-0.0100, -0.0800,  0.2400,  0.1000],\n",
       "        [ 0.0000,  0.0000,  0.0000,  0.0000]], dtype=torch.float64)"
      ]
     },
     "execution_count": 195,
     "metadata": {},
     "output_type": "execute_result"
    }
   ],
   "source": [
    "final_embeds_e"
   ]
  },
  {
   "cell_type": "code",
   "execution_count": 196,
   "id": "0c5f2b2b",
   "metadata": {},
   "outputs": [],
   "source": [
    "final_embeds_e = final_activation(final_embeds_e)  "
   ]
  },
  {
   "cell_type": "code",
   "execution_count": 197,
   "id": "7331a5fd",
   "metadata": {},
   "outputs": [
    {
     "data": {
      "text/plain": [
       "tensor([[ 0.0000e+00,  0.0000e+00,  0.0000e+00,  0.0000e+00],\n",
       "        [-6.2451e-04, -6.0030e-04,  3.3994e-01,  1.4497e-01],\n",
       "        [-1.0000e-04, -8.0000e-04,  2.4000e-01,  1.0000e-01],\n",
       "        [ 0.0000e+00,  0.0000e+00,  0.0000e+00,  0.0000e+00]],\n",
       "       dtype=torch.float64)"
      ]
     },
     "execution_count": 197,
     "metadata": {},
     "output_type": "execute_result"
    }
   ],
   "source": [
    "final_embeds_e"
   ]
  },
  {
   "cell_type": "code",
   "execution_count": 198,
   "id": "148329e9",
   "metadata": {},
   "outputs": [
    {
     "data": {
      "text/plain": [
       "tensor([[ 0.0000e+00,  0.0000e+00,  0.0000e+00,  0.0000e+00],\n",
       "        [-6.2451e-04, -6.0030e-04,  3.3994e-01,  1.4497e-01],\n",
       "        [-1.0000e-04, -8.0000e-04,  2.4000e-01,  1.0000e-01],\n",
       "        [ 0.0000e+00,  0.0000e+00,  0.0000e+00,  0.0000e+00]],\n",
       "       dtype=torch.float64)"
      ]
     },
     "execution_count": 198,
     "metadata": {},
     "output_type": "execute_result"
    }
   ],
   "source": [
    "final_embeds_e"
   ]
  },
  {
   "cell_type": "code",
   "execution_count": 199,
   "id": "656cf0f7",
   "metadata": {},
   "outputs": [],
   "source": [
    "output = torch.cat([final_embeds_n, final_embeds_e], dim=1)"
   ]
  },
  {
   "cell_type": "code",
   "execution_count": 200,
   "id": "76083b6a",
   "metadata": {},
   "outputs": [
    {
     "data": {
      "text/plain": [
       "tensor([[ 6.7000e-01,  3.7000e-01, -6.0000e-03,  2.8000e-01, -4.9000e-03,\n",
       "          0.0000e+00,  0.0000e+00,  0.0000e+00,  0.0000e+00],\n",
       "        [ 1.3303e-01,  5.3383e-02, -7.5841e-04,  6.7941e-02, -5.0214e-04,\n",
       "         -6.2451e-04, -6.0030e-04,  3.3994e-01,  1.4497e-01],\n",
       "        [ 1.6610e-01,  4.0974e-02, -4.3409e-04,  5.4643e-02,  3.7078e-02,\n",
       "         -1.0000e-04, -8.0000e-04,  2.4000e-01,  1.0000e-01],\n",
       "        [ 1.6000e-01,  7.0000e-02, -1.0000e-03,  1.2000e-01, -1.1000e-03,\n",
       "          0.0000e+00,  0.0000e+00,  0.0000e+00,  0.0000e+00]],\n",
       "       dtype=torch.float64)"
      ]
     },
     "execution_count": 200,
     "metadata": {},
     "output_type": "execute_result"
    }
   ],
   "source": [
    "output"
   ]
  }
 ],
 "metadata": {
  "kernelspec": {
   "display_name": "Python 3 (ipykernel)",
   "language": "python",
   "name": "python3"
  },
  "language_info": {
   "codemirror_mode": {
    "name": "ipython",
    "version": 3
   },
   "file_extension": ".py",
   "mimetype": "text/x-python",
   "name": "python",
   "nbconvert_exporter": "python",
   "pygments_lexer": "ipython3",
   "version": "3.8.10"
  }
 },
 "nbformat": 4,
 "nbformat_minor": 5
}

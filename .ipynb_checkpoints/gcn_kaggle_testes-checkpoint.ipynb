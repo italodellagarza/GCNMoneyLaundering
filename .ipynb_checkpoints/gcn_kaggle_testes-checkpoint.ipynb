{
 "cells": [
  {
   "cell_type": "code",
   "execution_count": 1,
   "id": "a791b257",
   "metadata": {},
   "outputs": [],
   "source": [
    "import torch"
   ]
  },
  {
   "cell_type": "code",
   "execution_count": 2,
   "id": "ec72163d",
   "metadata": {},
   "outputs": [],
   "source": [
    "train_data = []\n",
    "test_data = []\n",
    "\n",
    "for i in range(1,35):\n",
    "    train_data.append(torch.load('separed_timestamps/without_unknowns/train/' + str(i) + '.pt'))\n",
    "\n",
    "for i in range(35,50):\n",
    "    test_data.append(torch.load('separed_timestamps/without_unknowns/test/' + str(i) + '.pt'))"
   ]
  },
  {
   "cell_type": "code",
   "execution_count": 3,
   "id": "f770ddc4",
   "metadata": {},
   "outputs": [
    {
     "data": {
      "text/plain": [
       "[Data(adjacency_matrix=[2147, 2147], edge_index=[2, 1924], x=[2147, 166], y=[2147]),\n",
       " Data(adjacency_matrix=[1117, 1117], edge_index=[2, 858], x=[1117, 166], y=[1117]),\n",
       " Data(adjacency_matrix=[1279, 1279], edge_index=[2, 727], x=[1279, 166], y=[1279]),\n",
       " Data(adjacency_matrix=[1440, 1440], edge_index=[2, 1169], x=[1440, 166], y=[1440]),\n",
       " Data(adjacency_matrix=[1882, 1882], edge_index=[2, 1491], x=[1882, 166], y=[1882]),\n",
       " Data(adjacency_matrix=[485, 485], edge_index=[2, 209], x=[485, 166], y=[485]),\n",
       " Data(adjacency_matrix=[1203, 1203], edge_index=[2, 858], x=[1203, 166], y=[1203]),\n",
       " Data(adjacency_matrix=[1165, 1165], edge_index=[2, 1044], x=[1165, 166], y=[1165]),\n",
       " Data(adjacency_matrix=[778, 778], edge_index=[2, 484], x=[778, 166], y=[778]),\n",
       " Data(adjacency_matrix=[972, 972], edge_index=[2, 538], x=[972, 166], y=[972]),\n",
       " Data(adjacency_matrix=[696, 696], edge_index=[2, 477], x=[696, 166], y=[696]),\n",
       " Data(adjacency_matrix=[506, 506], edge_index=[2, 446], x=[506, 166], y=[506]),\n",
       " Data(adjacency_matrix=[809, 809], edge_index=[2, 564], x=[809, 166], y=[809]),\n",
       " Data(adjacency_matrix=[417, 417], edge_index=[2, 350], x=[417, 166], y=[417]),\n",
       " Data(adjacency_matrix=[618, 618], edge_index=[2, 446], x=[618, 166], y=[618]),\n",
       " Data(adjacency_matrix=[530, 530], edge_index=[2, 334], x=[530, 166], y=[530]),\n",
       " Data(adjacency_matrix=[811, 811], edge_index=[2, 673], x=[811, 166], y=[811]),\n",
       " Data(adjacency_matrix=[389, 389], edge_index=[2, 275], x=[389, 166], y=[389]),\n",
       " Data(adjacency_matrix=[745, 745], edge_index=[2, 585], x=[745, 166], y=[745]),\n",
       " Data(adjacency_matrix=[900, 900], edge_index=[2, 613], x=[900, 166], y=[900]),\n",
       " Data(adjacency_matrix=[641, 641], edge_index=[2, 518], x=[641, 166], y=[641]),\n",
       " Data(adjacency_matrix=[1763, 1763], edge_index=[2, 1537], x=[1763, 166], y=[1763]),\n",
       " Data(adjacency_matrix=[1187, 1187], edge_index=[2, 1046], x=[1187, 166], y=[1187]),\n",
       " Data(adjacency_matrix=[1126, 1126], edge_index=[2, 961], x=[1126, 166], y=[1126]),\n",
       " Data(adjacency_matrix=[594, 594], edge_index=[2, 559], x=[594, 166], y=[594]),\n",
       " Data(adjacency_matrix=[517, 517], edge_index=[2, 346], x=[517, 166], y=[517]),\n",
       " Data(adjacency_matrix=[206, 206], edge_index=[2, 58], x=[206, 166], y=[206]),\n",
       " Data(adjacency_matrix=[284, 284], edge_index=[2, 150], x=[284, 166], y=[284]),\n",
       " Data(adjacency_matrix=[1174, 1174], edge_index=[2, 911], x=[1174, 166], y=[1174]),\n",
       " Data(adjacency_matrix=[524, 524], edge_index=[2, 372], x=[524, 166], y=[524]),\n",
       " Data(adjacency_matrix=[710, 710], edge_index=[2, 522], x=[710, 166], y=[710]),\n",
       " Data(adjacency_matrix=[1323, 1323], edge_index=[2, 997], x=[1323, 166], y=[1323]),\n",
       " Data(adjacency_matrix=[441, 441], edge_index=[2, 429], x=[441, 166], y=[441]),\n",
       " Data(adjacency_matrix=[515, 515], edge_index=[2, 427], x=[515, 166], y=[515])]"
      ]
     },
     "execution_count": 3,
     "metadata": {},
     "output_type": "execute_result"
    }
   ],
   "source": [
    "train_data"
   ]
  },
  {
   "cell_type": "code",
   "execution_count": 4,
   "id": "326acdcf",
   "metadata": {},
   "outputs": [],
   "source": [
    "import torch\n",
    "import torch.nn as nn\n",
    "import torch.nn.functional as F\n",
    "\n",
    "import numpy as np\n",
    "import time\n",
    "import sys\n",
    "\n",
    "class GraphConv(nn.Module):\n",
    "    def __init__(self, in_features, out_features, activation  = 'relu', skip = False, skip_in_features = None):\n",
    "        super(GraphConv, self).__init__()\n",
    "        self.W = torch.nn.Parameter(torch.DoubleTensor(in_features, out_features))\n",
    "        nn.init.xavier_uniform_(self.W)\n",
    "        \n",
    "        self.set_act = False\n",
    "        if activation == 'relu':\n",
    "            self.activation = nn.ReLU()\n",
    "            self.set_act = True\n",
    "        elif activation == 'softmax':\n",
    "            self.activation = nn.Softmax(dim = 1)\n",
    "            self.set_act = True\n",
    "        else:\n",
    "            self.set_act = False\n",
    "            raise ValueError(\"activations supported are 'relu' and 'softmax'\")\n",
    "            \n",
    "        self.skip = skip\n",
    "        if self.skip:\n",
    "            if skip_in_features == None:\n",
    "                raise ValueError(\"pass input feature size of the skip connection\")\n",
    "            self.W_skip = torch.nn.Parameter(torch.DoubleTensor(skip_in_features, out_features)) \n",
    "            nn.init.xavier_uniform_(self.W)\n",
    "        \n",
    "    def forward(self, A, H_in, H_skip_in = None):\n",
    "        # A must be an n x n matrix as it is an adjacency matrix\n",
    "        # H is the input of the node embeddings, shape will n x in_features\n",
    "        self.A = A\n",
    "        self.H_in = H_in\n",
    "        A_ = torch.add(self.A, torch.eye(self.A.shape[0]).double())\n",
    "        D_ = torch.diag(A_.sum(1))\n",
    "        # since D_ is a diagonal matrix, \n",
    "        # its root will be the roots of the diagonal elements on the principle diagonal\n",
    "        # since A is an adjacency matrix, we are only dealing with positive values \n",
    "        # all roots will be real\n",
    "        D_root_inv = torch.inverse(torch.sqrt(D_))\n",
    "        A_norm = torch.mm(torch.mm(D_root_inv, A_), D_root_inv)\n",
    "        # shape of A_norm will be n x n\n",
    "        \n",
    "        H_out = torch.mm(torch.mm(A_norm, H_in), self.W)\n",
    "        # shape of H_out will be n x out_features\n",
    "        \n",
    "        if self.skip:\n",
    "            H_skip_out = torch.mm(H_skip_in, self.W_skip)\n",
    "            H_out = torch.add(H_out, H_skip_out)\n",
    "        \n",
    "        if self.set_act:\n",
    "            H_out = self.activation(H_out)\n",
    "            \n",
    "        return H_out"
   ]
  },
  {
   "cell_type": "code",
   "execution_count": 5,
   "id": "d2eb1192",
   "metadata": {},
   "outputs": [],
   "source": [
    "class GCN_2layer(nn.Module):\n",
    "    def __init__(self, in_features, hidden_features, out_features, skip = False):\n",
    "        super(GCN_2layer, self).__init__()\n",
    "        self.skip = skip\n",
    "        \n",
    "        self.gcl1 = GraphConv(in_features, hidden_features)\n",
    "        \n",
    "        if self.skip:\n",
    "            self.gcl_skip = GraphConv(hidden_features, out_features, activation = 'softmax', skip = self.skip,\n",
    "                                  skip_in_features = in_features)\n",
    "        else:\n",
    "            self.gcl2 = GraphConv(hidden_features, out_features, activation = 'softmax')\n",
    "        \n",
    "    def forward(self, A, X):\n",
    "        out = self.gcl1(A, X)\n",
    "        if self.skip:\n",
    "            out = self.gcl_skip(A, out, X)\n",
    "        else:\n",
    "            out = self.gcl2(A, out)\n",
    "            \n",
    "        return out"
   ]
  },
  {
   "cell_type": "code",
   "execution_count": 6,
   "id": "3d011dc7",
   "metadata": {},
   "outputs": [
    {
     "name": "stdout",
     "output_type": "stream",
     "text": [
      "mkdir: não foi possível criar o diretório “modelDir”: Arquivo existe\r\n"
     ]
    }
   ],
   "source": [
    "!mkdir modelDir"
   ]
  },
  {
   "cell_type": "code",
   "execution_count": 7,
   "id": "0e29cdae",
   "metadata": {},
   "outputs": [
    {
     "name": "stdout",
     "output_type": "stream",
     "text": [
      " Epoch 14/15 Timestamp 34 training loss: 0.383172 training accuracy: 0.955340 Time: 0.152297258377075277"
     ]
    }
   ],
   "source": [
    "num_features = 166\n",
    "num_classes = 2\n",
    "epochs = 15\n",
    "lr = 0.001\n",
    "\n",
    "\n",
    "# 0 - illicit, 1 - licit\n",
    "#labels_ts = []\n",
    "#for c in classes_ts:\n",
    "#    labels_ts.append(np.array(c['class'] == '2', dtype = np.long))\n",
    "\n",
    "gcn = GCN_2layer(num_features, 100, num_classes)\n",
    "train_loss = nn.CrossEntropyLoss(weight = torch.DoubleTensor([0.7, 0.3]))\n",
    "optimizer = torch.optim.Adam(gcn.parameters(), lr = lr)\n",
    "\n",
    "# Training\n",
    "\n",
    "for ts, data in enumerate(train_data):\n",
    "    A = data.adjacency_matrix\n",
    "    X = data.x\n",
    "    L = data.y\n",
    "    for ep in range(epochs):\n",
    "        t_start = time.time()\n",
    "        \n",
    "        gcn.train()\n",
    "        optimizer.zero_grad()\n",
    "        out = gcn(A, X)\n",
    "\n",
    "        loss = train_loss(out, L)\n",
    "        train_pred = out.max(1)[1].type_as(L)\n",
    "        acc = (train_pred.eq(L).double().sum())/L.shape[0]\n",
    "\n",
    "        loss.backward()\n",
    "        optimizer.step()\n",
    "\n",
    "        sys.stdout.write(\"\\r Epoch %d/%d Timestamp %d training loss: %f training accuracy: %f Time: %s\"\n",
    "                         %(ep, epochs, ts+1, loss, acc, time.time() - t_start)\n",
    "                        )"
   ]
  },
  {
   "cell_type": "code",
   "execution_count": 11,
   "id": "39098553",
   "metadata": {},
   "outputs": [],
   "source": [
    "import os\n",
    "\n",
    "torch.save(gcn.state_dict(), str(os.path.join(\"./modelDir\", \"gcn_weights.pth\")))"
   ]
  },
  {
   "cell_type": "code",
   "execution_count": 12,
   "id": "9fb9742d",
   "metadata": {},
   "outputs": [
    {
     "name": "stdout",
     "output_type": "stream",
     "text": [
      "              precision    recall  f1-score   support\n",
      "\n",
      "           0       0.82      0.62      0.71       555\n",
      "           1       0.97      0.99      0.98      7170\n",
      "\n",
      "    accuracy                           0.96      7725\n",
      "   macro avg       0.90      0.81      0.84      7725\n",
      "weighted avg       0.96      0.96      0.96      7725\n",
      "\n",
      "GCN - averaged accuracy: 0.9631067961165045, precision: 0.9712525667351133, recall: 0.9895397489539749, f1: 0.9803108808290159\n"
     ]
    }
   ],
   "source": [
    "from sklearn.metrics import f1_score, precision_score, recall_score, classification_report\n",
    "\n",
    "\n",
    "gcn = GCN_2layer(num_features, 100, num_classes)\n",
    "gcn.load_state_dict(torch.load(os.path.join(\"./modelDir\", \"gcn_weights.pth\")))\n",
    "\n",
    "# Testing\n",
    "test_accs = []\n",
    "test_precisions = []\n",
    "test_recalls = []\n",
    "test_f1s = []\n",
    "total_L = []\n",
    "total_test_pred = []\n",
    "\n",
    "\n",
    "for ts in test_data:\n",
    "    A = data.adjacency_matrix\n",
    "    X = data.x\n",
    "    L = data.y\n",
    "    \n",
    "    gcn.eval()\n",
    "    test_out = gcn(A, X)\n",
    "    \n",
    "    test_pred = test_out.max(1)[1].type_as(L)\n",
    "    t_acc = (test_pred.eq(L).double().sum())/L.shape[0]\n",
    "    test_accs.append(t_acc.item())\n",
    "    test_precisions.append(precision_score(L, test_pred))\n",
    "    test_recalls.append(recall_score(L, test_pred))\n",
    "    test_f1s.append(f1_score(L, test_pred))\n",
    "    total_L += L\n",
    "    total_test_pred += test_pred\n",
    "\n",
    "print(classification_report(total_L, total_test_pred))\n",
    "\n",
    "acc = np.array(test_accs).mean()\n",
    "prec = np.array(test_precisions).mean()\n",
    "rec = np.array(test_recalls).mean()\n",
    "f1 = np.array(test_f1s).mean()\n",
    "\n",
    "print(\"GCN - averaged accuracy: {}, precision: {}, recall: {}, f1: {}\".format(acc, prec, rec, f1))"
   ]
  },
  {
   "cell_type": "code",
   "execution_count": 10,
   "id": "c69f2a44",
   "metadata": {},
   "outputs": [
    {
     "data": {
      "text/plain": [
       "[Data(adjacency_matrix=[1341, 1341], edge_index=[2, 1002], x=[1341, 166], y=[1341]),\n",
       " Data(adjacency_matrix=[1708, 1708], edge_index=[2, 1148], x=[1708, 166], y=[1708]),\n",
       " Data(adjacency_matrix=[498, 498], edge_index=[2, 423], x=[498, 166], y=[498]),\n",
       " Data(adjacency_matrix=[756, 756], edge_index=[2, 653], x=[756, 166], y=[756]),\n",
       " Data(adjacency_matrix=[1183, 1183], edge_index=[2, 1055], x=[1183, 166], y=[1183]),\n",
       " Data(adjacency_matrix=[1211, 1211], edge_index=[2, 1180], x=[1211, 166], y=[1211]),\n",
       " Data(adjacency_matrix=[1132, 1132], edge_index=[2, 1048], x=[1132, 166], y=[1132]),\n",
       " Data(adjacency_matrix=[2154, 2154], edge_index=[2, 1443], x=[2154, 166], y=[2154]),\n",
       " Data(adjacency_matrix=[1370, 1370], edge_index=[2, 935], x=[1370, 166], y=[1370]),\n",
       " Data(adjacency_matrix=[1591, 1591], edge_index=[2, 1497], x=[1591, 166], y=[1591]),\n",
       " Data(adjacency_matrix=[1221, 1221], edge_index=[2, 1346], x=[1221, 166], y=[1221]),\n",
       " Data(adjacency_matrix=[712, 712], edge_index=[2, 388], x=[712, 166], y=[712]),\n",
       " Data(adjacency_matrix=[846, 846], edge_index=[2, 822], x=[846, 166], y=[846]),\n",
       " Data(adjacency_matrix=[471, 471], edge_index=[2, 371], x=[471, 166], y=[471]),\n",
       " Data(adjacency_matrix=[476, 476], edge_index=[2, 415], x=[476, 166], y=[476])]"
      ]
     },
     "execution_count": 10,
     "metadata": {},
     "output_type": "execute_result"
    }
   ],
   "source": [
    "test_data"
   ]
  }
 ],
 "metadata": {
  "kernelspec": {
   "display_name": "Python 3",
   "language": "python",
   "name": "python3"
  },
  "language_info": {
   "codemirror_mode": {
    "name": "ipython",
    "version": 3
   },
   "file_extension": ".py",
   "mimetype": "text/x-python",
   "name": "python",
   "nbconvert_exporter": "python",
   "pygments_lexer": "ipython3",
   "version": "3.9.5"
  }
 },
 "nbformat": 4,
 "nbformat_minor": 5
}

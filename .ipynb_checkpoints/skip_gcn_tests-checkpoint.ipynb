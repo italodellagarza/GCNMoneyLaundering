{
 "cells": [
  {
   "cell_type": "code",
   "execution_count": 1,
   "id": "edbcaa49",
   "metadata": {},
   "outputs": [],
   "source": [
    "import torch"
   ]
  },
  {
   "cell_type": "code",
   "execution_count": 2,
   "id": "cd662b4f",
   "metadata": {},
   "outputs": [],
   "source": [
    "import torch.nn.functional as F\n",
    "import torch_geometric.nn as nn"
   ]
  },
  {
   "cell_type": "code",
   "execution_count": 3,
   "id": "14705740",
   "metadata": {},
   "outputs": [],
   "source": [
    "train_data = []\n",
    "test_data = []\n",
    "\n",
    "for i in range(1,35):\n",
    "    train_data.append(torch.load('separed_timestamps/without_unknowns/train/' + str(i) + '.pt'))\n",
    "\n",
    "for i in range(35,50):\n",
    "    test_data.append(torch.load('separed_timestamps/without_unknowns/test/' + str(i) + '.pt'))"
   ]
  },
  {
   "cell_type": "code",
   "execution_count": 4,
   "id": "cd5b3779",
   "metadata": {},
   "outputs": [],
   "source": [
    "hidden_size = 100\n",
    "n_classes = 2\n",
    "\n",
    "\n",
    "class Skip_GCN(torch.nn.Module):\n",
    "    def __init__(self):\n",
    "        super(Skip_GCN, self).__init__()\n",
    "        self.conv1 = nn.GCNConv(166,100, bias=False)\n",
    "        self.act1 = torch.nn.ReLU()\n",
    "        self.conv2 = nn.GCNConv(100,2, bias=False)\n",
    "        self.W_skip = torch.nn.Parameter(torch.Tensor(166, 2))\n",
    "        torch.nn.init.xavier_uniform_(self.W_skip)\n",
    "        self.act2 = torch.nn.Softmax(dim=1)\n",
    "    \n",
    "    def forward(self, x, edge_index, batch_index):\n",
    "        hidden1 = self.conv1(x, edge_index)\n",
    "        hidden1 = self.act1(hidden1)\n",
    "        hidden2 = self.conv2(hidden1, edge_index)\n",
    "        H_skip = torch.mm(x, self.W_skip)\n",
    "        skip_output = torch.add(hidden2, H_skip)\n",
    "        output = self.act2(skip_output)\n",
    "        \n",
    "        return hidden2, output"
   ]
  },
  {
   "cell_type": "code",
   "execution_count": 5,
   "id": "484a7901",
   "metadata": {},
   "outputs": [],
   "source": [
    "model = Skip_GCN()"
   ]
  },
  {
   "cell_type": "code",
   "execution_count": 6,
   "id": "47e43b3c",
   "metadata": {},
   "outputs": [
    {
     "data": {
      "text/plain": [
       "Skip_GCN(\n",
       "  (conv1): GCNConv(166, 100)\n",
       "  (act1): ReLU()\n",
       "  (conv2): GCNConv(100, 2)\n",
       "  (act2): Softmax(dim=1)\n",
       ")"
      ]
     },
     "execution_count": 6,
     "metadata": {},
     "output_type": "execute_result"
    }
   ],
   "source": [
    "model"
   ]
  },
  {
   "cell_type": "code",
   "execution_count": 7,
   "id": "27d9e8d5",
   "metadata": {},
   "outputs": [],
   "source": [
    "## Use a GPU para treinar\n",
    "device = torch.device(\"cuda:0\" if torch.cuda.is_available() else \"cpu\")\n",
    "model = model.to(device)"
   ]
  },
  {
   "cell_type": "code",
   "execution_count": 8,
   "id": "838779df",
   "metadata": {},
   "outputs": [],
   "source": [
    "loss = torch.nn.CrossEntropyLoss(weight=torch.Tensor([0.7, 0.3]))"
   ]
  },
  {
   "cell_type": "code",
   "execution_count": 9,
   "id": "10822f51",
   "metadata": {},
   "outputs": [],
   "source": [
    "optimizer = torch.optim.Adam(model.parameters(), lr=0.001)"
   ]
  },
  {
   "cell_type": "code",
   "execution_count": 10,
   "id": "c1c3d4f4",
   "metadata": {},
   "outputs": [],
   "source": [
    "def train():\n",
    "    model.train()\n",
    "    # Enumerar sobre os dados.\n",
    "    for ts, data in enumerate(train_data):\n",
    "        for epoch in range(1000):\n",
    "            # Usar GPU\n",
    "            data.to(device)\n",
    "            # Resetar Gradientes\n",
    "            optimizer.zero_grad()\n",
    "            # Passando as informações do batch e de conexão dos grafos\n",
    "            hidden, logits = model(data.x.float(), data.edge_index, None)\n",
    "            #label_pred = pred.max(1)[1]\n",
    "            # Calculando a perda e os gradientes.\n",
    "            l = loss(logits, data.y)\n",
    "            l.backward()\n",
    "            # Atualizar usando os gradientes.\n",
    "            optimizer.step()\n",
    "        if (epoch + 1) % 100 == 0:\n",
    "            print('ts',ts+1,'epoch =', epoch + 1, 'loss =', l.item())"
   ]
  },
  {
   "cell_type": "code",
   "execution_count": 11,
   "id": "a2db2a09",
   "metadata": {},
   "outputs": [
    {
     "name": "stdout",
     "output_type": "stream",
     "text": [
      "ts 1 epoch = 1000 loss = 0.32516300678253174\n",
      "ts 2 epoch = 1000 loss = 0.31331831216812134\n",
      "ts 3 epoch = 1000 loss = 0.32409191131591797\n",
      "ts 4 epoch = 1000 loss = 0.32431960105895996\n",
      "ts 5 epoch = 1000 loss = 0.31696781516075134\n",
      "ts 6 epoch = 1000 loss = 0.3274991810321808\n",
      "ts 7 epoch = 1000 loss = 0.3394516408443451\n",
      "ts 8 epoch = 1000 loss = 0.33933112025260925\n",
      "ts 9 epoch = 1000 loss = 0.34163084626197815\n",
      "ts 10 epoch = 1000 loss = 0.3213188052177429\n",
      "ts 11 epoch = 1000 loss = 0.3236527144908905\n",
      "ts 12 epoch = 1000 loss = 0.32653698325157166\n",
      "ts 13 epoch = 1000 loss = 0.341155081987381\n",
      "ts 14 epoch = 1000 loss = 0.342074990272522\n",
      "ts 15 epoch = 1000 loss = 0.33416494727134705\n",
      "ts 16 epoch = 1000 loss = 0.3413386940956116\n",
      "ts 17 epoch = 1000 loss = 0.3556835353374481\n",
      "ts 18 epoch = 1000 loss = 0.34744542837142944\n",
      "ts 19 epoch = 1000 loss = 0.3410555422306061\n",
      "ts 20 epoch = 1000 loss = 0.4012643098831177\n",
      "ts 21 epoch = 1000 loss = 0.3903186321258545\n",
      "ts 22 epoch = 1000 loss = 0.3484022617340088\n",
      "ts 23 epoch = 1000 loss = 0.3750213086605072\n",
      "ts 24 epoch = 1000 loss = 0.5144944787025452\n",
      "ts 25 epoch = 1000 loss = 0.3483201563358307\n",
      "ts 26 epoch = 1000 loss = 0.4827728867530823\n",
      "ts 27 epoch = 1000 loss = 0.3538787066936493\n",
      "ts 28 epoch = 1000 loss = 0.3250083327293396\n",
      "ts 29 epoch = 1000 loss = 0.6185522079467773\n",
      "ts 30 epoch = 1000 loss = 0.34530121088027954\n",
      "ts 31 epoch = 1000 loss = 0.45734864473342896\n",
      "ts 32 epoch = 1000 loss = 0.4815368354320526\n",
      "ts 33 epoch = 1000 loss = 0.3535488545894623\n",
      "ts 34 epoch = 1000 loss = 0.34397608041763306\n"
     ]
    }
   ],
   "source": [
    "train()"
   ]
  },
  {
   "cell_type": "code",
   "execution_count": 21,
   "id": "22e3049a",
   "metadata": {},
   "outputs": [],
   "source": [
    "label_pred_list = []\n",
    "y_true_list = []\n",
    "\n",
    "def test():\n",
    "    model.eval()\n",
    "    with torch.no_grad():\n",
    "        global label_pred_list\n",
    "        global y_true_list\n",
    "        for data in test_data:\n",
    "            data.to(device)\n",
    "            _, logits = model(data.x.float(), data.edge_index, None)\n",
    "            label_pred = logits.max(1)[1].tolist()\n",
    "            label_pred_list += label_pred\n",
    "            y_true_list += data.y.tolist()\n",
    "    model.train()"
   ]
  },
  {
   "cell_type": "code",
   "execution_count": 22,
   "id": "f3424d41",
   "metadata": {},
   "outputs": [],
   "source": [
    "test()"
   ]
  },
  {
   "cell_type": "code",
   "execution_count": 23,
   "id": "0eb9f81a",
   "metadata": {},
   "outputs": [],
   "source": [
    "from sklearn.metrics import classification_report"
   ]
  },
  {
   "cell_type": "code",
   "execution_count": 25,
   "id": "945cac21",
   "metadata": {},
   "outputs": [
    {
     "name": "stdout",
     "output_type": "stream",
     "text": [
      "              precision    recall  f1-score   support\n",
      "\n",
      "           0       0.80      0.50      0.62      1083\n",
      "           1       0.97      0.99      0.98     15587\n",
      "\n",
      "    accuracy                           0.96     16670\n",
      "   macro avg       0.88      0.75      0.80     16670\n",
      "weighted avg       0.96      0.96      0.96     16670\n",
      "\n"
     ]
    }
   ],
   "source": [
    "print(classification_report(y_true_list,label_pred_list))"
   ]
  }
 ],
 "metadata": {
  "kernelspec": {
   "display_name": "Python 3",
   "language": "python",
   "name": "python3"
  },
  "language_info": {
   "codemirror_mode": {
    "name": "ipython",
    "version": 3
   },
   "file_extension": ".py",
   "mimetype": "text/x-python",
   "name": "python",
   "nbconvert_exporter": "python",
   "pygments_lexer": "ipython3",
   "version": "3.9.5"
  }
 },
 "nbformat": 4,
 "nbformat_minor": 5
}

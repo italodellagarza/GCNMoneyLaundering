{
 "cells": [
  {
   "cell_type": "markdown",
   "id": "394d0561",
   "metadata": {},
   "source": [
    "# Implementação da Skip-GCN"
   ]
  },
  {
   "cell_type": "markdown",
   "id": "ceacf5f8",
   "metadata": {},
   "source": [
    "Implementa a variante \"skip\" da arquitetura apresentada no artigo [\"Anti-Money Laundering in Bitcoin: Experimenting with Graph Convolutional Networks for Financial Forensics\"][1]. Essa variante insere um conjunto de parâmetros novo e realiza uma multiplicação normal entre a primeira e a segunda camada escondida e soma seus resultados com os embeddings da primeira camada escondida. Foi implementado em [PyTorch Geometric][2].\n",
    "\n",
    "[1]: https://arxiv.org/pdf/1908.02591.pdf\n",
    "[2]: https://pytorch-geometric.readthedocs.io/en/latest/"
   ]
  },
  {
   "cell_type": "markdown",
   "id": "79b2227a",
   "metadata": {},
   "source": [
    "## Importando as Bibliotecas"
   ]
  },
  {
   "cell_type": "code",
   "execution_count": 1,
   "id": "edbcaa49",
   "metadata": {},
   "outputs": [],
   "source": [
    "import torch\n",
    "import torch.nn.functional as F\n",
    "import torch_geometric.nn as nn\n",
    "from sklearn.metrics import classification_report"
   ]
  },
  {
   "cell_type": "markdown",
   "id": "e426c8d5",
   "metadata": {},
   "source": [
    "## Carregando os dados"
   ]
  },
  {
   "cell_type": "code",
   "execution_count": 2,
   "id": "14705740",
   "metadata": {},
   "outputs": [],
   "source": [
    "train_data = []\n",
    "test_data = []\n",
    "\n",
    "for i in range(1,35):\n",
    "    train_data.append(torch.load('elliptic_pt/train/' + str(i) + '.pt'))\n",
    "\n",
    "for i in range(35,50):\n",
    "    test_data.append(torch.load('elliptic_pt/test/' + str(i) + '.pt'))"
   ]
  },
  {
   "cell_type": "markdown",
   "id": "2e8b8dc4",
   "metadata": {},
   "source": [
    "## Definindo o modelo"
   ]
  },
  {
   "cell_type": "code",
   "execution_count": 3,
   "id": "cd5b3779",
   "metadata": {},
   "outputs": [],
   "source": [
    "hidden_size = 100\n",
    "n_classes = 2\n",
    "\n",
    "\n",
    "class Skip_GCN(torch.nn.Module):\n",
    "    def __init__(self):\n",
    "        super(Skip_GCN, self).__init__()\n",
    "        self.conv1 = nn.GCNConv(166,100, bias=False)\n",
    "        self.act1 = torch.nn.ReLU()\n",
    "        self.conv2 = nn.GCNConv(100,2, bias=False)\n",
    "        # Conexão \"skip\".\n",
    "        self.W_skip = torch.nn.Linear(166, 2, bias=False)\n",
    "        self.act2 = torch.nn.Softmax(dim=1)\n",
    "    \n",
    "    def forward(self, x, edge_index, batch_index):\n",
    "        hidden1 = self.conv1(x, edge_index)\n",
    "        hidden1 = self.act1(hidden1)\n",
    "        hidden2 = self.conv2(hidden1, edge_index)\n",
    "        H_skip = self.W_skip(x)\n",
    "        skip_output = torch.add(hidden2, H_skip)\n",
    "        output = self.act2(skip_output)\n",
    "        \n",
    "        return hidden2, output"
   ]
  },
  {
   "cell_type": "code",
   "execution_count": 4,
   "id": "484a7901",
   "metadata": {},
   "outputs": [],
   "source": [
    "model = Skip_GCN()"
   ]
  },
  {
   "cell_type": "code",
   "execution_count": 5,
   "id": "47e43b3c",
   "metadata": {},
   "outputs": [
    {
     "data": {
      "text/plain": [
       "Skip_GCN(\n",
       "  (conv1): GCNConv(166, 100)\n",
       "  (act1): ReLU()\n",
       "  (conv2): GCNConv(100, 2)\n",
       "  (W_skip): Linear(in_features=166, out_features=2, bias=False)\n",
       "  (act2): Softmax(dim=1)\n",
       ")"
      ]
     },
     "execution_count": 5,
     "metadata": {},
     "output_type": "execute_result"
    }
   ],
   "source": [
    "model"
   ]
  },
  {
   "cell_type": "code",
   "execution_count": 6,
   "id": "27d9e8d5",
   "metadata": {},
   "outputs": [],
   "source": [
    "## Use a GPU para treinar\n",
    "device = torch.device(\"cuda:0\" if torch.cuda.is_available() else \"cpu\")\n",
    "model = model.to(device)"
   ]
  },
  {
   "cell_type": "code",
   "execution_count": 7,
   "id": "838779df",
   "metadata": {},
   "outputs": [],
   "source": [
    "loss = torch.nn.CrossEntropyLoss(weight=torch.Tensor([0.7, 0.3]))"
   ]
  },
  {
   "cell_type": "code",
   "execution_count": 8,
   "id": "10822f51",
   "metadata": {},
   "outputs": [],
   "source": [
    "optimizer = torch.optim.Adam(model.parameters(), lr=0.001)"
   ]
  },
  {
   "cell_type": "markdown",
   "id": "b75af310",
   "metadata": {},
   "source": [
    "## Treinando"
   ]
  },
  {
   "cell_type": "code",
   "execution_count": 9,
   "id": "c1c3d4f4",
   "metadata": {},
   "outputs": [],
   "source": [
    "def train():\n",
    "    model.train()\n",
    "    # Enumerar sobre os dados.\n",
    "    for epoch in range(1000):\n",
    "        for ts, data in enumerate(train_data):\n",
    "            # Usar GPU\n",
    "            data.to(device)\n",
    "            # Resetar Gradientes\n",
    "            optimizer.zero_grad()\n",
    "            # Passando as informações do batch e de conexão dos grafos\n",
    "            hidden, logits = model(data.x.float(), data.edge_index, None)\n",
    "            #label_pred = pred.max(1)[1]\n",
    "            # Calculando a perda e os gradientes.\n",
    "            l = loss(logits, data.y)\n",
    "            l.backward()\n",
    "            # Atualizar usando os gradientes.\n",
    "            optimizer.step()\n",
    "        if (epoch + 1) % 100 == 0:\n",
    "            print('ts',ts+1,'epoch =', epoch + 1, 'loss =', l.item())"
   ]
  },
  {
   "cell_type": "code",
   "execution_count": 10,
   "id": "a2db2a09",
   "metadata": {},
   "outputs": [
    {
     "name": "stdout",
     "output_type": "stream",
     "text": [
      "ts 34 epoch = 100 loss = 0.3446897566318512\n",
      "ts 34 epoch = 200 loss = 0.3351903259754181\n",
      "ts 34 epoch = 300 loss = 0.3345642685890198\n",
      "ts 34 epoch = 400 loss = 0.3300868272781372\n",
      "ts 34 epoch = 500 loss = 0.33000448346138\n",
      "ts 34 epoch = 600 loss = 0.329947829246521\n",
      "ts 34 epoch = 700 loss = 0.32987141609191895\n",
      "ts 34 epoch = 800 loss = 0.33159339427948\n",
      "ts 34 epoch = 900 loss = 0.32982337474823\n",
      "ts 34 epoch = 1000 loss = 0.3298146426677704\n"
     ]
    }
   ],
   "source": [
    "train()"
   ]
  },
  {
   "cell_type": "markdown",
   "id": "3b60f72c",
   "metadata": {},
   "source": [
    "## Testando"
   ]
  },
  {
   "cell_type": "code",
   "execution_count": 11,
   "id": "22e3049a",
   "metadata": {},
   "outputs": [],
   "source": [
    "label_pred_list = []\n",
    "y_true_list = []\n",
    "\n",
    "def test():\n",
    "    model.eval()\n",
    "    with torch.no_grad():\n",
    "        global label_pred_list\n",
    "        global y_true_list\n",
    "        for data in test_data:\n",
    "            data.to(device)\n",
    "            _, logits = model(data.x.float(), data.edge_index, None)\n",
    "            label_pred = logits.max(1)[1].tolist()\n",
    "            label_pred_list += label_pred\n",
    "            y_true_list += data.y.tolist()\n",
    "    model.train()"
   ]
  },
  {
   "cell_type": "code",
   "execution_count": 12,
   "id": "f3424d41",
   "metadata": {},
   "outputs": [],
   "source": [
    "test()"
   ]
  },
  {
   "cell_type": "markdown",
   "id": "3dc2bcd2",
   "metadata": {},
   "source": [
    "## Resultados"
   ]
  },
  {
   "cell_type": "code",
   "execution_count": 13,
   "id": "945cac21",
   "metadata": {},
   "outputs": [
    {
     "name": "stdout",
     "output_type": "stream",
     "text": [
      "              precision    recall  f1-score   support\n",
      "\n",
      "           0       0.81      0.56      0.66      1083\n",
      "           1       0.97      0.99      0.98     15587\n",
      "\n",
      "    accuracy                           0.96     16670\n",
      "   macro avg       0.89      0.78      0.82     16670\n",
      "weighted avg       0.96      0.96      0.96     16670\n",
      "\n"
     ]
    }
   ],
   "source": [
    "print(classification_report(y_true_list,label_pred_list))"
   ]
  }
 ],
 "metadata": {
  "kernelspec": {
   "display_name": "Python 3 (ipykernel)",
   "language": "python",
   "name": "python3"
  },
  "language_info": {
   "codemirror_mode": {
    "name": "ipython",
    "version": 3
   },
   "file_extension": ".py",
   "mimetype": "text/x-python",
   "name": "python",
   "nbconvert_exporter": "python",
   "pygments_lexer": "ipython3",
   "version": "3.9.10"
  }
 },
 "nbformat": 4,
 "nbformat_minor": 5
}

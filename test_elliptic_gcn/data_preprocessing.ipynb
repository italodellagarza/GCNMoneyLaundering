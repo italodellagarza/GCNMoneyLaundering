{
 "cells": [
  {
   "cell_type": "markdown",
   "id": "9e31e337",
   "metadata": {},
   "source": [
    "# Transformações no Dataset"
   ]
  },
  {
   "cell_type": "markdown",
   "id": "092735b4",
   "metadata": {},
   "source": [
    "## Sobre o Dataset\n",
    "\n",
    "Esse dataset anonimizado é um grafo de transações coletado da blockchain do Bitcoin. Um nó no grafo representa uma transação, uma aresta pode ser vista como um fluxo de bitcoins entre uma transação e outra. Cada nó possui 166 atributos e foi rotulado como tendo sido criado por uma entidade “lícita”, “ilícita” ou “desconhecida”.\n",
    "\n",
    "\n",
    "__Nós e Arestas__\n",
    "\n",
    "O grafo é composto de 203.769 nós e 234.355 arestas. Dois por cento (4.545) dos nós estão rotulados como class1 (ilícito). Vinte e um por cento (42,019) estão nomeados como class2 (lícito). As transações remanescentes não estão rotuladas como lícitas ou ilícitas.\n",
    "\n",
    "__Atributos__\n",
    "\n",
    "Existem 166 atributos associados a cada nó. Devido a problemas de propriedade intelectual, não é possível prover uma descrição exata de todos os atributos na base de dados. Há um passo de tempo associado a cada nó, representando a medida de tempo em que a transação foi emitida na rede do Botcoin. Cada passo de tempo, indo de 1 a 49, estão espaçados dentro de um intervalo médio de duas semanas. Cada passo de tempo tempo contém um único componente conectado de transações que apareceram na blockchain em menos de três horas entre uma e outra; não há arestas conectando passos de tempo diferentes\n",
    "Os primeiros 94 atributos representam a informação local sobre a transação – incluindo o tempo descrito acima, o número de entradas/saídas, a taxa de transação, volume de saída e números agregados, como o BTC médio recebido (gasto) pelas entradas/saídas e o número médio de transações de entrada (saída) associadas às entradas/saídas. Os 72 atributos restantes são atributos agregados, obtidos usando informações da transação um salto no tempo para trás/frente do nó central - tendo o máximo, mínimo, desvio padrão e coeficientes de correlação das transações vizinhas para os mesmos dados de informação (número de entradas/saídas, taxa de transação, etc.).\n",
    "\n",
    "__License__\n",
    "\n",
    "This data set is distributed under the Creative CommonsAttribution-NonCommercial-NoDerivatives License 4.0 International.\n",
    "\n",
    "__Fonte__: https://www.kaggle.com/ellipticco/elliptic-data-set"
   ]
  },
  {
   "cell_type": "markdown",
   "id": "ff2e5756",
   "metadata": {},
   "source": [
    "## Importando as Bibliotecas\n",
    "\n",
    "Esse _notebook_ converte o conjunto de dados para o padrão PyTorch Geometric, para servir de entrada para a rede neural, implementada nessa mesma biblioteca."
   ]
  },
  {
   "cell_type": "code",
   "execution_count": 10,
   "id": "652d28aa",
   "metadata": {},
   "outputs": [],
   "source": [
    "import os\n",
    "import torch\n",
    "import pandas as pd\n",
    "import numpy as np\n",
    "from torch_geometric.data import Data"
   ]
  },
  {
   "cell_type": "markdown",
   "id": "168152ac",
   "metadata": {},
   "source": [
    "## Carregar os Dados"
   ]
  },
  {
   "cell_type": "code",
   "execution_count": 2,
   "id": "5a30551a",
   "metadata": {},
   "outputs": [],
   "source": [
    "path = 'elliptic_bitcoin_dataset/'\n",
    "\n",
    "elliptic_txs_classes = pd.read_csv(path + 'elliptic_txs_classes.csv')\n",
    "elliptic_txs_edgelist = pd.read_csv(path + 'elliptic_txs_edgelist.csv')\n",
    "elliptic_txs_features = pd.read_csv(path + 'elliptic_txs_features.csv', header = None)"
   ]
  },
  {
   "cell_type": "markdown",
   "id": "6d1afcf6",
   "metadata": {},
   "source": [
    "Removendo a classe \"unknown\""
   ]
  },
  {
   "cell_type": "code",
   "execution_count": 3,
   "id": "cd2a50b4",
   "metadata": {},
   "outputs": [],
   "source": [
    "filter = [elliptic_txs_classes != 'unknown']"
   ]
  },
  {
   "cell_type": "code",
   "execution_count": 4,
   "id": "cec7f8e1",
   "metadata": {},
   "outputs": [],
   "source": [
    "filter = filter[0]['class']"
   ]
  },
  {
   "cell_type": "markdown",
   "id": "e29548b3",
   "metadata": {},
   "source": [
    "## Processamento de dados"
   ]
  },
  {
   "cell_type": "markdown",
   "id": "1fe393e4",
   "metadata": {},
   "source": [
    "### Função para ajustar a lista de arestas"
   ]
  },
  {
   "cell_type": "code",
   "execution_count": 5,
   "id": "0505c96e",
   "metadata": {},
   "outputs": [],
   "source": [
    "def feedEdgeList(row):\n",
    "    row['classv1'] = elliptic_txs_classes[elliptic_txs_classes['txId'] == row['txId1']]['class'].values[0]\n",
    "    row['classv2'] = elliptic_txs_classes[elliptic_txs_classes['txId'] == row['txId2']]['class'].values[0]\n",
    "    row['graph'] = elliptic_txs_features[elliptic_txs_features[0] == row['txId1']][1].values[0]\n",
    "    return row\n",
    "\n",
    "elliptic_txs_edgelist = elliptic_txs_edgelist.apply(feedEdgeList, axis=1)"
   ]
  },
  {
   "cell_type": "markdown",
   "id": "89312867",
   "metadata": {},
   "source": [
    "### Processando os dados"
   ]
  },
  {
   "cell_type": "code",
   "execution_count": 6,
   "id": "1448e44f",
   "metadata": {},
   "outputs": [],
   "source": [
    "def updateVerticeNumber(row, dt):\n",
    "    row['txId1'] = dt[row['txId1']]\n",
    "    row['txId2'] = dt[row['txId2']]\n",
    "    return row\n",
    "\n",
    "datas = []\n",
    "\n",
    "for i in range(1, 50):\n",
    "    features = elliptic_txs_features[filter & (elliptic_txs_features[1] == i)]\n",
    "    classes = elliptic_txs_classes[filter & (elliptic_txs_features[1] == i)]\n",
    "    index_dt = classes.reset_index()['txId'].T.to_dict()\n",
    "    index_dt = {v: k for k, v in index_dt.items()}\n",
    "    edgelist = elliptic_txs_edgelist[(elliptic_txs_edgelist['graph'] == i) & (elliptic_txs_edgelist['classv1'] != 'unknown') & (elliptic_txs_edgelist['classv2'] != 'unknown')]\n",
    "    edgelist = edgelist.apply(lambda row: updateVerticeNumber(row, index_dt), axis=1)[['txId1', 'txId2']]\n",
    "    classes = classes.astype({'class': int})\n",
    "    classes['class'] = classes['class'].apply(lambda x: x-1)\n",
    "    \n",
    "    adjacency_matrix = np.zeros((len(classes), len(classes)))\n",
    "    for i in range(len(edgelist)):\n",
    "        adjacency_matrix[edgelist.reset_index().loc[i].txId1][edgelist.reset_index().loc[i].txId2] = 1\n",
    "    \n",
    "    adjacency_matrix = torch.tensor(adjacency_matrix)\n",
    "    x = torch.tensor(features.drop(0, axis=1).values)\n",
    "    y = torch.tensor(classes['class'].values)\n",
    "    edgelist = torch.tensor(edgelist.T.values)\n",
    "    datas.append(Data(x=x, y=y, edge_index=edgelist, adjacency_matrix=adjacency_matrix))\n",
    "    "
   ]
  },
  {
   "cell_type": "code",
   "execution_count": 7,
   "id": "44ef7b28",
   "metadata": {},
   "outputs": [
    {
     "data": {
      "text/plain": [
       "[Data(x=[2147, 166], edge_index=[2, 1924], y=[2147], adjacency_matrix=[2147, 2147]),\n",
       " Data(x=[1117, 166], edge_index=[2, 858], y=[1117], adjacency_matrix=[1117, 1117]),\n",
       " Data(x=[1279, 166], edge_index=[2, 727], y=[1279], adjacency_matrix=[1279, 1279]),\n",
       " Data(x=[1440, 166], edge_index=[2, 1169], y=[1440], adjacency_matrix=[1440, 1440]),\n",
       " Data(x=[1882, 166], edge_index=[2, 1491], y=[1882], adjacency_matrix=[1882, 1882]),\n",
       " Data(x=[485, 166], edge_index=[2, 209], y=[485], adjacency_matrix=[485, 485]),\n",
       " Data(x=[1203, 166], edge_index=[2, 858], y=[1203], adjacency_matrix=[1203, 1203]),\n",
       " Data(x=[1165, 166], edge_index=[2, 1044], y=[1165], adjacency_matrix=[1165, 1165]),\n",
       " Data(x=[778, 166], edge_index=[2, 484], y=[778], adjacency_matrix=[778, 778]),\n",
       " Data(x=[972, 166], edge_index=[2, 538], y=[972], adjacency_matrix=[972, 972]),\n",
       " Data(x=[696, 166], edge_index=[2, 477], y=[696], adjacency_matrix=[696, 696]),\n",
       " Data(x=[506, 166], edge_index=[2, 446], y=[506], adjacency_matrix=[506, 506]),\n",
       " Data(x=[809, 166], edge_index=[2, 564], y=[809], adjacency_matrix=[809, 809]),\n",
       " Data(x=[417, 166], edge_index=[2, 350], y=[417], adjacency_matrix=[417, 417]),\n",
       " Data(x=[618, 166], edge_index=[2, 446], y=[618], adjacency_matrix=[618, 618]),\n",
       " Data(x=[530, 166], edge_index=[2, 334], y=[530], adjacency_matrix=[530, 530]),\n",
       " Data(x=[811, 166], edge_index=[2, 673], y=[811], adjacency_matrix=[811, 811]),\n",
       " Data(x=[389, 166], edge_index=[2, 275], y=[389], adjacency_matrix=[389, 389]),\n",
       " Data(x=[745, 166], edge_index=[2, 585], y=[745], adjacency_matrix=[745, 745]),\n",
       " Data(x=[900, 166], edge_index=[2, 613], y=[900], adjacency_matrix=[900, 900]),\n",
       " Data(x=[641, 166], edge_index=[2, 518], y=[641], adjacency_matrix=[641, 641]),\n",
       " Data(x=[1763, 166], edge_index=[2, 1537], y=[1763], adjacency_matrix=[1763, 1763]),\n",
       " Data(x=[1187, 166], edge_index=[2, 1046], y=[1187], adjacency_matrix=[1187, 1187]),\n",
       " Data(x=[1126, 166], edge_index=[2, 961], y=[1126], adjacency_matrix=[1126, 1126]),\n",
       " Data(x=[594, 166], edge_index=[2, 559], y=[594], adjacency_matrix=[594, 594]),\n",
       " Data(x=[517, 166], edge_index=[2, 346], y=[517], adjacency_matrix=[517, 517]),\n",
       " Data(x=[206, 166], edge_index=[2, 58], y=[206], adjacency_matrix=[206, 206]),\n",
       " Data(x=[284, 166], edge_index=[2, 150], y=[284], adjacency_matrix=[284, 284]),\n",
       " Data(x=[1174, 166], edge_index=[2, 911], y=[1174], adjacency_matrix=[1174, 1174]),\n",
       " Data(x=[524, 166], edge_index=[2, 372], y=[524], adjacency_matrix=[524, 524]),\n",
       " Data(x=[710, 166], edge_index=[2, 522], y=[710], adjacency_matrix=[710, 710]),\n",
       " Data(x=[1323, 166], edge_index=[2, 997], y=[1323], adjacency_matrix=[1323, 1323]),\n",
       " Data(x=[441, 166], edge_index=[2, 429], y=[441], adjacency_matrix=[441, 441]),\n",
       " Data(x=[515, 166], edge_index=[2, 427], y=[515], adjacency_matrix=[515, 515]),\n",
       " Data(x=[1341, 166], edge_index=[2, 1002], y=[1341], adjacency_matrix=[1341, 1341]),\n",
       " Data(x=[1708, 166], edge_index=[2, 1148], y=[1708], adjacency_matrix=[1708, 1708]),\n",
       " Data(x=[498, 166], edge_index=[2, 423], y=[498], adjacency_matrix=[498, 498]),\n",
       " Data(x=[756, 166], edge_index=[2, 653], y=[756], adjacency_matrix=[756, 756]),\n",
       " Data(x=[1183, 166], edge_index=[2, 1055], y=[1183], adjacency_matrix=[1183, 1183]),\n",
       " Data(x=[1211, 166], edge_index=[2, 1180], y=[1211], adjacency_matrix=[1211, 1211]),\n",
       " Data(x=[1132, 166], edge_index=[2, 1048], y=[1132], adjacency_matrix=[1132, 1132]),\n",
       " Data(x=[2154, 166], edge_index=[2, 1443], y=[2154], adjacency_matrix=[2154, 2154]),\n",
       " Data(x=[1370, 166], edge_index=[2, 935], y=[1370], adjacency_matrix=[1370, 1370]),\n",
       " Data(x=[1591, 166], edge_index=[2, 1497], y=[1591], adjacency_matrix=[1591, 1591]),\n",
       " Data(x=[1221, 166], edge_index=[2, 1346], y=[1221], adjacency_matrix=[1221, 1221]),\n",
       " Data(x=[712, 166], edge_index=[2, 388], y=[712], adjacency_matrix=[712, 712]),\n",
       " Data(x=[846, 166], edge_index=[2, 822], y=[846], adjacency_matrix=[846, 846]),\n",
       " Data(x=[471, 166], edge_index=[2, 371], y=[471], adjacency_matrix=[471, 471]),\n",
       " Data(x=[476, 166], edge_index=[2, 415], y=[476], adjacency_matrix=[476, 476])]"
      ]
     },
     "execution_count": 7,
     "metadata": {},
     "output_type": "execute_result"
    }
   ],
   "source": [
    "datas"
   ]
  },
  {
   "cell_type": "markdown",
   "id": "836783e9",
   "metadata": {},
   "source": [
    "## Salvando os Dados"
   ]
  },
  {
   "cell_type": "code",
   "execution_count": 13,
   "id": "81155043",
   "metadata": {},
   "outputs": [],
   "source": [
    "if not os.path.exists('elliptic_pt'):\n",
    "    os.mkdir('elliptic_pt')\n",
    "    os.mkdir('elliptic_pt/train')\n",
    "    os.mkdir('elliptic_pt/test')"
   ]
  },
  {
   "cell_type": "code",
   "execution_count": 14,
   "id": "a8ddbf50",
   "metadata": {},
   "outputs": [],
   "source": [
    "for i in range(0,34):\n",
    "    torch.save(datas[i], 'elliptic_pt/train/' + str(i + 1) + '.pt')\n",
    "for i in range(34,49):\n",
    "    torch.save(datas[i], 'elliptic_pt/test/' + str(i + 1) + '.pt')"
   ]
  }
 ],
 "metadata": {
  "kernelspec": {
   "display_name": "Python 3 (ipykernel)",
   "language": "python",
   "name": "python3"
  },
  "language_info": {
   "codemirror_mode": {
    "name": "ipython",
    "version": 3
   },
   "file_extension": ".py",
   "mimetype": "text/x-python",
   "name": "python",
   "nbconvert_exporter": "python",
   "pygments_lexer": "ipython3",
   "version": "3.8.10"
  }
 },
 "nbformat": 4,
 "nbformat_minor": 5
}
